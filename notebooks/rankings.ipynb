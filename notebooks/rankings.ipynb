{
 "cells": [
  {
   "cell_type": "markdown",
   "metadata": {},
   "source": [
    "## Merchant Rankings\n",
    "In this final section of the project, we identify the top 100 most suitable merchants to bring onboard to the Buy Now Pay Later initiative, along with a ranking of the top 10 merchants in each respective category. All relevant datasets including transaction data, merchant categories, historical sales data, external datasets and freshly engineered features were merged to form a single comprehensive dataset to be used for analysis."
   ]
  },
  {
   "cell_type": "markdown",
   "metadata": {},
   "source": [
    "## Final data cleaning\n",
    "\n",
    "To be usable for the final ranking scores, some features were cleaned and transformed.\n",
    "\n",
    "The average age feature from the ABS dataset is important in determining how well a merchant aligns with our target audience for the BNPL service. Our primary target demographic of consumers were aged around 25 years as people in near this prime age are more likely to benefit from BNPL services. We calculated the distance of each merchant's average customer age from the ideal age of 25. This transformation allows us to incorporate age in our linear weighting model by penalizing merchants whose customer base deviates from our target demographic.\n",
    "\n",
    "To make sure that there wasn't a single feature that dominated the ranking algorithm, we standardised the data. This step was necessary because most of the features were on different scales. "
   ]
  },
  {
   "cell_type": "markdown",
   "metadata": {},
   "source": [
    "## 4. Ranking Criteria\n",
    "\n",
    "To rank the merchants, we developed a scoring system which was aggregated from multiple predictive features. Each feature was weighted according to its importance for determining how suitable the merchant is for BNPL services.\n",
    "\n",
    "Here is the summary of the feature importance.\n",
    "\n",
    "### Key Ranking Factors:\n",
    "- **CWGR (Compound weekly growth rate)**: Merchants with higher transaction volumes were given more weight, as consistent growth in transaction volume indicates strong customer demand and scalability.\n",
    "- **Buy Now Pay Later Revenue**: Higher-value purchases, making them well-suited for BNPL offerings.\n",
    "- **Average Monthly Transactions**: Higher customer engagement, indicated by frequent and repeat purchases, was a crucial factor. Merchants with steady or growing monthly transaction rates were favored.\n",
    "- **Total Household Income**: Merchants targeting customers with higher household incomes were given additional weight, as these consumers are more likely to make larger purchases and benefit from BNPL options.\n",
    "**Age**: Consumers in the workforce aged around 25 are more likely to generate income for the BNPL service through large purchases. \n",
    "\n",
    "The following factors were penalised as we believed are negatively correlated to the suitability of merchants: Median monthly mortgage repayment, consumer fraud and merchant fraud.\n",
    "\n",
    "These factors were combined to calculate an overall score for each merchant, which was used to rank them."
   ]
  },
  {
   "cell_type": "markdown",
   "metadata": {},
   "source": [
    "Finally, here are the top rankings...\n",
    "\n",
    "Maybe say why our top choices are good (focus on high growth rate, high average monthly transactions etc.)"
   ]
  }
 ],
 "metadata": {
  "kernelspec": {
   "display_name": "Python 3",
   "language": "python",
   "name": "python3"
  },
  "language_info": {
   "name": "python",
   "version": "3.12.4"
  }
 },
 "nbformat": 4,
 "nbformat_minor": 2
}
