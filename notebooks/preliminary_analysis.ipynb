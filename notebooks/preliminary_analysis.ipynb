{
 "cells": [
  {
   "cell_type": "code",
   "execution_count": 110,
   "metadata": {},
   "outputs": [
    {
     "name": "stdout",
     "output_type": "stream",
     "text": [
      "['../test/order_datetime=2021-02-28\\\\part-00001-cfff5211-ef46-4b99-a6ed-63c9b2c7fe15.c000.snappy.parquet', '../test/order_datetime=2021-03-01\\\\part-00001-cfff5211-ef46-4b99-a6ed-63c9b2c7fe15.c000.snappy.parquet', '../test/order_datetime=2021-03-02\\\\part-00001-cfff5211-ef46-4b99-a6ed-63c9b2c7fe15.c000.snappy.parquet', '../test/order_datetime=2021-03-03\\\\part-00001-cfff5211-ef46-4b99-a6ed-63c9b2c7fe15.c000.snappy.parquet', '../test/order_datetime=2021-03-04\\\\part-00001-cfff5211-ef46-4b99-a6ed-63c9b2c7fe15.c000.snappy.parquet', '../test/order_datetime=2021-03-05\\\\part-00001-cfff5211-ef46-4b99-a6ed-63c9b2c7fe15.c000.snappy.parquet', '../test/order_datetime=2021-03-06\\\\part-00001-cfff5211-ef46-4b99-a6ed-63c9b2c7fe15.c000.snappy.parquet', '../test/order_datetime=2021-03-07\\\\part-00001-cfff5211-ef46-4b99-a6ed-63c9b2c7fe15.c000.snappy.parquet', '../test/order_datetime=2021-03-08\\\\part-00001-cfff5211-ef46-4b99-a6ed-63c9b2c7fe15.c000.snappy.parquet', '../test/order_datetime=2021-03-09\\\\part-00001-cfff5211-ef46-4b99-a6ed-63c9b2c7fe15.c000.snappy.parquet', '../test/order_datetime=2021-03-10\\\\part-00001-cfff5211-ef46-4b99-a6ed-63c9b2c7fe15.c000.snappy.parquet', '../test/order_datetime=2021-03-11\\\\part-00001-cfff5211-ef46-4b99-a6ed-63c9b2c7fe15.c000.snappy.parquet', '../test/order_datetime=2021-03-12\\\\part-00001-cfff5211-ef46-4b99-a6ed-63c9b2c7fe15.c000.snappy.parquet', '../test/order_datetime=2021-03-13\\\\part-00001-cfff5211-ef46-4b99-a6ed-63c9b2c7fe15.c000.snappy.parquet', '../test/order_datetime=2021-03-14\\\\part-00001-cfff5211-ef46-4b99-a6ed-63c9b2c7fe15.c000.snappy.parquet', '../test/order_datetime=2021-03-15\\\\part-00001-cfff5211-ef46-4b99-a6ed-63c9b2c7fe15.c000.snappy.parquet', '../test/order_datetime=2021-03-16\\\\part-00001-cfff5211-ef46-4b99-a6ed-63c9b2c7fe15.c000.snappy.parquet', '../test/order_datetime=2021-03-17\\\\part-00001-cfff5211-ef46-4b99-a6ed-63c9b2c7fe15.c000.snappy.parquet', '../test/order_datetime=2021-03-18\\\\part-00001-cfff5211-ef46-4b99-a6ed-63c9b2c7fe15.c000.snappy.parquet', '../test/order_datetime=2021-03-19\\\\part-00001-cfff5211-ef46-4b99-a6ed-63c9b2c7fe15.c000.snappy.parquet', '../test/order_datetime=2021-03-20\\\\part-00001-cfff5211-ef46-4b99-a6ed-63c9b2c7fe15.c000.snappy.parquet', '../test/order_datetime=2021-03-21\\\\part-00001-cfff5211-ef46-4b99-a6ed-63c9b2c7fe15.c000.snappy.parquet', '../test/order_datetime=2021-03-22\\\\part-00001-cfff5211-ef46-4b99-a6ed-63c9b2c7fe15.c000.snappy.parquet', '../test/order_datetime=2021-03-23\\\\part-00001-cfff5211-ef46-4b99-a6ed-63c9b2c7fe15.c000.snappy.parquet', '../test/order_datetime=2021-03-24\\\\part-00001-cfff5211-ef46-4b99-a6ed-63c9b2c7fe15.c000.snappy.parquet', '../test/order_datetime=2021-03-25\\\\part-00001-cfff5211-ef46-4b99-a6ed-63c9b2c7fe15.c000.snappy.parquet', '../test/order_datetime=2021-03-26\\\\part-00001-cfff5211-ef46-4b99-a6ed-63c9b2c7fe15.c000.snappy.parquet', '../test/order_datetime=2021-03-27\\\\part-00001-cfff5211-ef46-4b99-a6ed-63c9b2c7fe15.c000.snappy.parquet', '../test/order_datetime=2021-03-28\\\\part-00001-cfff5211-ef46-4b99-a6ed-63c9b2c7fe15.c000.snappy.parquet', '../test/order_datetime=2021-03-29\\\\part-00001-cfff5211-ef46-4b99-a6ed-63c9b2c7fe15.c000.snappy.parquet', '../test/order_datetime=2021-03-30\\\\part-00001-cfff5211-ef46-4b99-a6ed-63c9b2c7fe15.c000.snappy.parquet', '../test/order_datetime=2021-03-31\\\\part-00001-cfff5211-ef46-4b99-a6ed-63c9b2c7fe15.c000.snappy.parquet', '../test/order_datetime=2021-04-01\\\\part-00001-cfff5211-ef46-4b99-a6ed-63c9b2c7fe15.c000.snappy.parquet', '../test/order_datetime=2021-04-02\\\\part-00001-cfff5211-ef46-4b99-a6ed-63c9b2c7fe15.c000.snappy.parquet', '../test/order_datetime=2021-04-03\\\\part-00001-cfff5211-ef46-4b99-a6ed-63c9b2c7fe15.c000.snappy.parquet', '../test/order_datetime=2021-04-04\\\\part-00001-cfff5211-ef46-4b99-a6ed-63c9b2c7fe15.c000.snappy.parquet', '../test/order_datetime=2021-04-05\\\\part-00001-cfff5211-ef46-4b99-a6ed-63c9b2c7fe15.c000.snappy.parquet', '../test/order_datetime=2021-04-06\\\\part-00001-cfff5211-ef46-4b99-a6ed-63c9b2c7fe15.c000.snappy.parquet', '../test/order_datetime=2021-04-07\\\\part-00001-cfff5211-ef46-4b99-a6ed-63c9b2c7fe15.c000.snappy.parquet', '../test/order_datetime=2021-04-08\\\\part-00001-cfff5211-ef46-4b99-a6ed-63c9b2c7fe15.c000.snappy.parquet', '../test/order_datetime=2021-04-09\\\\part-00001-cfff5211-ef46-4b99-a6ed-63c9b2c7fe15.c000.snappy.parquet', '../test/order_datetime=2021-04-10\\\\part-00001-cfff5211-ef46-4b99-a6ed-63c9b2c7fe15.c000.snappy.parquet', '../test/order_datetime=2021-04-11\\\\part-00001-cfff5211-ef46-4b99-a6ed-63c9b2c7fe15.c000.snappy.parquet', '../test/order_datetime=2021-04-12\\\\part-00001-cfff5211-ef46-4b99-a6ed-63c9b2c7fe15.c000.snappy.parquet', '../test/order_datetime=2021-04-13\\\\part-00001-cfff5211-ef46-4b99-a6ed-63c9b2c7fe15.c000.snappy.parquet', '../test/order_datetime=2021-04-14\\\\part-00001-cfff5211-ef46-4b99-a6ed-63c9b2c7fe15.c000.snappy.parquet', '../test/order_datetime=2021-04-15\\\\part-00001-cfff5211-ef46-4b99-a6ed-63c9b2c7fe15.c000.snappy.parquet', '../test/order_datetime=2021-04-16\\\\part-00001-cfff5211-ef46-4b99-a6ed-63c9b2c7fe15.c000.snappy.parquet', '../test/order_datetime=2021-04-17\\\\part-00001-cfff5211-ef46-4b99-a6ed-63c9b2c7fe15.c000.snappy.parquet', '../test/order_datetime=2021-04-18\\\\part-00001-cfff5211-ef46-4b99-a6ed-63c9b2c7fe15.c000.snappy.parquet', '../test/order_datetime=2021-04-19\\\\part-00001-cfff5211-ef46-4b99-a6ed-63c9b2c7fe15.c000.snappy.parquet', '../test/order_datetime=2021-04-20\\\\part-00001-cfff5211-ef46-4b99-a6ed-63c9b2c7fe15.c000.snappy.parquet', '../test/order_datetime=2021-04-21\\\\part-00001-cfff5211-ef46-4b99-a6ed-63c9b2c7fe15.c000.snappy.parquet', '../test/order_datetime=2021-04-22\\\\part-00001-cfff5211-ef46-4b99-a6ed-63c9b2c7fe15.c000.snappy.parquet', '../test/order_datetime=2021-04-23\\\\part-00001-cfff5211-ef46-4b99-a6ed-63c9b2c7fe15.c000.snappy.parquet', '../test/order_datetime=2021-04-24\\\\part-00001-cfff5211-ef46-4b99-a6ed-63c9b2c7fe15.c000.snappy.parquet', '../test/order_datetime=2021-04-25\\\\part-00001-cfff5211-ef46-4b99-a6ed-63c9b2c7fe15.c000.snappy.parquet', '../test/order_datetime=2021-04-26\\\\part-00001-cfff5211-ef46-4b99-a6ed-63c9b2c7fe15.c000.snappy.parquet', '../test/order_datetime=2021-04-27\\\\part-00001-cfff5211-ef46-4b99-a6ed-63c9b2c7fe15.c000.snappy.parquet', '../test/order_datetime=2021-04-28\\\\part-00001-cfff5211-ef46-4b99-a6ed-63c9b2c7fe15.c000.snappy.parquet', '../test/order_datetime=2021-04-29\\\\part-00001-cfff5211-ef46-4b99-a6ed-63c9b2c7fe15.c000.snappy.parquet', '../test/order_datetime=2021-04-30\\\\part-00001-cfff5211-ef46-4b99-a6ed-63c9b2c7fe15.c000.snappy.parquet', '../test/order_datetime=2021-05-01\\\\part-00001-cfff5211-ef46-4b99-a6ed-63c9b2c7fe15.c000.snappy.parquet', '../test/order_datetime=2021-05-02\\\\part-00001-cfff5211-ef46-4b99-a6ed-63c9b2c7fe15.c000.snappy.parquet', '../test/order_datetime=2021-05-03\\\\part-00001-cfff5211-ef46-4b99-a6ed-63c9b2c7fe15.c000.snappy.parquet', '../test/order_datetime=2021-05-04\\\\part-00001-cfff5211-ef46-4b99-a6ed-63c9b2c7fe15.c000.snappy.parquet', '../test/order_datetime=2021-05-05\\\\part-00001-cfff5211-ef46-4b99-a6ed-63c9b2c7fe15.c000.snappy.parquet', '../test/order_datetime=2021-05-06\\\\part-00001-cfff5211-ef46-4b99-a6ed-63c9b2c7fe15.c000.snappy.parquet', '../test/order_datetime=2021-05-07\\\\part-00001-cfff5211-ef46-4b99-a6ed-63c9b2c7fe15.c000.snappy.parquet', '../test/order_datetime=2021-05-08\\\\part-00001-cfff5211-ef46-4b99-a6ed-63c9b2c7fe15.c000.snappy.parquet', '../test/order_datetime=2021-05-09\\\\part-00001-cfff5211-ef46-4b99-a6ed-63c9b2c7fe15.c000.snappy.parquet', '../test/order_datetime=2021-05-10\\\\part-00001-cfff5211-ef46-4b99-a6ed-63c9b2c7fe15.c000.snappy.parquet', '../test/order_datetime=2021-05-11\\\\part-00001-cfff5211-ef46-4b99-a6ed-63c9b2c7fe15.c000.snappy.parquet', '../test/order_datetime=2021-05-12\\\\part-00001-cfff5211-ef46-4b99-a6ed-63c9b2c7fe15.c000.snappy.parquet', '../test/order_datetime=2021-05-13\\\\part-00001-cfff5211-ef46-4b99-a6ed-63c9b2c7fe15.c000.snappy.parquet', '../test/order_datetime=2021-05-14\\\\part-00001-cfff5211-ef46-4b99-a6ed-63c9b2c7fe15.c000.snappy.parquet', '../test/order_datetime=2021-05-15\\\\part-00001-cfff5211-ef46-4b99-a6ed-63c9b2c7fe15.c000.snappy.parquet', '../test/order_datetime=2021-05-16\\\\part-00001-cfff5211-ef46-4b99-a6ed-63c9b2c7fe15.c000.snappy.parquet', '../test/order_datetime=2021-05-17\\\\part-00001-cfff5211-ef46-4b99-a6ed-63c9b2c7fe15.c000.snappy.parquet', '../test/order_datetime=2021-05-18\\\\part-00001-cfff5211-ef46-4b99-a6ed-63c9b2c7fe15.c000.snappy.parquet', '../test/order_datetime=2021-05-19\\\\part-00001-cfff5211-ef46-4b99-a6ed-63c9b2c7fe15.c000.snappy.parquet', '../test/order_datetime=2021-05-20\\\\part-00001-cfff5211-ef46-4b99-a6ed-63c9b2c7fe15.c000.snappy.parquet', '../test/order_datetime=2021-05-21\\\\part-00001-cfff5211-ef46-4b99-a6ed-63c9b2c7fe15.c000.snappy.parquet', '../test/order_datetime=2021-05-22\\\\part-00001-cfff5211-ef46-4b99-a6ed-63c9b2c7fe15.c000.snappy.parquet', '../test/order_datetime=2021-05-23\\\\part-00001-cfff5211-ef46-4b99-a6ed-63c9b2c7fe15.c000.snappy.parquet', '../test/order_datetime=2021-05-24\\\\part-00001-cfff5211-ef46-4b99-a6ed-63c9b2c7fe15.c000.snappy.parquet', '../test/order_datetime=2021-05-25\\\\part-00001-cfff5211-ef46-4b99-a6ed-63c9b2c7fe15.c000.snappy.parquet', '../test/order_datetime=2021-05-26\\\\part-00001-cfff5211-ef46-4b99-a6ed-63c9b2c7fe15.c000.snappy.parquet', '../test/order_datetime=2021-05-27\\\\part-00001-cfff5211-ef46-4b99-a6ed-63c9b2c7fe15.c000.snappy.parquet', '../test/order_datetime=2021-05-28\\\\part-00001-cfff5211-ef46-4b99-a6ed-63c9b2c7fe15.c000.snappy.parquet', '../test/order_datetime=2021-05-29\\\\part-00001-cfff5211-ef46-4b99-a6ed-63c9b2c7fe15.c000.snappy.parquet', '../test/order_datetime=2021-05-30\\\\part-00001-cfff5211-ef46-4b99-a6ed-63c9b2c7fe15.c000.snappy.parquet', '../test/order_datetime=2021-05-31\\\\part-00001-cfff5211-ef46-4b99-a6ed-63c9b2c7fe15.c000.snappy.parquet', '../test/order_datetime=2021-06-01\\\\part-00001-cfff5211-ef46-4b99-a6ed-63c9b2c7fe15.c000.snappy.parquet', '../test/order_datetime=2021-06-02\\\\part-00001-cfff5211-ef46-4b99-a6ed-63c9b2c7fe15.c000.snappy.parquet', '../test/order_datetime=2021-06-03\\\\part-00001-cfff5211-ef46-4b99-a6ed-63c9b2c7fe15.c000.snappy.parquet', '../test/order_datetime=2021-06-04\\\\part-00001-cfff5211-ef46-4b99-a6ed-63c9b2c7fe15.c000.snappy.parquet', '../test/order_datetime=2021-06-05\\\\part-00001-cfff5211-ef46-4b99-a6ed-63c9b2c7fe15.c000.snappy.parquet', '../test/order_datetime=2021-06-06\\\\part-00001-cfff5211-ef46-4b99-a6ed-63c9b2c7fe15.c000.snappy.parquet', '../test/order_datetime=2021-06-07\\\\part-00001-cfff5211-ef46-4b99-a6ed-63c9b2c7fe15.c000.snappy.parquet', '../test/order_datetime=2021-06-08\\\\part-00001-cfff5211-ef46-4b99-a6ed-63c9b2c7fe15.c000.snappy.parquet', '../test/order_datetime=2021-06-09\\\\part-00001-cfff5211-ef46-4b99-a6ed-63c9b2c7fe15.c000.snappy.parquet', '../test/order_datetime=2021-06-10\\\\part-00001-cfff5211-ef46-4b99-a6ed-63c9b2c7fe15.c000.snappy.parquet', '../test/order_datetime=2021-06-11\\\\part-00001-cfff5211-ef46-4b99-a6ed-63c9b2c7fe15.c000.snappy.parquet', '../test/order_datetime=2021-06-12\\\\part-00001-cfff5211-ef46-4b99-a6ed-63c9b2c7fe15.c000.snappy.parquet', '../test/order_datetime=2021-06-13\\\\part-00001-cfff5211-ef46-4b99-a6ed-63c9b2c7fe15.c000.snappy.parquet', '../test/order_datetime=2021-06-14\\\\part-00001-cfff5211-ef46-4b99-a6ed-63c9b2c7fe15.c000.snappy.parquet', '../test/order_datetime=2021-06-15\\\\part-00001-cfff5211-ef46-4b99-a6ed-63c9b2c7fe15.c000.snappy.parquet', '../test/order_datetime=2021-06-16\\\\part-00001-cfff5211-ef46-4b99-a6ed-63c9b2c7fe15.c000.snappy.parquet', '../test/order_datetime=2021-06-17\\\\part-00001-cfff5211-ef46-4b99-a6ed-63c9b2c7fe15.c000.snappy.parquet', '../test/order_datetime=2021-06-18\\\\part-00001-cfff5211-ef46-4b99-a6ed-63c9b2c7fe15.c000.snappy.parquet', '../test/order_datetime=2021-06-19\\\\part-00001-cfff5211-ef46-4b99-a6ed-63c9b2c7fe15.c000.snappy.parquet', '../test/order_datetime=2021-06-20\\\\part-00001-cfff5211-ef46-4b99-a6ed-63c9b2c7fe15.c000.snappy.parquet', '../test/order_datetime=2021-06-21\\\\part-00001-cfff5211-ef46-4b99-a6ed-63c9b2c7fe15.c000.snappy.parquet', '../test/order_datetime=2021-06-22\\\\part-00001-cfff5211-ef46-4b99-a6ed-63c9b2c7fe15.c000.snappy.parquet', '../test/order_datetime=2021-06-23\\\\part-00001-cfff5211-ef46-4b99-a6ed-63c9b2c7fe15.c000.snappy.parquet', '../test/order_datetime=2021-06-24\\\\part-00001-cfff5211-ef46-4b99-a6ed-63c9b2c7fe15.c000.snappy.parquet', '../test/order_datetime=2021-06-25\\\\part-00001-cfff5211-ef46-4b99-a6ed-63c9b2c7fe15.c000.snappy.parquet', '../test/order_datetime=2021-06-26\\\\part-00001-cfff5211-ef46-4b99-a6ed-63c9b2c7fe15.c000.snappy.parquet', '../test/order_datetime=2021-06-27\\\\part-00001-cfff5211-ef46-4b99-a6ed-63c9b2c7fe15.c000.snappy.parquet', '../test/order_datetime=2021-06-28\\\\part-00001-cfff5211-ef46-4b99-a6ed-63c9b2c7fe15.c000.snappy.parquet', '../test/order_datetime=2021-06-29\\\\part-00001-cfff5211-ef46-4b99-a6ed-63c9b2c7fe15.c000.snappy.parquet', '../test/order_datetime=2021-06-30\\\\part-00001-cfff5211-ef46-4b99-a6ed-63c9b2c7fe15.c000.snappy.parquet', '../test/order_datetime=2021-07-01\\\\part-00001-cfff5211-ef46-4b99-a6ed-63c9b2c7fe15.c000.snappy.parquet', '../test/order_datetime=2021-07-02\\\\part-00001-cfff5211-ef46-4b99-a6ed-63c9b2c7fe15.c000.snappy.parquet', '../test/order_datetime=2021-07-03\\\\part-00001-cfff5211-ef46-4b99-a6ed-63c9b2c7fe15.c000.snappy.parquet', '../test/order_datetime=2021-07-04\\\\part-00001-cfff5211-ef46-4b99-a6ed-63c9b2c7fe15.c000.snappy.parquet', '../test/order_datetime=2021-07-05\\\\part-00001-cfff5211-ef46-4b99-a6ed-63c9b2c7fe15.c000.snappy.parquet', '../test/order_datetime=2021-07-06\\\\part-00001-cfff5211-ef46-4b99-a6ed-63c9b2c7fe15.c000.snappy.parquet', '../test/order_datetime=2021-07-07\\\\part-00001-cfff5211-ef46-4b99-a6ed-63c9b2c7fe15.c000.snappy.parquet', '../test/order_datetime=2021-07-08\\\\part-00001-cfff5211-ef46-4b99-a6ed-63c9b2c7fe15.c000.snappy.parquet', '../test/order_datetime=2021-07-09\\\\part-00001-cfff5211-ef46-4b99-a6ed-63c9b2c7fe15.c000.snappy.parquet', '../test/order_datetime=2021-07-10\\\\part-00001-cfff5211-ef46-4b99-a6ed-63c9b2c7fe15.c000.snappy.parquet', '../test/order_datetime=2021-07-11\\\\part-00001-cfff5211-ef46-4b99-a6ed-63c9b2c7fe15.c000.snappy.parquet', '../test/order_datetime=2021-07-12\\\\part-00001-cfff5211-ef46-4b99-a6ed-63c9b2c7fe15.c000.snappy.parquet', '../test/order_datetime=2021-07-13\\\\part-00001-cfff5211-ef46-4b99-a6ed-63c9b2c7fe15.c000.snappy.parquet', '../test/order_datetime=2021-07-14\\\\part-00001-cfff5211-ef46-4b99-a6ed-63c9b2c7fe15.c000.snappy.parquet', '../test/order_datetime=2021-07-15\\\\part-00001-cfff5211-ef46-4b99-a6ed-63c9b2c7fe15.c000.snappy.parquet', '../test/order_datetime=2021-07-16\\\\part-00001-cfff5211-ef46-4b99-a6ed-63c9b2c7fe15.c000.snappy.parquet', '../test/order_datetime=2021-07-17\\\\part-00001-cfff5211-ef46-4b99-a6ed-63c9b2c7fe15.c000.snappy.parquet', '../test/order_datetime=2021-07-18\\\\part-00001-cfff5211-ef46-4b99-a6ed-63c9b2c7fe15.c000.snappy.parquet', '../test/order_datetime=2021-07-19\\\\part-00001-cfff5211-ef46-4b99-a6ed-63c9b2c7fe15.c000.snappy.parquet', '../test/order_datetime=2021-07-20\\\\part-00001-cfff5211-ef46-4b99-a6ed-63c9b2c7fe15.c000.snappy.parquet', '../test/order_datetime=2021-07-21\\\\part-00001-cfff5211-ef46-4b99-a6ed-63c9b2c7fe15.c000.snappy.parquet', '../test/order_datetime=2021-07-22\\\\part-00001-cfff5211-ef46-4b99-a6ed-63c9b2c7fe15.c000.snappy.parquet', '../test/order_datetime=2021-07-23\\\\part-00001-cfff5211-ef46-4b99-a6ed-63c9b2c7fe15.c000.snappy.parquet', '../test/order_datetime=2021-07-24\\\\part-00001-cfff5211-ef46-4b99-a6ed-63c9b2c7fe15.c000.snappy.parquet', '../test/order_datetime=2021-07-25\\\\part-00001-cfff5211-ef46-4b99-a6ed-63c9b2c7fe15.c000.snappy.parquet', '../test/order_datetime=2021-07-26\\\\part-00001-cfff5211-ef46-4b99-a6ed-63c9b2c7fe15.c000.snappy.parquet', '../test/order_datetime=2021-07-27\\\\part-00001-cfff5211-ef46-4b99-a6ed-63c9b2c7fe15.c000.snappy.parquet', '../test/order_datetime=2021-07-28\\\\part-00001-cfff5211-ef46-4b99-a6ed-63c9b2c7fe15.c000.snappy.parquet', '../test/order_datetime=2021-07-29\\\\part-00001-cfff5211-ef46-4b99-a6ed-63c9b2c7fe15.c000.snappy.parquet', '../test/order_datetime=2021-07-30\\\\part-00001-cfff5211-ef46-4b99-a6ed-63c9b2c7fe15.c000.snappy.parquet', '../test/order_datetime=2021-07-31\\\\part-00001-cfff5211-ef46-4b99-a6ed-63c9b2c7fe15.c000.snappy.parquet', '../test/order_datetime=2021-08-01\\\\part-00001-cfff5211-ef46-4b99-a6ed-63c9b2c7fe15.c000.snappy.parquet', '../test/order_datetime=2021-08-02\\\\part-00001-cfff5211-ef46-4b99-a6ed-63c9b2c7fe15.c000.snappy.parquet', '../test/order_datetime=2021-08-03\\\\part-00001-cfff5211-ef46-4b99-a6ed-63c9b2c7fe15.c000.snappy.parquet', '../test/order_datetime=2021-08-04\\\\part-00001-cfff5211-ef46-4b99-a6ed-63c9b2c7fe15.c000.snappy.parquet', '../test/order_datetime=2021-08-05\\\\part-00001-cfff5211-ef46-4b99-a6ed-63c9b2c7fe15.c000.snappy.parquet', '../test/order_datetime=2021-08-06\\\\part-00001-cfff5211-ef46-4b99-a6ed-63c9b2c7fe15.c000.snappy.parquet', '../test/order_datetime=2021-08-07\\\\part-00001-cfff5211-ef46-4b99-a6ed-63c9b2c7fe15.c000.snappy.parquet', '../test/order_datetime=2021-08-08\\\\part-00001-cfff5211-ef46-4b99-a6ed-63c9b2c7fe15.c000.snappy.parquet', '../test/order_datetime=2021-08-09\\\\part-00001-cfff5211-ef46-4b99-a6ed-63c9b2c7fe15.c000.snappy.parquet', '../test/order_datetime=2021-08-10\\\\part-00001-cfff5211-ef46-4b99-a6ed-63c9b2c7fe15.c000.snappy.parquet', '../test/order_datetime=2021-08-11\\\\part-00001-cfff5211-ef46-4b99-a6ed-63c9b2c7fe15.c000.snappy.parquet', '../test/order_datetime=2021-08-12\\\\part-00001-cfff5211-ef46-4b99-a6ed-63c9b2c7fe15.c000.snappy.parquet', '../test/order_datetime=2021-08-13\\\\part-00001-cfff5211-ef46-4b99-a6ed-63c9b2c7fe15.c000.snappy.parquet', '../test/order_datetime=2021-08-14\\\\part-00001-cfff5211-ef46-4b99-a6ed-63c9b2c7fe15.c000.snappy.parquet', '../test/order_datetime=2021-08-15\\\\part-00001-cfff5211-ef46-4b99-a6ed-63c9b2c7fe15.c000.snappy.parquet', '../test/order_datetime=2021-08-16\\\\part-00001-cfff5211-ef46-4b99-a6ed-63c9b2c7fe15.c000.snappy.parquet', '../test/order_datetime=2021-08-17\\\\part-00001-cfff5211-ef46-4b99-a6ed-63c9b2c7fe15.c000.snappy.parquet', '../test/order_datetime=2021-08-18\\\\part-00001-cfff5211-ef46-4b99-a6ed-63c9b2c7fe15.c000.snappy.parquet', '../test/order_datetime=2021-08-19\\\\part-00001-cfff5211-ef46-4b99-a6ed-63c9b2c7fe15.c000.snappy.parquet', '../test/order_datetime=2021-08-20\\\\part-00001-cfff5211-ef46-4b99-a6ed-63c9b2c7fe15.c000.snappy.parquet', '../test/order_datetime=2021-08-21\\\\part-00001-cfff5211-ef46-4b99-a6ed-63c9b2c7fe15.c000.snappy.parquet', '../test/order_datetime=2021-08-22\\\\part-00001-cfff5211-ef46-4b99-a6ed-63c9b2c7fe15.c000.snappy.parquet', '../test/order_datetime=2021-08-23\\\\part-00001-cfff5211-ef46-4b99-a6ed-63c9b2c7fe15.c000.snappy.parquet', '../test/order_datetime=2021-08-24\\\\part-00001-cfff5211-ef46-4b99-a6ed-63c9b2c7fe15.c000.snappy.parquet', '../test/order_datetime=2021-08-25\\\\part-00001-cfff5211-ef46-4b99-a6ed-63c9b2c7fe15.c000.snappy.parquet', '../test/order_datetime=2021-08-26\\\\part-00001-cfff5211-ef46-4b99-a6ed-63c9b2c7fe15.c000.snappy.parquet', '../test/order_datetime=2021-08-27\\\\part-00001-cfff5211-ef46-4b99-a6ed-63c9b2c7fe15.c000.snappy.parquet', '../test/order_datetime=2021-08-28\\\\part-00003-b265e002-bffa-4201-a2a4-590ab25f4477.c000.snappy.parquet', '../test/order_datetime=2021-08-29\\\\part-00003-b265e002-bffa-4201-a2a4-590ab25f4477.c000.snappy.parquet', '../test/order_datetime=2021-08-30\\\\part-00003-b265e002-bffa-4201-a2a4-590ab25f4477.c000.snappy.parquet', '../test/order_datetime=2021-08-31\\\\part-00003-b265e002-bffa-4201-a2a4-590ab25f4477.c000.snappy.parquet', '../test/order_datetime=2021-09-01\\\\part-00003-b265e002-bffa-4201-a2a4-590ab25f4477.c000.snappy.parquet', '../test/order_datetime=2021-09-02\\\\part-00003-b265e002-bffa-4201-a2a4-590ab25f4477.c000.snappy.parquet', '../test/order_datetime=2021-09-03\\\\part-00003-b265e002-bffa-4201-a2a4-590ab25f4477.c000.snappy.parquet', '../test/order_datetime=2021-09-04\\\\part-00003-b265e002-bffa-4201-a2a4-590ab25f4477.c000.snappy.parquet', '../test/order_datetime=2021-09-05\\\\part-00003-b265e002-bffa-4201-a2a4-590ab25f4477.c000.snappy.parquet', '../test/order_datetime=2021-09-06\\\\part-00003-b265e002-bffa-4201-a2a4-590ab25f4477.c000.snappy.parquet', '../test/order_datetime=2021-09-07\\\\part-00003-b265e002-bffa-4201-a2a4-590ab25f4477.c000.snappy.parquet', '../test/order_datetime=2021-09-08\\\\part-00003-b265e002-bffa-4201-a2a4-590ab25f4477.c000.snappy.parquet', '../test/order_datetime=2021-09-09\\\\part-00003-b265e002-bffa-4201-a2a4-590ab25f4477.c000.snappy.parquet', '../test/order_datetime=2021-09-10\\\\part-00003-b265e002-bffa-4201-a2a4-590ab25f4477.c000.snappy.parquet', '../test/order_datetime=2021-09-11\\\\part-00003-b265e002-bffa-4201-a2a4-590ab25f4477.c000.snappy.parquet', '../test/order_datetime=2021-09-12\\\\part-00003-b265e002-bffa-4201-a2a4-590ab25f4477.c000.snappy.parquet', '../test/order_datetime=2021-09-13\\\\part-00003-b265e002-bffa-4201-a2a4-590ab25f4477.c000.snappy.parquet', '../test/order_datetime=2021-09-14\\\\part-00003-b265e002-bffa-4201-a2a4-590ab25f4477.c000.snappy.parquet', '../test/order_datetime=2021-09-15\\\\part-00003-b265e002-bffa-4201-a2a4-590ab25f4477.c000.snappy.parquet', '../test/order_datetime=2021-09-16\\\\part-00003-b265e002-bffa-4201-a2a4-590ab25f4477.c000.snappy.parquet', '../test/order_datetime=2021-09-17\\\\part-00003-b265e002-bffa-4201-a2a4-590ab25f4477.c000.snappy.parquet', '../test/order_datetime=2021-09-18\\\\part-00003-b265e002-bffa-4201-a2a4-590ab25f4477.c000.snappy.parquet', '../test/order_datetime=2021-09-19\\\\part-00003-b265e002-bffa-4201-a2a4-590ab25f4477.c000.snappy.parquet', '../test/order_datetime=2021-09-20\\\\part-00003-b265e002-bffa-4201-a2a4-590ab25f4477.c000.snappy.parquet', '../test/order_datetime=2021-09-21\\\\part-00003-b265e002-bffa-4201-a2a4-590ab25f4477.c000.snappy.parquet', '../test/order_datetime=2021-09-22\\\\part-00003-b265e002-bffa-4201-a2a4-590ab25f4477.c000.snappy.parquet', '../test/order_datetime=2021-09-23\\\\part-00003-b265e002-bffa-4201-a2a4-590ab25f4477.c000.snappy.parquet', '../test/order_datetime=2021-09-24\\\\part-00003-b265e002-bffa-4201-a2a4-590ab25f4477.c000.snappy.parquet', '../test/order_datetime=2021-09-25\\\\part-00003-b265e002-bffa-4201-a2a4-590ab25f4477.c000.snappy.parquet', '../test/order_datetime=2021-09-26\\\\part-00003-b265e002-bffa-4201-a2a4-590ab25f4477.c000.snappy.parquet', '../test/order_datetime=2021-09-27\\\\part-00003-b265e002-bffa-4201-a2a4-590ab25f4477.c000.snappy.parquet', '../test/order_datetime=2021-09-28\\\\part-00003-b265e002-bffa-4201-a2a4-590ab25f4477.c000.snappy.parquet', '../test/order_datetime=2021-09-29\\\\part-00003-b265e002-bffa-4201-a2a4-590ab25f4477.c000.snappy.parquet', '../test/order_datetime=2021-09-30\\\\part-00003-b265e002-bffa-4201-a2a4-590ab25f4477.c000.snappy.parquet', '../test/order_datetime=2021-10-01\\\\part-00003-b265e002-bffa-4201-a2a4-590ab25f4477.c000.snappy.parquet', '../test/order_datetime=2021-10-02\\\\part-00003-b265e002-bffa-4201-a2a4-590ab25f4477.c000.snappy.parquet', '../test/order_datetime=2021-10-03\\\\part-00003-b265e002-bffa-4201-a2a4-590ab25f4477.c000.snappy.parquet', '../test/order_datetime=2021-10-04\\\\part-00003-b265e002-bffa-4201-a2a4-590ab25f4477.c000.snappy.parquet', '../test/order_datetime=2021-10-05\\\\part-00003-b265e002-bffa-4201-a2a4-590ab25f4477.c000.snappy.parquet', '../test/order_datetime=2021-10-06\\\\part-00003-b265e002-bffa-4201-a2a4-590ab25f4477.c000.snappy.parquet', '../test/order_datetime=2021-10-07\\\\part-00003-b265e002-bffa-4201-a2a4-590ab25f4477.c000.snappy.parquet', '../test/order_datetime=2021-10-08\\\\part-00003-b265e002-bffa-4201-a2a4-590ab25f4477.c000.snappy.parquet', '../test/order_datetime=2021-10-09\\\\part-00003-b265e002-bffa-4201-a2a4-590ab25f4477.c000.snappy.parquet', '../test/order_datetime=2021-10-10\\\\part-00003-b265e002-bffa-4201-a2a4-590ab25f4477.c000.snappy.parquet', '../test/order_datetime=2021-10-11\\\\part-00003-b265e002-bffa-4201-a2a4-590ab25f4477.c000.snappy.parquet', '../test/order_datetime=2021-10-12\\\\part-00003-b265e002-bffa-4201-a2a4-590ab25f4477.c000.snappy.parquet', '../test/order_datetime=2021-10-13\\\\part-00003-b265e002-bffa-4201-a2a4-590ab25f4477.c000.snappy.parquet', '../test/order_datetime=2021-10-14\\\\part-00003-b265e002-bffa-4201-a2a4-590ab25f4477.c000.snappy.parquet', '../test/order_datetime=2021-10-15\\\\part-00003-b265e002-bffa-4201-a2a4-590ab25f4477.c000.snappy.parquet', '../test/order_datetime=2021-10-16\\\\part-00003-b265e002-bffa-4201-a2a4-590ab25f4477.c000.snappy.parquet', '../test/order_datetime=2021-10-17\\\\part-00003-b265e002-bffa-4201-a2a4-590ab25f4477.c000.snappy.parquet', '../test/order_datetime=2021-10-18\\\\part-00003-b265e002-bffa-4201-a2a4-590ab25f4477.c000.snappy.parquet', '../test/order_datetime=2021-10-19\\\\part-00003-b265e002-bffa-4201-a2a4-590ab25f4477.c000.snappy.parquet', '../test/order_datetime=2021-10-20\\\\part-00003-b265e002-bffa-4201-a2a4-590ab25f4477.c000.snappy.parquet', '../test/order_datetime=2021-10-21\\\\part-00003-b265e002-bffa-4201-a2a4-590ab25f4477.c000.snappy.parquet', '../test/order_datetime=2021-10-22\\\\part-00003-b265e002-bffa-4201-a2a4-590ab25f4477.c000.snappy.parquet', '../test/order_datetime=2021-10-23\\\\part-00003-b265e002-bffa-4201-a2a4-590ab25f4477.c000.snappy.parquet', '../test/order_datetime=2021-10-24\\\\part-00003-b265e002-bffa-4201-a2a4-590ab25f4477.c000.snappy.parquet', '../test/order_datetime=2021-10-25\\\\part-00003-b265e002-bffa-4201-a2a4-590ab25f4477.c000.snappy.parquet', '../test/order_datetime=2021-10-26\\\\part-00003-b265e002-bffa-4201-a2a4-590ab25f4477.c000.snappy.parquet', '../test/order_datetime=2021-10-27\\\\part-00003-b265e002-bffa-4201-a2a4-590ab25f4477.c000.snappy.parquet', '../test/order_datetime=2021-10-28\\\\part-00003-b265e002-bffa-4201-a2a4-590ab25f4477.c000.snappy.parquet', '../test/order_datetime=2021-10-29\\\\part-00003-b265e002-bffa-4201-a2a4-590ab25f4477.c000.snappy.parquet', '../test/order_datetime=2021-10-30\\\\part-00003-b265e002-bffa-4201-a2a4-590ab25f4477.c000.snappy.parquet', '../test/order_datetime=2021-10-31\\\\part-00003-b265e002-bffa-4201-a2a4-590ab25f4477.c000.snappy.parquet', '../test/order_datetime=2021-11-01\\\\part-00003-b265e002-bffa-4201-a2a4-590ab25f4477.c000.snappy.parquet', '../test/order_datetime=2021-11-02\\\\part-00003-b265e002-bffa-4201-a2a4-590ab25f4477.c000.snappy.parquet', '../test/order_datetime=2021-11-03\\\\part-00003-b265e002-bffa-4201-a2a4-590ab25f4477.c000.snappy.parquet', '../test/order_datetime=2021-11-04\\\\part-00003-b265e002-bffa-4201-a2a4-590ab25f4477.c000.snappy.parquet', '../test/order_datetime=2021-11-05\\\\part-00003-b265e002-bffa-4201-a2a4-590ab25f4477.c000.snappy.parquet', '../test/order_datetime=2021-11-06\\\\part-00003-b265e002-bffa-4201-a2a4-590ab25f4477.c000.snappy.parquet', '../test/order_datetime=2021-11-07\\\\part-00003-b265e002-bffa-4201-a2a4-590ab25f4477.c000.snappy.parquet', '../test/order_datetime=2021-11-08\\\\part-00003-b265e002-bffa-4201-a2a4-590ab25f4477.c000.snappy.parquet', '../test/order_datetime=2021-11-09\\\\part-00003-b265e002-bffa-4201-a2a4-590ab25f4477.c000.snappy.parquet', '../test/order_datetime=2021-11-10\\\\part-00003-b265e002-bffa-4201-a2a4-590ab25f4477.c000.snappy.parquet', '../test/order_datetime=2021-11-11\\\\part-00003-b265e002-bffa-4201-a2a4-590ab25f4477.c000.snappy.parquet', '../test/order_datetime=2021-11-12\\\\part-00003-b265e002-bffa-4201-a2a4-590ab25f4477.c000.snappy.parquet', '../test/order_datetime=2021-11-13\\\\part-00003-b265e002-bffa-4201-a2a4-590ab25f4477.c000.snappy.parquet', '../test/order_datetime=2021-11-14\\\\part-00003-b265e002-bffa-4201-a2a4-590ab25f4477.c000.snappy.parquet', '../test/order_datetime=2021-11-15\\\\part-00003-b265e002-bffa-4201-a2a4-590ab25f4477.c000.snappy.parquet', '../test/order_datetime=2021-11-16\\\\part-00003-b265e002-bffa-4201-a2a4-590ab25f4477.c000.snappy.parquet', '../test/order_datetime=2021-11-17\\\\part-00003-b265e002-bffa-4201-a2a4-590ab25f4477.c000.snappy.parquet', '../test/order_datetime=2021-11-18\\\\part-00003-b265e002-bffa-4201-a2a4-590ab25f4477.c000.snappy.parquet', '../test/order_datetime=2021-11-19\\\\part-00003-b265e002-bffa-4201-a2a4-590ab25f4477.c000.snappy.parquet', '../test/order_datetime=2021-11-20\\\\part-00003-b265e002-bffa-4201-a2a4-590ab25f4477.c000.snappy.parquet', '../test/order_datetime=2021-11-21\\\\part-00003-b265e002-bffa-4201-a2a4-590ab25f4477.c000.snappy.parquet', '../test/order_datetime=2021-11-22\\\\part-00003-b265e002-bffa-4201-a2a4-590ab25f4477.c000.snappy.parquet', '../test/order_datetime=2021-11-23\\\\part-00003-b265e002-bffa-4201-a2a4-590ab25f4477.c000.snappy.parquet', '../test/order_datetime=2021-11-24\\\\part-00003-b265e002-bffa-4201-a2a4-590ab25f4477.c000.snappy.parquet', '../test/order_datetime=2021-11-25\\\\part-00003-b265e002-bffa-4201-a2a4-590ab25f4477.c000.snappy.parquet', '../test/order_datetime=2021-11-26\\\\part-00003-b265e002-bffa-4201-a2a4-590ab25f4477.c000.snappy.parquet', '../test/order_datetime=2021-11-27\\\\part-00003-b265e002-bffa-4201-a2a4-590ab25f4477.c000.snappy.parquet', '../test/order_datetime=2021-11-28\\\\part-00003-b265e002-bffa-4201-a2a4-590ab25f4477.c000.snappy.parquet', '../test/order_datetime=2021-11-29\\\\part-00003-b265e002-bffa-4201-a2a4-590ab25f4477.c000.snappy.parquet', '../test/order_datetime=2021-11-30\\\\part-00003-b265e002-bffa-4201-a2a4-590ab25f4477.c000.snappy.parquet', '../test/order_datetime=2021-12-01\\\\part-00003-b265e002-bffa-4201-a2a4-590ab25f4477.c000.snappy.parquet', '../test/order_datetime=2021-12-02\\\\part-00003-b265e002-bffa-4201-a2a4-590ab25f4477.c000.snappy.parquet', '../test/order_datetime=2021-12-03\\\\part-00003-b265e002-bffa-4201-a2a4-590ab25f4477.c000.snappy.parquet', '../test/order_datetime=2021-12-04\\\\part-00003-b265e002-bffa-4201-a2a4-590ab25f4477.c000.snappy.parquet', '../test/order_datetime=2021-12-05\\\\part-00003-b265e002-bffa-4201-a2a4-590ab25f4477.c000.snappy.parquet', '../test/order_datetime=2021-12-06\\\\part-00003-b265e002-bffa-4201-a2a4-590ab25f4477.c000.snappy.parquet', '../test/order_datetime=2021-12-07\\\\part-00003-b265e002-bffa-4201-a2a4-590ab25f4477.c000.snappy.parquet', '../test/order_datetime=2021-12-08\\\\part-00003-b265e002-bffa-4201-a2a4-590ab25f4477.c000.snappy.parquet', '../test/order_datetime=2021-12-09\\\\part-00003-b265e002-bffa-4201-a2a4-590ab25f4477.c000.snappy.parquet', '../test/order_datetime=2021-12-10\\\\part-00003-b265e002-bffa-4201-a2a4-590ab25f4477.c000.snappy.parquet', '../test/order_datetime=2021-12-11\\\\part-00003-b265e002-bffa-4201-a2a4-590ab25f4477.c000.snappy.parquet', '../test/order_datetime=2021-12-12\\\\part-00003-b265e002-bffa-4201-a2a4-590ab25f4477.c000.snappy.parquet', '../test/order_datetime=2021-12-13\\\\part-00003-b265e002-bffa-4201-a2a4-590ab25f4477.c000.snappy.parquet', '../test/order_datetime=2021-12-14\\\\part-00003-b265e002-bffa-4201-a2a4-590ab25f4477.c000.snappy.parquet', '../test/order_datetime=2021-12-15\\\\part-00003-b265e002-bffa-4201-a2a4-590ab25f4477.c000.snappy.parquet', '../test/order_datetime=2021-12-16\\\\part-00003-b265e002-bffa-4201-a2a4-590ab25f4477.c000.snappy.parquet', '../test/order_datetime=2021-12-17\\\\part-00003-b265e002-bffa-4201-a2a4-590ab25f4477.c000.snappy.parquet', '../test/order_datetime=2021-12-18\\\\part-00003-b265e002-bffa-4201-a2a4-590ab25f4477.c000.snappy.parquet', '../test/order_datetime=2021-12-19\\\\part-00003-b265e002-bffa-4201-a2a4-590ab25f4477.c000.snappy.parquet', '../test/order_datetime=2021-12-20\\\\part-00003-b265e002-bffa-4201-a2a4-590ab25f4477.c000.snappy.parquet', '../test/order_datetime=2021-12-21\\\\part-00003-b265e002-bffa-4201-a2a4-590ab25f4477.c000.snappy.parquet', '../test/order_datetime=2021-12-22\\\\part-00003-b265e002-bffa-4201-a2a4-590ab25f4477.c000.snappy.parquet', '../test/order_datetime=2021-12-23\\\\part-00003-b265e002-bffa-4201-a2a4-590ab25f4477.c000.snappy.parquet', '../test/order_datetime=2021-12-24\\\\part-00003-b265e002-bffa-4201-a2a4-590ab25f4477.c000.snappy.parquet', '../test/order_datetime=2021-12-25\\\\part-00003-b265e002-bffa-4201-a2a4-590ab25f4477.c000.snappy.parquet', '../test/order_datetime=2021-12-26\\\\part-00003-b265e002-bffa-4201-a2a4-590ab25f4477.c000.snappy.parquet', '../test/order_datetime=2021-12-27\\\\part-00003-b265e002-bffa-4201-a2a4-590ab25f4477.c000.snappy.parquet', '../test/order_datetime=2021-12-28\\\\part-00003-b265e002-bffa-4201-a2a4-590ab25f4477.c000.snappy.parquet', '../test/order_datetime=2021-12-29\\\\part-00003-b265e002-bffa-4201-a2a4-590ab25f4477.c000.snappy.parquet', '../test/order_datetime=2021-12-30\\\\part-00003-b265e002-bffa-4201-a2a4-590ab25f4477.c000.snappy.parquet', '../test/order_datetime=2021-12-31\\\\part-00003-b265e002-bffa-4201-a2a4-590ab25f4477.c000.snappy.parquet', '../test/order_datetime=2022-01-01\\\\part-00003-b265e002-bffa-4201-a2a4-590ab25f4477.c000.snappy.parquet', '../test/order_datetime=2022-01-02\\\\part-00003-b265e002-bffa-4201-a2a4-590ab25f4477.c000.snappy.parquet', '../test/order_datetime=2022-01-03\\\\part-00003-b265e002-bffa-4201-a2a4-590ab25f4477.c000.snappy.parquet', '../test/order_datetime=2022-01-04\\\\part-00003-b265e002-bffa-4201-a2a4-590ab25f4477.c000.snappy.parquet', '../test/order_datetime=2022-01-05\\\\part-00003-b265e002-bffa-4201-a2a4-590ab25f4477.c000.snappy.parquet', '../test/order_datetime=2022-01-06\\\\part-00003-b265e002-bffa-4201-a2a4-590ab25f4477.c000.snappy.parquet', '../test/order_datetime=2022-01-07\\\\part-00003-b265e002-bffa-4201-a2a4-590ab25f4477.c000.snappy.parquet', '../test/order_datetime=2022-01-08\\\\part-00003-b265e002-bffa-4201-a2a4-590ab25f4477.c000.snappy.parquet', '../test/order_datetime=2022-01-09\\\\part-00003-b265e002-bffa-4201-a2a4-590ab25f4477.c000.snappy.parquet', '../test/order_datetime=2022-01-10\\\\part-00003-b265e002-bffa-4201-a2a4-590ab25f4477.c000.snappy.parquet', '../test/order_datetime=2022-01-11\\\\part-00003-b265e002-bffa-4201-a2a4-590ab25f4477.c000.snappy.parquet', '../test/order_datetime=2022-01-12\\\\part-00003-b265e002-bffa-4201-a2a4-590ab25f4477.c000.snappy.parquet', '../test/order_datetime=2022-01-13\\\\part-00003-b265e002-bffa-4201-a2a4-590ab25f4477.c000.snappy.parquet', '../test/order_datetime=2022-01-14\\\\part-00003-b265e002-bffa-4201-a2a4-590ab25f4477.c000.snappy.parquet', '../test/order_datetime=2022-01-15\\\\part-00003-b265e002-bffa-4201-a2a4-590ab25f4477.c000.snappy.parquet', '../test/order_datetime=2022-01-16\\\\part-00003-b265e002-bffa-4201-a2a4-590ab25f4477.c000.snappy.parquet', '../test/order_datetime=2022-01-17\\\\part-00003-b265e002-bffa-4201-a2a4-590ab25f4477.c000.snappy.parquet', '../test/order_datetime=2022-01-18\\\\part-00003-b265e002-bffa-4201-a2a4-590ab25f4477.c000.snappy.parquet', '../test/order_datetime=2022-01-19\\\\part-00003-b265e002-bffa-4201-a2a4-590ab25f4477.c000.snappy.parquet', '../test/order_datetime=2022-01-20\\\\part-00003-b265e002-bffa-4201-a2a4-590ab25f4477.c000.snappy.parquet', '../test/order_datetime=2022-01-21\\\\part-00003-b265e002-bffa-4201-a2a4-590ab25f4477.c000.snappy.parquet', '../test/order_datetime=2022-01-22\\\\part-00003-b265e002-bffa-4201-a2a4-590ab25f4477.c000.snappy.parquet', '../test/order_datetime=2022-01-23\\\\part-00003-b265e002-bffa-4201-a2a4-590ab25f4477.c000.snappy.parquet', '../test/order_datetime=2022-01-24\\\\part-00003-b265e002-bffa-4201-a2a4-590ab25f4477.c000.snappy.parquet', '../test/order_datetime=2022-01-25\\\\part-00003-b265e002-bffa-4201-a2a4-590ab25f4477.c000.snappy.parquet', '../test/order_datetime=2022-01-26\\\\part-00003-b265e002-bffa-4201-a2a4-590ab25f4477.c000.snappy.parquet', '../test/order_datetime=2022-01-27\\\\part-00003-b265e002-bffa-4201-a2a4-590ab25f4477.c000.snappy.parquet', '../test/order_datetime=2022-01-28\\\\part-00003-b265e002-bffa-4201-a2a4-590ab25f4477.c000.snappy.parquet', '../test/order_datetime=2022-01-29\\\\part-00003-b265e002-bffa-4201-a2a4-590ab25f4477.c000.snappy.parquet', '../test/order_datetime=2022-01-30\\\\part-00003-b265e002-bffa-4201-a2a4-590ab25f4477.c000.snappy.parquet', '../test/order_datetime=2022-01-31\\\\part-00003-b265e002-bffa-4201-a2a4-590ab25f4477.c000.snappy.parquet', '../test/order_datetime=2022-02-01\\\\part-00003-b265e002-bffa-4201-a2a4-590ab25f4477.c000.snappy.parquet', '../test/order_datetime=2022-02-02\\\\part-00003-b265e002-bffa-4201-a2a4-590ab25f4477.c000.snappy.parquet', '../test/order_datetime=2022-02-03\\\\part-00003-b265e002-bffa-4201-a2a4-590ab25f4477.c000.snappy.parquet', '../test/order_datetime=2022-02-04\\\\part-00003-b265e002-bffa-4201-a2a4-590ab25f4477.c000.snappy.parquet', '../test/order_datetime=2022-02-05\\\\part-00003-b265e002-bffa-4201-a2a4-590ab25f4477.c000.snappy.parquet', '../test/order_datetime=2022-02-06\\\\part-00003-b265e002-bffa-4201-a2a4-590ab25f4477.c000.snappy.parquet', '../test/order_datetime=2022-02-07\\\\part-00003-b265e002-bffa-4201-a2a4-590ab25f4477.c000.snappy.parquet', '../test/order_datetime=2022-02-08\\\\part-00003-b265e002-bffa-4201-a2a4-590ab25f4477.c000.snappy.parquet', '../test/order_datetime=2022-02-09\\\\part-00003-b265e002-bffa-4201-a2a4-590ab25f4477.c000.snappy.parquet', '../test/order_datetime=2022-02-10\\\\part-00003-b265e002-bffa-4201-a2a4-590ab25f4477.c000.snappy.parquet', '../test/order_datetime=2022-02-11\\\\part-00003-b265e002-bffa-4201-a2a4-590ab25f4477.c000.snappy.parquet', '../test/order_datetime=2022-02-12\\\\part-00003-b265e002-bffa-4201-a2a4-590ab25f4477.c000.snappy.parquet', '../test/order_datetime=2022-02-13\\\\part-00003-b265e002-bffa-4201-a2a4-590ab25f4477.c000.snappy.parquet', '../test/order_datetime=2022-02-14\\\\part-00003-b265e002-bffa-4201-a2a4-590ab25f4477.c000.snappy.parquet', '../test/order_datetime=2022-02-15\\\\part-00003-b265e002-bffa-4201-a2a4-590ab25f4477.c000.snappy.parquet', '../test/order_datetime=2022-02-16\\\\part-00003-b265e002-bffa-4201-a2a4-590ab25f4477.c000.snappy.parquet', '../test/order_datetime=2022-02-17\\\\part-00003-b265e002-bffa-4201-a2a4-590ab25f4477.c000.snappy.parquet', '../test/order_datetime=2022-02-18\\\\part-00003-b265e002-bffa-4201-a2a4-590ab25f4477.c000.snappy.parquet', '../test/order_datetime=2022-02-19\\\\part-00003-b265e002-bffa-4201-a2a4-590ab25f4477.c000.snappy.parquet', '../test/order_datetime=2022-02-20\\\\part-00003-b265e002-bffa-4201-a2a4-590ab25f4477.c000.snappy.parquet', '../test/order_datetime=2022-02-21\\\\part-00003-b265e002-bffa-4201-a2a4-590ab25f4477.c000.snappy.parquet', '../test/order_datetime=2022-02-22\\\\part-00003-b265e002-bffa-4201-a2a4-590ab25f4477.c000.snappy.parquet', '../test/order_datetime=2022-02-23\\\\part-00003-b265e002-bffa-4201-a2a4-590ab25f4477.c000.snappy.parquet', '../test/order_datetime=2022-02-24\\\\part-00003-b265e002-bffa-4201-a2a4-590ab25f4477.c000.snappy.parquet', '../test/order_datetime=2022-02-25\\\\part-00003-b265e002-bffa-4201-a2a4-590ab25f4477.c000.snappy.parquet', '../test/order_datetime=2022-02-26\\\\part-00003-b265e002-bffa-4201-a2a4-590ab25f4477.c000.snappy.parquet', '../test/order_datetime=2022-02-27\\\\part-00003-b265e002-bffa-4201-a2a4-590ab25f4477.c000.snappy.parquet', '../test/order_datetime=2022-02-28\\\\part-00005-bd1de064-b854-4ca3-9886-c1f7ca24ac73.c000.snappy.parquet', '../test/order_datetime=2022-03-01\\\\part-00005-bd1de064-b854-4ca3-9886-c1f7ca24ac73.c000.snappy.parquet', '../test/order_datetime=2022-03-02\\\\part-00005-bd1de064-b854-4ca3-9886-c1f7ca24ac73.c000.snappy.parquet', '../test/order_datetime=2022-03-03\\\\part-00005-bd1de064-b854-4ca3-9886-c1f7ca24ac73.c000.snappy.parquet', '../test/order_datetime=2022-03-04\\\\part-00005-bd1de064-b854-4ca3-9886-c1f7ca24ac73.c000.snappy.parquet', '../test/order_datetime=2022-03-05\\\\part-00005-bd1de064-b854-4ca3-9886-c1f7ca24ac73.c000.snappy.parquet', '../test/order_datetime=2022-03-06\\\\part-00005-bd1de064-b854-4ca3-9886-c1f7ca24ac73.c000.snappy.parquet', '../test/order_datetime=2022-03-07\\\\part-00005-bd1de064-b854-4ca3-9886-c1f7ca24ac73.c000.snappy.parquet', '../test/order_datetime=2022-03-08\\\\part-00005-bd1de064-b854-4ca3-9886-c1f7ca24ac73.c000.snappy.parquet', '../test/order_datetime=2022-03-09\\\\part-00005-bd1de064-b854-4ca3-9886-c1f7ca24ac73.c000.snappy.parquet', '../test/order_datetime=2022-03-10\\\\part-00005-bd1de064-b854-4ca3-9886-c1f7ca24ac73.c000.snappy.parquet', '../test/order_datetime=2022-03-11\\\\part-00005-bd1de064-b854-4ca3-9886-c1f7ca24ac73.c000.snappy.parquet', '../test/order_datetime=2022-03-12\\\\part-00005-bd1de064-b854-4ca3-9886-c1f7ca24ac73.c000.snappy.parquet', '../test/order_datetime=2022-03-13\\\\part-00005-bd1de064-b854-4ca3-9886-c1f7ca24ac73.c000.snappy.parquet', '../test/order_datetime=2022-03-14\\\\part-00005-bd1de064-b854-4ca3-9886-c1f7ca24ac73.c000.snappy.parquet', '../test/order_datetime=2022-03-15\\\\part-00005-bd1de064-b854-4ca3-9886-c1f7ca24ac73.c000.snappy.parquet', '../test/order_datetime=2022-03-16\\\\part-00005-bd1de064-b854-4ca3-9886-c1f7ca24ac73.c000.snappy.parquet', '../test/order_datetime=2022-03-17\\\\part-00005-bd1de064-b854-4ca3-9886-c1f7ca24ac73.c000.snappy.parquet', '../test/order_datetime=2022-03-18\\\\part-00005-bd1de064-b854-4ca3-9886-c1f7ca24ac73.c000.snappy.parquet', '../test/order_datetime=2022-03-19\\\\part-00005-bd1de064-b854-4ca3-9886-c1f7ca24ac73.c000.snappy.parquet', '../test/order_datetime=2022-03-20\\\\part-00005-bd1de064-b854-4ca3-9886-c1f7ca24ac73.c000.snappy.parquet', '../test/order_datetime=2022-03-21\\\\part-00005-bd1de064-b854-4ca3-9886-c1f7ca24ac73.c000.snappy.parquet', '../test/order_datetime=2022-03-22\\\\part-00005-bd1de064-b854-4ca3-9886-c1f7ca24ac73.c000.snappy.parquet', '../test/order_datetime=2022-03-23\\\\part-00005-bd1de064-b854-4ca3-9886-c1f7ca24ac73.c000.snappy.parquet', '../test/order_datetime=2022-03-24\\\\part-00005-bd1de064-b854-4ca3-9886-c1f7ca24ac73.c000.snappy.parquet', '../test/order_datetime=2022-03-25\\\\part-00005-bd1de064-b854-4ca3-9886-c1f7ca24ac73.c000.snappy.parquet', '../test/order_datetime=2022-03-26\\\\part-00005-bd1de064-b854-4ca3-9886-c1f7ca24ac73.c000.snappy.parquet', '../test/order_datetime=2022-03-27\\\\part-00005-bd1de064-b854-4ca3-9886-c1f7ca24ac73.c000.snappy.parquet', '../test/order_datetime=2022-03-28\\\\part-00005-bd1de064-b854-4ca3-9886-c1f7ca24ac73.c000.snappy.parquet', '../test/order_datetime=2022-03-29\\\\part-00005-bd1de064-b854-4ca3-9886-c1f7ca24ac73.c000.snappy.parquet', '../test/order_datetime=2022-03-30\\\\part-00005-bd1de064-b854-4ca3-9886-c1f7ca24ac73.c000.snappy.parquet', '../test/order_datetime=2022-03-31\\\\part-00005-bd1de064-b854-4ca3-9886-c1f7ca24ac73.c000.snappy.parquet', '../test/order_datetime=2022-04-01\\\\part-00005-bd1de064-b854-4ca3-9886-c1f7ca24ac73.c000.snappy.parquet', '../test/order_datetime=2022-04-02\\\\part-00005-bd1de064-b854-4ca3-9886-c1f7ca24ac73.c000.snappy.parquet', '../test/order_datetime=2022-04-03\\\\part-00005-bd1de064-b854-4ca3-9886-c1f7ca24ac73.c000.snappy.parquet', '../test/order_datetime=2022-04-04\\\\part-00005-bd1de064-b854-4ca3-9886-c1f7ca24ac73.c000.snappy.parquet', '../test/order_datetime=2022-04-05\\\\part-00005-bd1de064-b854-4ca3-9886-c1f7ca24ac73.c000.snappy.parquet', '../test/order_datetime=2022-04-06\\\\part-00005-bd1de064-b854-4ca3-9886-c1f7ca24ac73.c000.snappy.parquet', '../test/order_datetime=2022-04-07\\\\part-00005-bd1de064-b854-4ca3-9886-c1f7ca24ac73.c000.snappy.parquet', '../test/order_datetime=2022-04-08\\\\part-00005-bd1de064-b854-4ca3-9886-c1f7ca24ac73.c000.snappy.parquet', '../test/order_datetime=2022-04-09\\\\part-00005-bd1de064-b854-4ca3-9886-c1f7ca24ac73.c000.snappy.parquet', '../test/order_datetime=2022-04-10\\\\part-00005-bd1de064-b854-4ca3-9886-c1f7ca24ac73.c000.snappy.parquet', '../test/order_datetime=2022-04-11\\\\part-00005-bd1de064-b854-4ca3-9886-c1f7ca24ac73.c000.snappy.parquet', '../test/order_datetime=2022-04-12\\\\part-00005-bd1de064-b854-4ca3-9886-c1f7ca24ac73.c000.snappy.parquet', '../test/order_datetime=2022-04-13\\\\part-00005-bd1de064-b854-4ca3-9886-c1f7ca24ac73.c000.snappy.parquet', '../test/order_datetime=2022-04-14\\\\part-00005-bd1de064-b854-4ca3-9886-c1f7ca24ac73.c000.snappy.parquet', '../test/order_datetime=2022-04-15\\\\part-00005-bd1de064-b854-4ca3-9886-c1f7ca24ac73.c000.snappy.parquet', '../test/order_datetime=2022-04-16\\\\part-00005-bd1de064-b854-4ca3-9886-c1f7ca24ac73.c000.snappy.parquet', '../test/order_datetime=2022-04-17\\\\part-00005-bd1de064-b854-4ca3-9886-c1f7ca24ac73.c000.snappy.parquet', '../test/order_datetime=2022-04-18\\\\part-00005-bd1de064-b854-4ca3-9886-c1f7ca24ac73.c000.snappy.parquet', '../test/order_datetime=2022-04-19\\\\part-00005-bd1de064-b854-4ca3-9886-c1f7ca24ac73.c000.snappy.parquet', '../test/order_datetime=2022-04-20\\\\part-00005-bd1de064-b854-4ca3-9886-c1f7ca24ac73.c000.snappy.parquet', '../test/order_datetime=2022-04-21\\\\part-00005-bd1de064-b854-4ca3-9886-c1f7ca24ac73.c000.snappy.parquet', '../test/order_datetime=2022-04-22\\\\part-00005-bd1de064-b854-4ca3-9886-c1f7ca24ac73.c000.snappy.parquet', '../test/order_datetime=2022-04-23\\\\part-00005-bd1de064-b854-4ca3-9886-c1f7ca24ac73.c000.snappy.parquet', '../test/order_datetime=2022-04-24\\\\part-00005-bd1de064-b854-4ca3-9886-c1f7ca24ac73.c000.snappy.parquet', '../test/order_datetime=2022-04-25\\\\part-00005-bd1de064-b854-4ca3-9886-c1f7ca24ac73.c000.snappy.parquet', '../test/order_datetime=2022-04-26\\\\part-00005-bd1de064-b854-4ca3-9886-c1f7ca24ac73.c000.snappy.parquet', '../test/order_datetime=2022-04-27\\\\part-00005-bd1de064-b854-4ca3-9886-c1f7ca24ac73.c000.snappy.parquet', '../test/order_datetime=2022-04-28\\\\part-00005-bd1de064-b854-4ca3-9886-c1f7ca24ac73.c000.snappy.parquet', '../test/order_datetime=2022-04-29\\\\part-00005-bd1de064-b854-4ca3-9886-c1f7ca24ac73.c000.snappy.parquet', '../test/order_datetime=2022-04-30\\\\part-00005-bd1de064-b854-4ca3-9886-c1f7ca24ac73.c000.snappy.parquet', '../test/order_datetime=2022-05-01\\\\part-00005-bd1de064-b854-4ca3-9886-c1f7ca24ac73.c000.snappy.parquet', '../test/order_datetime=2022-05-02\\\\part-00005-bd1de064-b854-4ca3-9886-c1f7ca24ac73.c000.snappy.parquet', '../test/order_datetime=2022-05-03\\\\part-00005-bd1de064-b854-4ca3-9886-c1f7ca24ac73.c000.snappy.parquet', '../test/order_datetime=2022-05-04\\\\part-00005-bd1de064-b854-4ca3-9886-c1f7ca24ac73.c000.snappy.parquet', '../test/order_datetime=2022-05-05\\\\part-00005-bd1de064-b854-4ca3-9886-c1f7ca24ac73.c000.snappy.parquet', '../test/order_datetime=2022-05-06\\\\part-00005-bd1de064-b854-4ca3-9886-c1f7ca24ac73.c000.snappy.parquet', '../test/order_datetime=2022-05-07\\\\part-00005-bd1de064-b854-4ca3-9886-c1f7ca24ac73.c000.snappy.parquet', '../test/order_datetime=2022-05-08\\\\part-00005-bd1de064-b854-4ca3-9886-c1f7ca24ac73.c000.snappy.parquet', '../test/order_datetime=2022-05-09\\\\part-00005-bd1de064-b854-4ca3-9886-c1f7ca24ac73.c000.snappy.parquet', '../test/order_datetime=2022-05-10\\\\part-00005-bd1de064-b854-4ca3-9886-c1f7ca24ac73.c000.snappy.parquet', '../test/order_datetime=2022-05-11\\\\part-00005-bd1de064-b854-4ca3-9886-c1f7ca24ac73.c000.snappy.parquet', '../test/order_datetime=2022-05-12\\\\part-00005-bd1de064-b854-4ca3-9886-c1f7ca24ac73.c000.snappy.parquet', '../test/order_datetime=2022-05-13\\\\part-00005-bd1de064-b854-4ca3-9886-c1f7ca24ac73.c000.snappy.parquet', '../test/order_datetime=2022-05-14\\\\part-00005-bd1de064-b854-4ca3-9886-c1f7ca24ac73.c000.snappy.parquet', '../test/order_datetime=2022-05-15\\\\part-00005-bd1de064-b854-4ca3-9886-c1f7ca24ac73.c000.snappy.parquet', '../test/order_datetime=2022-05-16\\\\part-00005-bd1de064-b854-4ca3-9886-c1f7ca24ac73.c000.snappy.parquet', '../test/order_datetime=2022-05-17\\\\part-00005-bd1de064-b854-4ca3-9886-c1f7ca24ac73.c000.snappy.parquet', '../test/order_datetime=2022-05-18\\\\part-00005-bd1de064-b854-4ca3-9886-c1f7ca24ac73.c000.snappy.parquet', '../test/order_datetime=2022-05-19\\\\part-00005-bd1de064-b854-4ca3-9886-c1f7ca24ac73.c000.snappy.parquet', '../test/order_datetime=2022-05-20\\\\part-00005-bd1de064-b854-4ca3-9886-c1f7ca24ac73.c000.snappy.parquet', '../test/order_datetime=2022-05-21\\\\part-00005-bd1de064-b854-4ca3-9886-c1f7ca24ac73.c000.snappy.parquet', '../test/order_datetime=2022-05-22\\\\part-00005-bd1de064-b854-4ca3-9886-c1f7ca24ac73.c000.snappy.parquet', '../test/order_datetime=2022-05-23\\\\part-00005-bd1de064-b854-4ca3-9886-c1f7ca24ac73.c000.snappy.parquet', '../test/order_datetime=2022-05-24\\\\part-00005-bd1de064-b854-4ca3-9886-c1f7ca24ac73.c000.snappy.parquet', '../test/order_datetime=2022-05-25\\\\part-00005-bd1de064-b854-4ca3-9886-c1f7ca24ac73.c000.snappy.parquet', '../test/order_datetime=2022-05-26\\\\part-00005-bd1de064-b854-4ca3-9886-c1f7ca24ac73.c000.snappy.parquet', '../test/order_datetime=2022-05-27\\\\part-00005-bd1de064-b854-4ca3-9886-c1f7ca24ac73.c000.snappy.parquet', '../test/order_datetime=2022-05-28\\\\part-00005-bd1de064-b854-4ca3-9886-c1f7ca24ac73.c000.snappy.parquet', '../test/order_datetime=2022-05-29\\\\part-00005-bd1de064-b854-4ca3-9886-c1f7ca24ac73.c000.snappy.parquet', '../test/order_datetime=2022-05-30\\\\part-00005-bd1de064-b854-4ca3-9886-c1f7ca24ac73.c000.snappy.parquet', '../test/order_datetime=2022-05-31\\\\part-00005-bd1de064-b854-4ca3-9886-c1f7ca24ac73.c000.snappy.parquet', '../test/order_datetime=2022-06-01\\\\part-00005-bd1de064-b854-4ca3-9886-c1f7ca24ac73.c000.snappy.parquet', '../test/order_datetime=2022-06-02\\\\part-00005-bd1de064-b854-4ca3-9886-c1f7ca24ac73.c000.snappy.parquet', '../test/order_datetime=2022-06-03\\\\part-00005-bd1de064-b854-4ca3-9886-c1f7ca24ac73.c000.snappy.parquet', '../test/order_datetime=2022-06-04\\\\part-00005-bd1de064-b854-4ca3-9886-c1f7ca24ac73.c000.snappy.parquet', '../test/order_datetime=2022-06-05\\\\part-00005-bd1de064-b854-4ca3-9886-c1f7ca24ac73.c000.snappy.parquet', '../test/order_datetime=2022-06-06\\\\part-00005-bd1de064-b854-4ca3-9886-c1f7ca24ac73.c000.snappy.parquet', '../test/order_datetime=2022-06-07\\\\part-00005-bd1de064-b854-4ca3-9886-c1f7ca24ac73.c000.snappy.parquet', '../test/order_datetime=2022-06-08\\\\part-00005-bd1de064-b854-4ca3-9886-c1f7ca24ac73.c000.snappy.parquet', '../test/order_datetime=2022-06-09\\\\part-00005-bd1de064-b854-4ca3-9886-c1f7ca24ac73.c000.snappy.parquet', '../test/order_datetime=2022-06-10\\\\part-00005-bd1de064-b854-4ca3-9886-c1f7ca24ac73.c000.snappy.parquet', '../test/order_datetime=2022-06-11\\\\part-00005-bd1de064-b854-4ca3-9886-c1f7ca24ac73.c000.snappy.parquet', '../test/order_datetime=2022-06-12\\\\part-00005-bd1de064-b854-4ca3-9886-c1f7ca24ac73.c000.snappy.parquet', '../test/order_datetime=2022-06-13\\\\part-00005-bd1de064-b854-4ca3-9886-c1f7ca24ac73.c000.snappy.parquet', '../test/order_datetime=2022-06-14\\\\part-00005-bd1de064-b854-4ca3-9886-c1f7ca24ac73.c000.snappy.parquet', '../test/order_datetime=2022-06-15\\\\part-00005-bd1de064-b854-4ca3-9886-c1f7ca24ac73.c000.snappy.parquet', '../test/order_datetime=2022-06-16\\\\part-00005-bd1de064-b854-4ca3-9886-c1f7ca24ac73.c000.snappy.parquet', '../test/order_datetime=2022-06-17\\\\part-00005-bd1de064-b854-4ca3-9886-c1f7ca24ac73.c000.snappy.parquet', '../test/order_datetime=2022-06-18\\\\part-00005-bd1de064-b854-4ca3-9886-c1f7ca24ac73.c000.snappy.parquet', '../test/order_datetime=2022-06-19\\\\part-00005-bd1de064-b854-4ca3-9886-c1f7ca24ac73.c000.snappy.parquet', '../test/order_datetime=2022-06-20\\\\part-00005-bd1de064-b854-4ca3-9886-c1f7ca24ac73.c000.snappy.parquet', '../test/order_datetime=2022-06-21\\\\part-00005-bd1de064-b854-4ca3-9886-c1f7ca24ac73.c000.snappy.parquet', '../test/order_datetime=2022-06-22\\\\part-00005-bd1de064-b854-4ca3-9886-c1f7ca24ac73.c000.snappy.parquet', '../test/order_datetime=2022-06-23\\\\part-00005-bd1de064-b854-4ca3-9886-c1f7ca24ac73.c000.snappy.parquet', '../test/order_datetime=2022-06-24\\\\part-00005-bd1de064-b854-4ca3-9886-c1f7ca24ac73.c000.snappy.parquet', '../test/order_datetime=2022-06-25\\\\part-00005-bd1de064-b854-4ca3-9886-c1f7ca24ac73.c000.snappy.parquet', '../test/order_datetime=2022-06-26\\\\part-00005-bd1de064-b854-4ca3-9886-c1f7ca24ac73.c000.snappy.parquet', '../test/order_datetime=2022-06-27\\\\part-00005-bd1de064-b854-4ca3-9886-c1f7ca24ac73.c000.snappy.parquet', '../test/order_datetime=2022-06-28\\\\part-00005-bd1de064-b854-4ca3-9886-c1f7ca24ac73.c000.snappy.parquet', '../test/order_datetime=2022-06-29\\\\part-00005-bd1de064-b854-4ca3-9886-c1f7ca24ac73.c000.snappy.parquet', '../test/order_datetime=2022-06-30\\\\part-00005-bd1de064-b854-4ca3-9886-c1f7ca24ac73.c000.snappy.parquet', '../test/order_datetime=2022-07-01\\\\part-00005-bd1de064-b854-4ca3-9886-c1f7ca24ac73.c000.snappy.parquet', '../test/order_datetime=2022-07-02\\\\part-00005-bd1de064-b854-4ca3-9886-c1f7ca24ac73.c000.snappy.parquet', '../test/order_datetime=2022-07-03\\\\part-00005-bd1de064-b854-4ca3-9886-c1f7ca24ac73.c000.snappy.parquet', '../test/order_datetime=2022-07-04\\\\part-00005-bd1de064-b854-4ca3-9886-c1f7ca24ac73.c000.snappy.parquet', '../test/order_datetime=2022-07-05\\\\part-00005-bd1de064-b854-4ca3-9886-c1f7ca24ac73.c000.snappy.parquet', '../test/order_datetime=2022-07-06\\\\part-00005-bd1de064-b854-4ca3-9886-c1f7ca24ac73.c000.snappy.parquet', '../test/order_datetime=2022-07-07\\\\part-00005-bd1de064-b854-4ca3-9886-c1f7ca24ac73.c000.snappy.parquet', '../test/order_datetime=2022-07-08\\\\part-00005-bd1de064-b854-4ca3-9886-c1f7ca24ac73.c000.snappy.parquet', '../test/order_datetime=2022-07-09\\\\part-00005-bd1de064-b854-4ca3-9886-c1f7ca24ac73.c000.snappy.parquet', '../test/order_datetime=2022-07-10\\\\part-00005-bd1de064-b854-4ca3-9886-c1f7ca24ac73.c000.snappy.parquet', '../test/order_datetime=2022-07-11\\\\part-00005-bd1de064-b854-4ca3-9886-c1f7ca24ac73.c000.snappy.parquet', '../test/order_datetime=2022-07-12\\\\part-00005-bd1de064-b854-4ca3-9886-c1f7ca24ac73.c000.snappy.parquet', '../test/order_datetime=2022-07-13\\\\part-00005-bd1de064-b854-4ca3-9886-c1f7ca24ac73.c000.snappy.parquet', '../test/order_datetime=2022-07-14\\\\part-00005-bd1de064-b854-4ca3-9886-c1f7ca24ac73.c000.snappy.parquet', '../test/order_datetime=2022-07-15\\\\part-00005-bd1de064-b854-4ca3-9886-c1f7ca24ac73.c000.snappy.parquet', '../test/order_datetime=2022-07-16\\\\part-00005-bd1de064-b854-4ca3-9886-c1f7ca24ac73.c000.snappy.parquet', '../test/order_datetime=2022-07-17\\\\part-00005-bd1de064-b854-4ca3-9886-c1f7ca24ac73.c000.snappy.parquet', '../test/order_datetime=2022-07-18\\\\part-00005-bd1de064-b854-4ca3-9886-c1f7ca24ac73.c000.snappy.parquet', '../test/order_datetime=2022-07-19\\\\part-00005-bd1de064-b854-4ca3-9886-c1f7ca24ac73.c000.snappy.parquet', '../test/order_datetime=2022-07-20\\\\part-00005-bd1de064-b854-4ca3-9886-c1f7ca24ac73.c000.snappy.parquet', '../test/order_datetime=2022-07-21\\\\part-00005-bd1de064-b854-4ca3-9886-c1f7ca24ac73.c000.snappy.parquet', '../test/order_datetime=2022-07-22\\\\part-00005-bd1de064-b854-4ca3-9886-c1f7ca24ac73.c000.snappy.parquet', '../test/order_datetime=2022-07-23\\\\part-00005-bd1de064-b854-4ca3-9886-c1f7ca24ac73.c000.snappy.parquet', '../test/order_datetime=2022-07-24\\\\part-00005-bd1de064-b854-4ca3-9886-c1f7ca24ac73.c000.snappy.parquet', '../test/order_datetime=2022-07-25\\\\part-00005-bd1de064-b854-4ca3-9886-c1f7ca24ac73.c000.snappy.parquet', '../test/order_datetime=2022-07-26\\\\part-00005-bd1de064-b854-4ca3-9886-c1f7ca24ac73.c000.snappy.parquet', '../test/order_datetime=2022-07-27\\\\part-00005-bd1de064-b854-4ca3-9886-c1f7ca24ac73.c000.snappy.parquet', '../test/order_datetime=2022-07-28\\\\part-00005-bd1de064-b854-4ca3-9886-c1f7ca24ac73.c000.snappy.parquet', '../test/order_datetime=2022-07-29\\\\part-00005-bd1de064-b854-4ca3-9886-c1f7ca24ac73.c000.snappy.parquet', '../test/order_datetime=2022-07-30\\\\part-00005-bd1de064-b854-4ca3-9886-c1f7ca24ac73.c000.snappy.parquet', '../test/order_datetime=2022-07-31\\\\part-00005-bd1de064-b854-4ca3-9886-c1f7ca24ac73.c000.snappy.parquet', '../test/order_datetime=2022-08-01\\\\part-00005-bd1de064-b854-4ca3-9886-c1f7ca24ac73.c000.snappy.parquet', '../test/order_datetime=2022-08-02\\\\part-00005-bd1de064-b854-4ca3-9886-c1f7ca24ac73.c000.snappy.parquet', '../test/order_datetime=2022-08-03\\\\part-00005-bd1de064-b854-4ca3-9886-c1f7ca24ac73.c000.snappy.parquet', '../test/order_datetime=2022-08-04\\\\part-00005-bd1de064-b854-4ca3-9886-c1f7ca24ac73.c000.snappy.parquet', '../test/order_datetime=2022-08-05\\\\part-00005-bd1de064-b854-4ca3-9886-c1f7ca24ac73.c000.snappy.parquet', '../test/order_datetime=2022-08-06\\\\part-00005-bd1de064-b854-4ca3-9886-c1f7ca24ac73.c000.snappy.parquet', '../test/order_datetime=2022-08-07\\\\part-00005-bd1de064-b854-4ca3-9886-c1f7ca24ac73.c000.snappy.parquet', '../test/order_datetime=2022-08-08\\\\part-00005-bd1de064-b854-4ca3-9886-c1f7ca24ac73.c000.snappy.parquet', '../test/order_datetime=2022-08-09\\\\part-00005-bd1de064-b854-4ca3-9886-c1f7ca24ac73.c000.snappy.parquet', '../test/order_datetime=2022-08-10\\\\part-00005-bd1de064-b854-4ca3-9886-c1f7ca24ac73.c000.snappy.parquet', '../test/order_datetime=2022-08-11\\\\part-00005-bd1de064-b854-4ca3-9886-c1f7ca24ac73.c000.snappy.parquet', '../test/order_datetime=2022-08-12\\\\part-00005-bd1de064-b854-4ca3-9886-c1f7ca24ac73.c000.snappy.parquet', '../test/order_datetime=2022-08-13\\\\part-00005-bd1de064-b854-4ca3-9886-c1f7ca24ac73.c000.snappy.parquet', '../test/order_datetime=2022-08-14\\\\part-00005-bd1de064-b854-4ca3-9886-c1f7ca24ac73.c000.snappy.parquet', '../test/order_datetime=2022-08-15\\\\part-00005-bd1de064-b854-4ca3-9886-c1f7ca24ac73.c000.snappy.parquet', '../test/order_datetime=2022-08-16\\\\part-00005-bd1de064-b854-4ca3-9886-c1f7ca24ac73.c000.snappy.parquet', '../test/order_datetime=2022-08-17\\\\part-00005-bd1de064-b854-4ca3-9886-c1f7ca24ac73.c000.snappy.parquet', '../test/order_datetime=2022-08-18\\\\part-00005-bd1de064-b854-4ca3-9886-c1f7ca24ac73.c000.snappy.parquet', '../test/order_datetime=2022-08-19\\\\part-00005-bd1de064-b854-4ca3-9886-c1f7ca24ac73.c000.snappy.parquet', '../test/order_datetime=2022-08-20\\\\part-00005-bd1de064-b854-4ca3-9886-c1f7ca24ac73.c000.snappy.parquet', '../test/order_datetime=2022-08-21\\\\part-00005-bd1de064-b854-4ca3-9886-c1f7ca24ac73.c000.snappy.parquet', '../test/order_datetime=2022-08-22\\\\part-00005-bd1de064-b854-4ca3-9886-c1f7ca24ac73.c000.snappy.parquet', '../test/order_datetime=2022-08-23\\\\part-00005-bd1de064-b854-4ca3-9886-c1f7ca24ac73.c000.snappy.parquet', '../test/order_datetime=2022-08-24\\\\part-00005-bd1de064-b854-4ca3-9886-c1f7ca24ac73.c000.snappy.parquet', '../test/order_datetime=2022-08-25\\\\part-00005-bd1de064-b854-4ca3-9886-c1f7ca24ac73.c000.snappy.parquet', '../test/order_datetime=2022-08-26\\\\part-00005-bd1de064-b854-4ca3-9886-c1f7ca24ac73.c000.snappy.parquet', '../test/order_datetime=2022-08-27\\\\part-00005-bd1de064-b854-4ca3-9886-c1f7ca24ac73.c000.snappy.parquet', '../test/order_datetime=2022-08-28\\\\part-00005-bd1de064-b854-4ca3-9886-c1f7ca24ac73.c000.snappy.parquet', '../test/order_datetime=2022-08-29\\\\part-00005-bd1de064-b854-4ca3-9886-c1f7ca24ac73.c000.snappy.parquet', '../test/order_datetime=2022-08-30\\\\part-00005-bd1de064-b854-4ca3-9886-c1f7ca24ac73.c000.snappy.parquet', '../test/order_datetime=2022-08-31\\\\part-00005-bd1de064-b854-4ca3-9886-c1f7ca24ac73.c000.snappy.parquet', '../test/order_datetime=2022-09-01\\\\part-00005-bd1de064-b854-4ca3-9886-c1f7ca24ac73.c000.snappy.parquet', '../test/order_datetime=2022-09-02\\\\part-00005-bd1de064-b854-4ca3-9886-c1f7ca24ac73.c000.snappy.parquet', '../test/order_datetime=2022-09-03\\\\part-00005-bd1de064-b854-4ca3-9886-c1f7ca24ac73.c000.snappy.parquet', '../test/order_datetime=2022-09-04\\\\part-00005-bd1de064-b854-4ca3-9886-c1f7ca24ac73.c000.snappy.parquet', '../test/order_datetime=2022-09-05\\\\part-00005-bd1de064-b854-4ca3-9886-c1f7ca24ac73.c000.snappy.parquet', '../test/order_datetime=2022-09-06\\\\part-00005-bd1de064-b854-4ca3-9886-c1f7ca24ac73.c000.snappy.parquet', '../test/order_datetime=2022-09-07\\\\part-00005-bd1de064-b854-4ca3-9886-c1f7ca24ac73.c000.snappy.parquet', '../test/order_datetime=2022-09-08\\\\part-00005-bd1de064-b854-4ca3-9886-c1f7ca24ac73.c000.snappy.parquet', '../test/order_datetime=2022-09-09\\\\part-00005-bd1de064-b854-4ca3-9886-c1f7ca24ac73.c000.snappy.parquet', '../test/order_datetime=2022-09-10\\\\part-00005-bd1de064-b854-4ca3-9886-c1f7ca24ac73.c000.snappy.parquet', '../test/order_datetime=2022-09-11\\\\part-00005-bd1de064-b854-4ca3-9886-c1f7ca24ac73.c000.snappy.parquet', '../test/order_datetime=2022-09-12\\\\part-00005-bd1de064-b854-4ca3-9886-c1f7ca24ac73.c000.snappy.parquet', '../test/order_datetime=2022-09-13\\\\part-00005-bd1de064-b854-4ca3-9886-c1f7ca24ac73.c000.snappy.parquet', '../test/order_datetime=2022-09-14\\\\part-00005-bd1de064-b854-4ca3-9886-c1f7ca24ac73.c000.snappy.parquet', '../test/order_datetime=2022-09-15\\\\part-00005-bd1de064-b854-4ca3-9886-c1f7ca24ac73.c000.snappy.parquet', '../test/order_datetime=2022-09-16\\\\part-00005-bd1de064-b854-4ca3-9886-c1f7ca24ac73.c000.snappy.parquet', '../test/order_datetime=2022-09-17\\\\part-00005-bd1de064-b854-4ca3-9886-c1f7ca24ac73.c000.snappy.parquet', '../test/order_datetime=2022-09-18\\\\part-00005-bd1de064-b854-4ca3-9886-c1f7ca24ac73.c000.snappy.parquet', '../test/order_datetime=2022-09-19\\\\part-00005-bd1de064-b854-4ca3-9886-c1f7ca24ac73.c000.snappy.parquet', '../test/order_datetime=2022-09-20\\\\part-00005-bd1de064-b854-4ca3-9886-c1f7ca24ac73.c000.snappy.parquet', '../test/order_datetime=2022-09-21\\\\part-00005-bd1de064-b854-4ca3-9886-c1f7ca24ac73.c000.snappy.parquet', '../test/order_datetime=2022-09-22\\\\part-00005-bd1de064-b854-4ca3-9886-c1f7ca24ac73.c000.snappy.parquet', '../test/order_datetime=2022-09-23\\\\part-00005-bd1de064-b854-4ca3-9886-c1f7ca24ac73.c000.snappy.parquet', '../test/order_datetime=2022-09-24\\\\part-00005-bd1de064-b854-4ca3-9886-c1f7ca24ac73.c000.snappy.parquet', '../test/order_datetime=2022-09-25\\\\part-00005-bd1de064-b854-4ca3-9886-c1f7ca24ac73.c000.snappy.parquet', '../test/order_datetime=2022-09-26\\\\part-00005-bd1de064-b854-4ca3-9886-c1f7ca24ac73.c000.snappy.parquet', '../test/order_datetime=2022-09-27\\\\part-00005-bd1de064-b854-4ca3-9886-c1f7ca24ac73.c000.snappy.parquet', '../test/order_datetime=2022-09-28\\\\part-00005-bd1de064-b854-4ca3-9886-c1f7ca24ac73.c000.snappy.parquet', '../test/order_datetime=2022-09-29\\\\part-00005-bd1de064-b854-4ca3-9886-c1f7ca24ac73.c000.snappy.parquet', '../test/order_datetime=2022-09-30\\\\part-00005-bd1de064-b854-4ca3-9886-c1f7ca24ac73.c000.snappy.parquet', '../test/order_datetime=2022-10-01\\\\part-00005-bd1de064-b854-4ca3-9886-c1f7ca24ac73.c000.snappy.parquet', '../test/order_datetime=2022-10-02\\\\part-00005-bd1de064-b854-4ca3-9886-c1f7ca24ac73.c000.snappy.parquet', '../test/order_datetime=2022-10-03\\\\part-00005-bd1de064-b854-4ca3-9886-c1f7ca24ac73.c000.snappy.parquet', '../test/order_datetime=2022-10-04\\\\part-00005-bd1de064-b854-4ca3-9886-c1f7ca24ac73.c000.snappy.parquet', '../test/order_datetime=2022-10-05\\\\part-00005-bd1de064-b854-4ca3-9886-c1f7ca24ac73.c000.snappy.parquet', '../test/order_datetime=2022-10-06\\\\part-00005-bd1de064-b854-4ca3-9886-c1f7ca24ac73.c000.snappy.parquet', '../test/order_datetime=2022-10-07\\\\part-00005-bd1de064-b854-4ca3-9886-c1f7ca24ac73.c000.snappy.parquet', '../test/order_datetime=2022-10-08\\\\part-00005-bd1de064-b854-4ca3-9886-c1f7ca24ac73.c000.snappy.parquet', '../test/order_datetime=2022-10-09\\\\part-00005-bd1de064-b854-4ca3-9886-c1f7ca24ac73.c000.snappy.parquet', '../test/order_datetime=2022-10-10\\\\part-00005-bd1de064-b854-4ca3-9886-c1f7ca24ac73.c000.snappy.parquet', '../test/order_datetime=2022-10-11\\\\part-00005-bd1de064-b854-4ca3-9886-c1f7ca24ac73.c000.snappy.parquet', '../test/order_datetime=2022-10-12\\\\part-00005-bd1de064-b854-4ca3-9886-c1f7ca24ac73.c000.snappy.parquet', '../test/order_datetime=2022-10-13\\\\part-00005-bd1de064-b854-4ca3-9886-c1f7ca24ac73.c000.snappy.parquet', '../test/order_datetime=2022-10-14\\\\part-00005-bd1de064-b854-4ca3-9886-c1f7ca24ac73.c000.snappy.parquet', '../test/order_datetime=2022-10-15\\\\part-00005-bd1de064-b854-4ca3-9886-c1f7ca24ac73.c000.snappy.parquet', '../test/order_datetime=2022-10-16\\\\part-00005-bd1de064-b854-4ca3-9886-c1f7ca24ac73.c000.snappy.parquet', '../test/order_datetime=2022-10-17\\\\part-00005-bd1de064-b854-4ca3-9886-c1f7ca24ac73.c000.snappy.parquet', '../test/order_datetime=2022-10-18\\\\part-00005-bd1de064-b854-4ca3-9886-c1f7ca24ac73.c000.snappy.parquet', '../test/order_datetime=2022-10-19\\\\part-00005-bd1de064-b854-4ca3-9886-c1f7ca24ac73.c000.snappy.parquet', '../test/order_datetime=2022-10-20\\\\part-00005-bd1de064-b854-4ca3-9886-c1f7ca24ac73.c000.snappy.parquet', '../test/order_datetime=2022-10-21\\\\part-00005-bd1de064-b854-4ca3-9886-c1f7ca24ac73.c000.snappy.parquet', '../test/order_datetime=2022-10-22\\\\part-00005-bd1de064-b854-4ca3-9886-c1f7ca24ac73.c000.snappy.parquet', '../test/order_datetime=2022-10-23\\\\part-00005-bd1de064-b854-4ca3-9886-c1f7ca24ac73.c000.snappy.parquet', '../test/order_datetime=2022-10-24\\\\part-00005-bd1de064-b854-4ca3-9886-c1f7ca24ac73.c000.snappy.parquet', '../test/order_datetime=2022-10-25\\\\part-00005-bd1de064-b854-4ca3-9886-c1f7ca24ac73.c000.snappy.parquet', '../test/order_datetime=2022-10-26\\\\part-00005-bd1de064-b854-4ca3-9886-c1f7ca24ac73.c000.snappy.parquet']\n"
     ]
    },
    {
     "data": {
      "text/html": [
       "<div>\n",
       "<style scoped>\n",
       "    .dataframe tbody tr th:only-of-type {\n",
       "        vertical-align: middle;\n",
       "    }\n",
       "\n",
       "    .dataframe tbody tr th {\n",
       "        vertical-align: top;\n",
       "    }\n",
       "\n",
       "    .dataframe thead th {\n",
       "        text-align: right;\n",
       "    }\n",
       "</style>\n",
       "<table border=\"1\" class=\"dataframe\">\n",
       "  <thead>\n",
       "    <tr style=\"text-align: right;\">\n",
       "      <th></th>\n",
       "      <th>user_id</th>\n",
       "      <th>merchant_abn</th>\n",
       "      <th>dollar_value</th>\n",
       "      <th>order_id</th>\n",
       "    </tr>\n",
       "  </thead>\n",
       "  <tbody>\n",
       "    <tr>\n",
       "      <th>0</th>\n",
       "      <td>1</td>\n",
       "      <td>28000487688</td>\n",
       "      <td>133.226894</td>\n",
       "      <td>0c37b3f7-c7f1-48cb-bcc7-0a58e76608ea</td>\n",
       "    </tr>\n",
       "    <tr>\n",
       "      <th>1</th>\n",
       "      <td>18485</td>\n",
       "      <td>62191208634</td>\n",
       "      <td>79.131400</td>\n",
       "      <td>9e18b913-0465-4fd4-92fd-66d15e65d93c</td>\n",
       "    </tr>\n",
       "    <tr>\n",
       "      <th>2</th>\n",
       "      <td>1</td>\n",
       "      <td>83690644458</td>\n",
       "      <td>30.441348</td>\n",
       "      <td>40a2ff69-ea34-4657-8429-df7ca957d6a1</td>\n",
       "    </tr>\n",
       "    <tr>\n",
       "      <th>3</th>\n",
       "      <td>18488</td>\n",
       "      <td>39649557865</td>\n",
       "      <td>962.813341</td>\n",
       "      <td>f4c1a5ae-5b76-40d0-ae0f-cb9730ac325a</td>\n",
       "    </tr>\n",
       "    <tr>\n",
       "      <th>4</th>\n",
       "      <td>2</td>\n",
       "      <td>80779820715</td>\n",
       "      <td>48.123977</td>\n",
       "      <td>cd09bdd6-f56d-489f-81ea-440f4bda933c</td>\n",
       "    </tr>\n",
       "  </tbody>\n",
       "</table>\n",
       "</div>"
      ],
      "text/plain": [
       "   user_id  merchant_abn  dollar_value                              order_id\n",
       "0        1   28000487688    133.226894  0c37b3f7-c7f1-48cb-bcc7-0a58e76608ea\n",
       "1    18485   62191208634     79.131400  9e18b913-0465-4fd4-92fd-66d15e65d93c\n",
       "2        1   83690644458     30.441348  40a2ff69-ea34-4657-8429-df7ca957d6a1\n",
       "3    18488   39649557865    962.813341  f4c1a5ae-5b76-40d0-ae0f-cb9730ac325a\n",
       "4        2   80779820715     48.123977  cd09bdd6-f56d-489f-81ea-440f4bda933c"
      ]
     },
     "execution_count": 110,
     "metadata": {},
     "output_type": "execute_result"
    }
   ],
   "source": [
    "import os\n",
    "import pandas as pd\n",
    "\n",
    "def get_parquet_files(root_folder):\n",
    "    parquet_files = []\n",
    "    for root, dirs, files in os.walk(root_folder):\n",
    "        for file in files:\n",
    "            if file.endswith(\".parquet\"):\n",
    "                parquet_files.append(os.path.join(root, file))\n",
    "    return parquet_files\n",
    "\n",
    "root_folder = '../test/'\n",
    "parquet_files = get_parquet_files(root_folder)\n",
    "print(parquet_files)\n",
    "df = pd.concat([pd.read_parquet(parquet_file) for parquet_file in parquet_files])\n",
    "\n",
    "df.head()"
   ]
  },
  {
   "cell_type": "code",
   "execution_count": 137,
   "metadata": {},
   "outputs": [
    {
     "name": "stdout",
     "output_type": "stream",
     "text": [
      "Index(['merchant_abn', 'name', 'tags'], dtype='object')\n"
     ]
    }
   ],
   "source": [
    "merchants = pd.read_parquet('../data/raw/tbl_merchants.parquet')\n",
    "merchants.reset_index(inplace=True)\n",
    "merchants.head()"
   ]
  },
  {
   "cell_type": "code",
   "execution_count": 64,
   "metadata": {},
   "outputs": [
    {
     "data": {
      "text/html": [
       "<div>\n",
       "<style scoped>\n",
       "    .dataframe tbody tr th:only-of-type {\n",
       "        vertical-align: middle;\n",
       "    }\n",
       "\n",
       "    .dataframe tbody tr th {\n",
       "        vertical-align: top;\n",
       "    }\n",
       "\n",
       "    .dataframe thead th {\n",
       "        text-align: right;\n",
       "    }\n",
       "</style>\n",
       "<table border=\"1\" class=\"dataframe\">\n",
       "  <thead>\n",
       "    <tr style=\"text-align: right;\">\n",
       "      <th></th>\n",
       "      <th>user_id</th>\n",
       "      <th>consumer_id</th>\n",
       "    </tr>\n",
       "  </thead>\n",
       "  <tbody>\n",
       "    <tr>\n",
       "      <th>0</th>\n",
       "      <td>1</td>\n",
       "      <td>1195503</td>\n",
       "    </tr>\n",
       "    <tr>\n",
       "      <th>1</th>\n",
       "      <td>2</td>\n",
       "      <td>179208</td>\n",
       "    </tr>\n",
       "    <tr>\n",
       "      <th>2</th>\n",
       "      <td>3</td>\n",
       "      <td>1194530</td>\n",
       "    </tr>\n",
       "    <tr>\n",
       "      <th>3</th>\n",
       "      <td>4</td>\n",
       "      <td>154128</td>\n",
       "    </tr>\n",
       "    <tr>\n",
       "      <th>4</th>\n",
       "      <td>5</td>\n",
       "      <td>712975</td>\n",
       "    </tr>\n",
       "  </tbody>\n",
       "</table>\n",
       "</div>"
      ],
      "text/plain": [
       "   user_id  consumer_id\n",
       "0        1      1195503\n",
       "1        2       179208\n",
       "2        3      1194530\n",
       "3        4       154128\n",
       "4        5       712975"
      ]
     },
     "execution_count": 64,
     "metadata": {},
     "output_type": "execute_result"
    }
   ],
   "source": [
    "consumers = pd.read_parquet('../data/raw/consumer_user_details.parquet')\n",
    "consumers.head()"
   ]
  },
  {
   "cell_type": "code",
   "execution_count": 138,
   "metadata": {},
   "outputs": [
    {
     "name": "stdout",
     "output_type": "stream",
     "text": [
      "                                              name  \\\n",
      "merchant_abn                                         \n",
      "10023283211                          Felis Limited   \n",
      "10142254217               Arcu Ac Orci Corporation   \n",
      "10165489824                       Nunc Sed Company   \n",
      "10187291046   Ultricies Dignissim Lacus Foundation   \n",
      "10192359162                    Enim Condimentum PC   \n",
      "\n",
      "                                                       category revenue_rate  \\\n",
      "merchant_abn                                                                   \n",
      "10023283211   furniture, home furnishings and equipment shop...            e   \n",
      "10142254217   cable, satellite, and otHer pay television and...            b   \n",
      "10165489824         jewelry, watch, clock, and silverware shops            b   \n",
      "10187291046              wAtch, clock, and jewelry repair shops            b   \n",
      "10192359162   music shops - musical instruments, pianos, and...            a   \n",
      "\n",
      "                    take_rate  \n",
      "merchant_abn                   \n",
      "10023283211   take rate: 0.18  \n",
      "10142254217   take rate: 4.22  \n",
      "10165489824   take rate: 4.40  \n",
      "10187291046   take rate: 3.29  \n",
      "10192359162   take rate: 6.33  \n"
     ]
    }
   ],
   "source": [
    "import pandas as pd\n",
    "\n",
    "merchants = pd.read_parquet('../data/raw/tbl_merchants.parquet')\n",
    "\n",
    "def split_tags(tag):\n",
    "    if isinstance(tag, str):\n",
    "        tag = tag.replace('(', '[').replace(')', ']')\n",
    "        parts = tag.split('], [')\n",
    "        \n",
    "        parts = [p.strip('[]') for p in parts]\n",
    "        \n",
    "        if len(parts) == 3:\n",
    "            category = parts[0].strip()\n",
    "            revenue_rate = parts[1].strip()\n",
    "            take_rate = parts[2].strip()\n",
    "            return category, revenue_rate, take_rate\n",
    "    return None, None, None\n",
    "\n",
    "merchants[['category', 'revenue_rate', 'take_rate']] = merchants['tags'].apply(lambda x: pd.Series(split_tags(x)))\n",
    "\n",
    "merchants.drop(columns=['tags'], inplace=True)\n",
    "\n",
    "print(merchants.head())"
   ]
  },
  {
   "cell_type": "code",
   "execution_count": 116,
   "metadata": {},
   "outputs": [
    {
     "data": {
      "image/png": "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",
      "text/plain": [
       "<Figure size 640x480 with 1 Axes>"
      ]
     },
     "metadata": {},
     "output_type": "display_data"
    },
    {
     "name": "stdout",
     "output_type": "stream",
     "text": [
      "merchant_abn    0\n",
      "name            0\n",
      "category        0\n",
      "revenue_rate    0\n",
      "take_rate       0\n",
      "dtype: int64\n",
      "user_id         0\n",
      "merchant_abn    0\n",
      "dollar_value    0\n",
      "order_id        0\n",
      "dtype: int64\n",
      "user_id        0\n",
      "consumer_id    0\n",
      "dtype: int64\n"
     ]
    }
   ],
   "source": [
    "import pandas as pd\n",
    "import matplotlib.pyplot as plt\n",
    "import seaborn as sns\n",
    "\n",
    "merchants_sorted = merchants.sort_values('revenue_rate')\n",
    "sns.histplot(merchants_sorted['revenue_rate'], bins=20)\n",
    "plt.title('Revenue Distribution')\n",
    "plt.show()\n",
    "\n",
    "print(merchants.isnull().sum())\n",
    "print(df.isnull().sum())\n",
    "print(consumers.isnull().sum())"
   ]
  },
  {
   "cell_type": "code",
   "execution_count": 139,
   "metadata": {},
   "outputs": [
    {
     "name": "stdout",
     "output_type": "stream",
     "text": [
      "    merchant_abn                                  name  \\\n",
      "0    10023283211                         Felis Limited   \n",
      "1    10142254217              Arcu Ac Orci Corporation   \n",
      "2    10165489824                      Nunc Sed Company   \n",
      "3    10187291046  Ultricies Dignissim Lacus Foundation   \n",
      "4    10192359162                   Enim Condimentum PC   \n",
      "5    10206519221                         Fusce Company   \n",
      "6    10255988167             Aliquam Enim Incorporated   \n",
      "7    10264435225                      Ipsum Primis Ltd   \n",
      "8    10279061213              Pede Ultrices Industries   \n",
      "9    10323485998                             Nunc Inc.   \n",
      "10   10342410215             Facilisis Facilisis Corp.   \n",
      "11   10346855916                        Odio Institute   \n",
      "12   10364012396                      Rutrum Justo Ltd   \n",
      "13   10385011947                     Tellus Foundation   \n",
      "14   10385163239                        Sed Et Company   \n",
      "15   10385250025                                Id Ltd   \n",
      "16   10404542215                  Consequat Foundation   \n",
      "17   10430380319                  Sit Amet Nulla Corp.   \n",
      "18   10441711491           Massa Vestibulum Foundation   \n",
      "19   10462560289                         Ut Consulting   \n",
      "\n",
      "                                             category revenue_rate  \\\n",
      "0   furniture, home furnishings and equipment shop...            e   \n",
      "1   cable, satellite, and otHer pay television and...            b   \n",
      "2         jewelry, watch, clock, and silverware shops            b   \n",
      "3              wAtch, clock, and jewelry repair shops            b   \n",
      "4   music shops - musical instruments, pianos, and...            a   \n",
      "5             gift, card, novelty, and souvenir shops            a   \n",
      "6   computers, comPUter peripheral equipment, and ...            b   \n",
      "7              watch, clock, and jewelry repair shops            c   \n",
      "8   computer programming , data processing, and in...            a   \n",
      "9   furniture, home furnishings and equipment shop...            a   \n",
      "10  computers, computer peripheral equipment, and ...            a   \n",
      "11  equipment, tool, furniture, and appliance  ren...            b   \n",
      "12  music shops - musical instruments, pianos, and...            b   \n",
      "13                     artist supply and craft  shops            b   \n",
      "14      florists supplies, nursery stock, and flowers            a   \n",
      "15  computers, computer peripheral  equipment, and...            a   \n",
      "16  antique shops - sales, repairs, and restoratio...            a   \n",
      "17               motor vehicle supplies and new parts            b   \n",
      "18               moTor vehicle supplies and new parts            a   \n",
      "19            gift, card, novelty, and souvenir shops            c   \n",
      "\n",
      "          take_rate order_datetime  fraud_probability  \n",
      "0   take rate: 0.18            NaN                NaN  \n",
      "1   take rate: 4.22            NaN                NaN  \n",
      "2   take rate: 4.40            NaN                NaN  \n",
      "3   take rate: 3.29            NaN                NaN  \n",
      "4   take rate: 6.33            NaN                NaN  \n",
      "5   take rate: 6.34            NaN                NaN  \n",
      "6   take rate: 4.32            NaN                NaN  \n",
      "7   take rate: 2.39            NaN                NaN  \n",
      "8   take rate: 5.71            NaN                NaN  \n",
      "9   take rate: 6.61            NaN                NaN  \n",
      "10  take rate: 6.34            NaN                NaN  \n",
      "11  take rate: 3.57            NaN                NaN  \n",
      "12  take rate: 3.63            NaN                NaN  \n",
      "13  take rate: 3.17            NaN                NaN  \n",
      "14  take rate: 6.61            NaN                NaN  \n",
      "15  take rate: 5.54            NaN                NaN  \n",
      "16  take rate: 6.93            NaN                NaN  \n",
      "17  take rate: 4.97            NaN                NaN  \n",
      "18  take rate: 5.77            NaN                NaN  \n",
      "19  take rate: 2.95            NaN                NaN  \n"
     ]
    }
   ],
   "source": [
    "merchant_fraud = pd.read_csv('../data/raw/merchant_fraud_probability.csv')\n",
    "merged_merchants = merchants.merge(merchant_fraud, on='merchant_abn', how='left')\n",
    "\n",
    "print(merged_merchants.head(20))"
   ]
  },
  {
   "cell_type": "code",
   "execution_count": 140,
   "metadata": {},
   "outputs": [
    {
     "data": {
      "text/html": [
       "<div>\n",
       "<style scoped>\n",
       "    .dataframe tbody tr th:only-of-type {\n",
       "        vertical-align: middle;\n",
       "    }\n",
       "\n",
       "    .dataframe tbody tr th {\n",
       "        vertical-align: top;\n",
       "    }\n",
       "\n",
       "    .dataframe thead th {\n",
       "        text-align: right;\n",
       "    }\n",
       "</style>\n",
       "<table border=\"1\" class=\"dataframe\">\n",
       "  <thead>\n",
       "    <tr style=\"text-align: right;\">\n",
       "      <th></th>\n",
       "      <th>merchant_abn</th>\n",
       "      <th>order_datetime</th>\n",
       "      <th>fraud_probability</th>\n",
       "    </tr>\n",
       "  </thead>\n",
       "  <tbody>\n",
       "    <tr>\n",
       "      <th>0</th>\n",
       "      <td>19492220327</td>\n",
       "      <td>2021-11-28</td>\n",
       "      <td>44.403659</td>\n",
       "    </tr>\n",
       "    <tr>\n",
       "      <th>1</th>\n",
       "      <td>31334588839</td>\n",
       "      <td>2021-10-02</td>\n",
       "      <td>42.755301</td>\n",
       "    </tr>\n",
       "    <tr>\n",
       "      <th>2</th>\n",
       "      <td>19492220327</td>\n",
       "      <td>2021-12-22</td>\n",
       "      <td>38.867790</td>\n",
       "    </tr>\n",
       "    <tr>\n",
       "      <th>3</th>\n",
       "      <td>82999039227</td>\n",
       "      <td>2021-12-19</td>\n",
       "      <td>94.134700</td>\n",
       "    </tr>\n",
       "    <tr>\n",
       "      <th>4</th>\n",
       "      <td>90918180829</td>\n",
       "      <td>2021-09-02</td>\n",
       "      <td>43.325517</td>\n",
       "    </tr>\n",
       "  </tbody>\n",
       "</table>\n",
       "</div>"
      ],
      "text/plain": [
       "   merchant_abn order_datetime  fraud_probability\n",
       "0   19492220327     2021-11-28          44.403659\n",
       "1   31334588839     2021-10-02          42.755301\n",
       "2   19492220327     2021-12-22          38.867790\n",
       "3   82999039227     2021-12-19          94.134700\n",
       "4   90918180829     2021-09-02          43.325517"
      ]
     },
     "execution_count": 131,
     "metadata": {},
     "output_type": "execute_result"
    }
   ],
   "source": [
    "merchant_fraud.head()"
   ]
  },
  {
   "cell_type": "code",
   "execution_count": 109,
   "metadata": {},
   "outputs": [],
   "source": [
    "frauddf = pd.read_csv('../data/raw/consumer_fraud_probability.csv')\n",
    "consumerdf = pd.read_csv('../data/raw/tbl_consumer.csv', delimiter='|')\n",
    "userdf = pd.read_parquet('../data/raw/consumer_user_details.parquet')\n",
    "mergeddf1 = consumerdf.merge(userdf, on='consumer_id', how='left')\n",
    "mdf = mergeddf1.merge(frauddf, on='user_id', how='left')"
   ]
  },
  {
   "cell_type": "code",
   "execution_count": 174,
   "metadata": {
    "scrolled": true
   },
   "outputs": [
    {
     "name": "stdout",
     "output_type": "stream",
     "text": [
      "Null Counts:\n",
      "name                      0\n",
      "address                   0\n",
      "state                     0\n",
      "postcode                  0\n",
      "gender                    0\n",
      "consumer_id               0\n",
      "user_id                   0\n",
      "order_datetime       479871\n",
      "fraud_probability    479871\n",
      "dtype: int64\n",
      "\n",
      "Non-Null Counts:\n",
      "name                 514735\n",
      "address              514735\n",
      "state                514735\n",
      "postcode             514735\n",
      "gender               514735\n",
      "consumer_id          514735\n",
      "user_id              514735\n",
      "order_datetime        34864\n",
      "fraud_probability     34864\n",
      "dtype: int64\n",
      "Index(['name', 'address', 'state', 'postcode', 'gender', 'consumer_id',\n",
      "       'user_id', 'order_datetime', 'fraud_probability'],\n",
      "      dtype='object')\n"
     ]
    }
   ],
   "source": [
    "null_counts = mdf.isnull().sum()\n",
    "\n",
    "non_null_counts = mdf.notnull().sum()\n",
    "\n",
    "print(\"Null Counts:\")\n",
    "print(null_counts)\n",
    "print(\"\\nNon-Null Counts:\")\n",
    "print(non_null_counts)\n",
    "print(mdf.columns)"
   ]
  },
  {
   "cell_type": "code",
   "execution_count": 140,
   "metadata": {},
   "outputs": [
    {
     "name": "stdout",
     "output_type": "stream",
     "text": [
      "Null values in each column:\n",
      " consumer_id               0\n",
      "name                      0\n",
      "address                   0\n",
      "state                     0\n",
      "postcode                  0\n",
      "gender                    0\n",
      "user_id              479871\n",
      "order_datetime       479871\n",
      "fraud_probability    479871\n",
      "dtype: int64\n",
      "Total number of null values in the DataFrame: 1439613\n",
      "Number of rows with at least one null value: 479871\n"
     ]
    }
   ],
   "source": [
    "# Count the number of null values in each column\n",
    "null_counts = merged_consumer.isnull().sum()\n",
    "\n",
    "# Print the number of null values in each column\n",
    "print(\"Null values in each column:\\n\", null_counts)\n",
    "\n",
    "# Count the total number of null values in the DataFrame\n",
    "total_nulls = merged_consumer.isnull().sum().sum()\n",
    "\n",
    "# Print the total number of null values\n",
    "print(\"Total number of null values in the DataFrame:\", total_nulls)\n",
    "\n",
    "# Count the number of rows with at least one null value\n",
    "rows_with_nulls = merged_consumer.isnull().any(axis=1).sum()\n",
    "\n",
    "# Print the number of rows with at least one null value\n",
    "print(\"Number of rows with at least one null value:\", rows_with_nulls)"
   ]
  },
  {
   "cell_type": "code",
   "execution_count": 143,
   "metadata": {},
   "outputs": [
    {
     "name": "stdout",
     "output_type": "stream",
     "text": [
      "514735\n"
     ]
    }
   ],
   "source": [
    "row_count = len(merged_consumer)\n",
    "print(row_count)"
   ]
  }
 ],
 "metadata": {
  "kernelspec": {
   "display_name": "Python 3 (ipykernel)",
   "language": "python",
   "name": "python3"
  },
  "language_info": {
   "codemirror_mode": {
    "name": "ipython",
    "version": 3
   },
   "file_extension": ".py",
   "mimetype": "text/x-python",
   "name": "python",
   "nbconvert_exporter": "python",
   "pygments_lexer": "ipython3",
   "version": "3.11.7"
   "version": "3.9.7"
  }
 },
 "nbformat": 4,
 "nbformat_minor": 4
}
