{
 "cells": [
  {
   "cell_type": "code",
   "execution_count": 12,
   "metadata": {},
   "outputs": [
    {
     "name": "stdout",
     "output_type": "stream",
     "text": [
      "['../test/order_datetime=2021-10-19/part-00003-b265e002-bffa-4201-a2a4-590ab25f4477.c000.snappy.parquet', '../test/order_datetime=2022-09-01/part-00005-bd1de064-b854-4ca3-9886-c1f7ca24ac73.c000.snappy.parquet', '../test/order_datetime=2021-08-12/part-00001-cfff5211-ef46-4b99-a6ed-63c9b2c7fe15.c000.snappy.parquet', '../test/order_datetime=2021-10-26/part-00003-b265e002-bffa-4201-a2a4-590ab25f4477.c000.snappy.parquet', '../test/order_datetime=2021-08-15/part-00001-cfff5211-ef46-4b99-a6ed-63c9b2c7fe15.c000.snappy.parquet', '../test/order_datetime=2022-09-06/part-00005-bd1de064-b854-4ca3-9886-c1f7ca24ac73.c000.snappy.parquet', '../test/order_datetime=2021-10-21/part-00003-b265e002-bffa-4201-a2a4-590ab25f4477.c000.snappy.parquet', '../test/order_datetime=2022-09-30/part-00005-bd1de064-b854-4ca3-9886-c1f7ca24ac73.c000.snappy.parquet', '../test/order_datetime=2021-08-23/part-00001-cfff5211-ef46-4b99-a6ed-63c9b2c7fe15.c000.snappy.parquet', '../test/order_datetime=2021-10-28/part-00003-b265e002-bffa-4201-a2a4-590ab25f4477.c000.snappy.parquet', '../test/order_datetime=2021-10-17/part-00003-b265e002-bffa-4201-a2a4-590ab25f4477.c000.snappy.parquet', '../test/order_datetime=2021-08-24/part-00001-cfff5211-ef46-4b99-a6ed-63c9b2c7fe15.c000.snappy.parquet', '../test/order_datetime=2021-10-10/part-00003-b265e002-bffa-4201-a2a4-590ab25f4477.c000.snappy.parquet', '../test/order_datetime=2022-09-08/part-00005-bd1de064-b854-4ca3-9886-c1f7ca24ac73.c000.snappy.parquet', '../test/order_datetime=2022-02-24/part-00003-b265e002-bffa-4201-a2a4-590ab25f4477.c000.snappy.parquet', '../test/order_datetime=2021-04-20/part-00001-cfff5211-ef46-4b99-a6ed-63c9b2c7fe15.c000.snappy.parquet', '../test/order_datetime=2022-01-03/part-00003-b265e002-bffa-4201-a2a4-590ab25f4477.c000.snappy.parquet', '../test/order_datetime=2022-06-14/part-00005-bd1de064-b854-4ca3-9886-c1f7ca24ac73.c000.snappy.parquet', '../test/order_datetime=2021-07-07/part-00001-cfff5211-ef46-4b99-a6ed-63c9b2c7fe15.c000.snappy.parquet', '../test/order_datetime=2021-03-08/part-00001-cfff5211-ef46-4b99-a6ed-63c9b2c7fe15.c000.snappy.parquet', '../test/order_datetime=2022-06-13/part-00005-bd1de064-b854-4ca3-9886-c1f7ca24ac73.c000.snappy.parquet', '../test/order_datetime=2022-01-04/part-00003-b265e002-bffa-4201-a2a4-590ab25f4477.c000.snappy.parquet', '../test/order_datetime=2021-04-27/part-00001-cfff5211-ef46-4b99-a6ed-63c9b2c7fe15.c000.snappy.parquet', '../test/order_datetime=2021-03-30/part-00001-cfff5211-ef46-4b99-a6ed-63c9b2c7fe15.c000.snappy.parquet', '../test/order_datetime=2022-02-23/part-00003-b265e002-bffa-4201-a2a4-590ab25f4477.c000.snappy.parquet', '../test/order_datetime=2021-04-18/part-00001-cfff5211-ef46-4b99-a6ed-63c9b2c7fe15.c000.snappy.parquet', '../test/order_datetime=2022-06-25/part-00005-bd1de064-b854-4ca3-9886-c1f7ca24ac73.c000.snappy.parquet', '../test/order_datetime=2022-05-02/part-00005-bd1de064-b854-4ca3-9886-c1f7ca24ac73.c000.snappy.parquet', '../test/order_datetime=2022-02-15/part-00003-b265e002-bffa-4201-a2a4-590ab25f4477.c000.snappy.parquet', '../test/order_datetime=2021-04-11/part-00001-cfff5211-ef46-4b99-a6ed-63c9b2c7fe15.c000.snappy.parquet', '../test/order_datetime=2021-03-06/part-00001-cfff5211-ef46-4b99-a6ed-63c9b2c7fe15.c000.snappy.parquet', '../test/order_datetime=2021-07-09/part-00001-cfff5211-ef46-4b99-a6ed-63c9b2c7fe15.c000.snappy.parquet', '../test/order_datetime=2021-03-01/part-00001-cfff5211-ef46-4b99-a6ed-63c9b2c7fe15.c000.snappy.parquet', '../test/order_datetime=2021-04-16/part-00001-cfff5211-ef46-4b99-a6ed-63c9b2c7fe15.c000.snappy.parquet', '../test/order_datetime=2022-02-12/part-00003-b265e002-bffa-4201-a2a4-590ab25f4477.c000.snappy.parquet', '../test/order_datetime=2022-05-05/part-00005-bd1de064-b854-4ca3-9886-c1f7ca24ac73.c000.snappy.parquet', '../test/order_datetime=2021-07-31/part-00001-cfff5211-ef46-4b99-a6ed-63c9b2c7fe15.c000.snappy.parquet', '../test/order_datetime=2022-06-22/part-00005-bd1de064-b854-4ca3-9886-c1f7ca24ac73.c000.snappy.parquet', '../test/order_datetime=2021-04-29/part-00001-cfff5211-ef46-4b99-a6ed-63c9b2c7fe15.c000.snappy.parquet', '../test/order_datetime=2021-08-25/part-00001-cfff5211-ef46-4b99-a6ed-63c9b2c7fe15.c000.snappy.parquet', '../test/order_datetime=2022-09-09/part-00005-bd1de064-b854-4ca3-9886-c1f7ca24ac73.c000.snappy.parquet', '../test/order_datetime=2021-10-11/part-00003-b265e002-bffa-4201-a2a4-590ab25f4477.c000.snappy.parquet', '../test/order_datetime=2021-10-29/part-00003-b265e002-bffa-4201-a2a4-590ab25f4477.c000.snappy.parquet', '../test/order_datetime=2021-08-22/part-00001-cfff5211-ef46-4b99-a6ed-63c9b2c7fe15.c000.snappy.parquet', '../test/order_datetime=2021-10-16/part-00003-b265e002-bffa-4201-a2a4-590ab25f4477.c000.snappy.parquet', '../test/order_datetime=2021-08-14/part-00001-cfff5211-ef46-4b99-a6ed-63c9b2c7fe15.c000.snappy.parquet', '../test/order_datetime=2022-09-07/part-00005-bd1de064-b854-4ca3-9886-c1f7ca24ac73.c000.snappy.parquet', '../test/order_datetime=2021-10-20/part-00003-b265e002-bffa-4201-a2a4-590ab25f4477.c000.snappy.parquet', '../test/order_datetime=2021-08-13/part-00001-cfff5211-ef46-4b99-a6ed-63c9b2c7fe15.c000.snappy.parquet', '../test/order_datetime=2021-10-18/part-00003-b265e002-bffa-4201-a2a4-590ab25f4477.c000.snappy.parquet', '../test/order_datetime=2021-10-27/part-00003-b265e002-bffa-4201-a2a4-590ab25f4477.c000.snappy.parquet', '../test/order_datetime=2021-07-30/part-00001-cfff5211-ef46-4b99-a6ed-63c9b2c7fe15.c000.snappy.parquet', '../test/order_datetime=2022-06-23/part-00005-bd1de064-b854-4ca3-9886-c1f7ca24ac73.c000.snappy.parquet', '../test/order_datetime=2021-04-17/part-00001-cfff5211-ef46-4b99-a6ed-63c9b2c7fe15.c000.snappy.parquet', '../test/order_datetime=2022-05-04/part-00005-bd1de064-b854-4ca3-9886-c1f7ca24ac73.c000.snappy.parquet', '../test/order_datetime=2022-02-13/part-00003-b265e002-bffa-4201-a2a4-590ab25f4477.c000.snappy.parquet', '../test/order_datetime=2021-04-28/part-00001-cfff5211-ef46-4b99-a6ed-63c9b2c7fe15.c000.snappy.parquet', '../test/order_datetime=2022-02-14/part-00003-b265e002-bffa-4201-a2a4-590ab25f4477.c000.snappy.parquet', '../test/order_datetime=2022-05-03/part-00005-bd1de064-b854-4ca3-9886-c1f7ca24ac73.c000.snappy.parquet', '../test/order_datetime=2021-03-07/part-00001-cfff5211-ef46-4b99-a6ed-63c9b2c7fe15.c000.snappy.parquet', '../test/order_datetime=2021-04-10/part-00001-cfff5211-ef46-4b99-a6ed-63c9b2c7fe15.c000.snappy.parquet', '../test/order_datetime=2022-06-24/part-00005-bd1de064-b854-4ca3-9886-c1f7ca24ac73.c000.snappy.parquet', '../test/order_datetime=2021-07-08/part-00001-cfff5211-ef46-4b99-a6ed-63c9b2c7fe15.c000.snappy.parquet', '../test/order_datetime=2021-03-31/part-00001-cfff5211-ef46-4b99-a6ed-63c9b2c7fe15.c000.snappy.parquet', '../test/order_datetime=2021-04-26/part-00001-cfff5211-ef46-4b99-a6ed-63c9b2c7fe15.c000.snappy.parquet', '../test/order_datetime=2022-02-22/part-00003-b265e002-bffa-4201-a2a4-590ab25f4477.c000.snappy.parquet', '../test/order_datetime=2021-07-01/part-00001-cfff5211-ef46-4b99-a6ed-63c9b2c7fe15.c000.snappy.parquet', '../test/order_datetime=2022-01-05/part-00003-b265e002-bffa-4201-a2a4-590ab25f4477.c000.snappy.parquet', '../test/order_datetime=2022-06-12/part-00005-bd1de064-b854-4ca3-9886-c1f7ca24ac73.c000.snappy.parquet', '../test/order_datetime=2021-04-19/part-00001-cfff5211-ef46-4b99-a6ed-63c9b2c7fe15.c000.snappy.parquet', '../test/order_datetime=2022-06-15/part-00005-bd1de064-b854-4ca3-9886-c1f7ca24ac73.c000.snappy.parquet', '../test/order_datetime=2022-01-02/part-00003-b265e002-bffa-4201-a2a4-590ab25f4477.c000.snappy.parquet', '../test/order_datetime=2021-07-06/part-00001-cfff5211-ef46-4b99-a6ed-63c9b2c7fe15.c000.snappy.parquet', '../test/order_datetime=2022-02-25/part-00003-b265e002-bffa-4201-a2a4-590ab25f4477.c000.snappy.parquet', '../test/order_datetime=2021-04-21/part-00001-cfff5211-ef46-4b99-a6ed-63c9b2c7fe15.c000.snappy.parquet', '../test/order_datetime=2021-03-09/part-00001-cfff5211-ef46-4b99-a6ed-63c9b2c7fe15.c000.snappy.parquet', '../test/order_datetime=2021-09-25/part-00003-b265e002-bffa-4201-a2a4-590ab25f4477.c000.snappy.parquet', '../test/order_datetime=2021-12-09/part-00003-b265e002-bffa-4201-a2a4-590ab25f4477.c000.snappy.parquet', '../test/order_datetime=2022-08-09/part-00005-bd1de064-b854-4ca3-9886-c1f7ca24ac73.c000.snappy.parquet', '../test/order_datetime=2021-11-11/part-00003-b265e002-bffa-4201-a2a4-590ab25f4477.c000.snappy.parquet', '../test/order_datetime=2022-10-02/part-00005-bd1de064-b854-4ca3-9886-c1f7ca24ac73.c000.snappy.parquet', '../test/order_datetime=2021-11-29/part-00003-b265e002-bffa-4201-a2a4-590ab25f4477.c000.snappy.parquet', '../test/order_datetime=2022-08-31/part-00005-bd1de064-b854-4ca3-9886-c1f7ca24ac73.c000.snappy.parquet', '../test/order_datetime=2021-09-22/part-00003-b265e002-bffa-4201-a2a4-590ab25f4477.c000.snappy.parquet', '../test/order_datetime=2022-10-05/part-00005-bd1de064-b854-4ca3-9886-c1f7ca24ac73.c000.snappy.parquet', '../test/order_datetime=2021-11-16/part-00003-b265e002-bffa-4201-a2a4-590ab25f4477.c000.snappy.parquet', '../test/order_datetime=2021-12-31/part-00003-b265e002-bffa-4201-a2a4-590ab25f4477.c000.snappy.parquet', '../test/order_datetime=2021-09-14/part-00003-b265e002-bffa-4201-a2a4-590ab25f4477.c000.snappy.parquet', '../test/order_datetime=2022-08-07/part-00005-bd1de064-b854-4ca3-9886-c1f7ca24ac73.c000.snappy.parquet', '../test/order_datetime=2021-11-20/part-00003-b265e002-bffa-4201-a2a4-590ab25f4477.c000.snappy.parquet', '../test/order_datetime=2021-12-07/part-00003-b265e002-bffa-4201-a2a4-590ab25f4477.c000.snappy.parquet', '../test/order_datetime=2021-09-13/part-00003-b265e002-bffa-4201-a2a4-590ab25f4477.c000.snappy.parquet', '../test/order_datetime=2021-11-18/part-00003-b265e002-bffa-4201-a2a4-590ab25f4477.c000.snappy.parquet', '../test/order_datetime=2021-11-27/part-00003-b265e002-bffa-4201-a2a4-590ab25f4477.c000.snappy.parquet', '../test/order_datetime=2021-06-30/part-00001-cfff5211-ef46-4b99-a6ed-63c9b2c7fe15.c000.snappy.parquet', '../test/order_datetime=2022-07-23/part-00005-bd1de064-b854-4ca3-9886-c1f7ca24ac73.c000.snappy.parquet', '../test/order_datetime=2021-05-17/part-00001-cfff5211-ef46-4b99-a6ed-63c9b2c7fe15.c000.snappy.parquet', '../test/order_datetime=2022-03-13/part-00005-bd1de064-b854-4ca3-9886-c1f7ca24ac73.c000.snappy.parquet', '../test/order_datetime=2022-04-04/part-00005-bd1de064-b854-4ca3-9886-c1f7ca24ac73.c000.snappy.parquet', '../test/order_datetime=2021-05-28/part-00001-cfff5211-ef46-4b99-a6ed-63c9b2c7fe15.c000.snappy.parquet', '../test/order_datetime=2022-04-03/part-00005-bd1de064-b854-4ca3-9886-c1f7ca24ac73.c000.snappy.parquet', '../test/order_datetime=2022-03-14/part-00005-bd1de064-b854-4ca3-9886-c1f7ca24ac73.c000.snappy.parquet', '../test/order_datetime=2021-05-10/part-00001-cfff5211-ef46-4b99-a6ed-63c9b2c7fe15.c000.snappy.parquet', '../test/order_datetime=2022-07-24/part-00005-bd1de064-b854-4ca3-9886-c1f7ca24ac73.c000.snappy.parquet', '../test/order_datetime=2021-06-08/part-00001-cfff5211-ef46-4b99-a6ed-63c9b2c7fe15.c000.snappy.parquet', '../test/order_datetime=2021-05-26/part-00001-cfff5211-ef46-4b99-a6ed-63c9b2c7fe15.c000.snappy.parquet', '../test/order_datetime=2022-03-22/part-00005-bd1de064-b854-4ca3-9886-c1f7ca24ac73.c000.snappy.parquet', '../test/order_datetime=2021-06-01/part-00001-cfff5211-ef46-4b99-a6ed-63c9b2c7fe15.c000.snappy.parquet', '../test/order_datetime=2022-07-12/part-00005-bd1de064-b854-4ca3-9886-c1f7ca24ac73.c000.snappy.parquet', '../test/order_datetime=2021-05-19/part-00001-cfff5211-ef46-4b99-a6ed-63c9b2c7fe15.c000.snappy.parquet', '../test/order_datetime=2022-07-15/part-00005-bd1de064-b854-4ca3-9886-c1f7ca24ac73.c000.snappy.parquet', '../test/order_datetime=2021-06-06/part-00001-cfff5211-ef46-4b99-a6ed-63c9b2c7fe15.c000.snappy.parquet', '../test/order_datetime=2022-03-25/part-00005-bd1de064-b854-4ca3-9886-c1f7ca24ac73.c000.snappy.parquet', '../test/order_datetime=2021-05-21/part-00001-cfff5211-ef46-4b99-a6ed-63c9b2c7fe15.c000.snappy.parquet', '../test/order_datetime=2021-11-19/part-00003-b265e002-bffa-4201-a2a4-590ab25f4477.c000.snappy.parquet', '../test/order_datetime=2022-08-01/part-00005-bd1de064-b854-4ca3-9886-c1f7ca24ac73.c000.snappy.parquet', '../test/order_datetime=2021-09-12/part-00003-b265e002-bffa-4201-a2a4-590ab25f4477.c000.snappy.parquet', '../test/order_datetime=2021-11-26/part-00003-b265e002-bffa-4201-a2a4-590ab25f4477.c000.snappy.parquet', '../test/order_datetime=2021-12-01/part-00003-b265e002-bffa-4201-a2a4-590ab25f4477.c000.snappy.parquet', '../test/order_datetime=2021-09-15/part-00003-b265e002-bffa-4201-a2a4-590ab25f4477.c000.snappy.parquet', '../test/order_datetime=2022-08-06/part-00005-bd1de064-b854-4ca3-9886-c1f7ca24ac73.c000.snappy.parquet', '../test/order_datetime=2021-12-06/part-00003-b265e002-bffa-4201-a2a4-590ab25f4477.c000.snappy.parquet', '../test/order_datetime=2021-11-21/part-00003-b265e002-bffa-4201-a2a4-590ab25f4477.c000.snappy.parquet', '../test/order_datetime=2022-08-30/part-00005-bd1de064-b854-4ca3-9886-c1f7ca24ac73.c000.snappy.parquet', '../test/order_datetime=2021-09-23/part-00003-b265e002-bffa-4201-a2a4-590ab25f4477.c000.snappy.parquet', '../test/order_datetime=2021-11-28/part-00003-b265e002-bffa-4201-a2a4-590ab25f4477.c000.snappy.parquet', '../test/order_datetime=2021-12-30/part-00003-b265e002-bffa-4201-a2a4-590ab25f4477.c000.snappy.parquet', '../test/order_datetime=2022-10-04/part-00005-bd1de064-b854-4ca3-9886-c1f7ca24ac73.c000.snappy.parquet', '../test/order_datetime=2021-11-17/part-00003-b265e002-bffa-4201-a2a4-590ab25f4477.c000.snappy.parquet', '../test/order_datetime=2021-09-24/part-00003-b265e002-bffa-4201-a2a4-590ab25f4477.c000.snappy.parquet', '../test/order_datetime=2021-12-08/part-00003-b265e002-bffa-4201-a2a4-590ab25f4477.c000.snappy.parquet', '../test/order_datetime=2021-11-10/part-00003-b265e002-bffa-4201-a2a4-590ab25f4477.c000.snappy.parquet', '../test/order_datetime=2022-10-03/part-00005-bd1de064-b854-4ca3-9886-c1f7ca24ac73.c000.snappy.parquet', '../test/order_datetime=2022-08-08/part-00005-bd1de064-b854-4ca3-9886-c1f7ca24ac73.c000.snappy.parquet', '../test/order_datetime=2022-03-24/part-00005-bd1de064-b854-4ca3-9886-c1f7ca24ac73.c000.snappy.parquet', '../test/order_datetime=2021-05-20/part-00001-cfff5211-ef46-4b99-a6ed-63c9b2c7fe15.c000.snappy.parquet', '../test/order_datetime=2022-07-14/part-00005-bd1de064-b854-4ca3-9886-c1f7ca24ac73.c000.snappy.parquet', '../test/order_datetime=2021-06-07/part-00001-cfff5211-ef46-4b99-a6ed-63c9b2c7fe15.c000.snappy.parquet', '../test/order_datetime=2022-07-13/part-00005-bd1de064-b854-4ca3-9886-c1f7ca24ac73.c000.snappy.parquet', '../test/order_datetime=2021-05-27/part-00001-cfff5211-ef46-4b99-a6ed-63c9b2c7fe15.c000.snappy.parquet', '../test/order_datetime=2022-03-23/part-00005-bd1de064-b854-4ca3-9886-c1f7ca24ac73.c000.snappy.parquet', '../test/order_datetime=2021-05-18/part-00001-cfff5211-ef46-4b99-a6ed-63c9b2c7fe15.c000.snappy.parquet', '../test/order_datetime=2022-07-25/part-00005-bd1de064-b854-4ca3-9886-c1f7ca24ac73.c000.snappy.parquet', '../test/order_datetime=2022-03-15/part-00005-bd1de064-b854-4ca3-9886-c1f7ca24ac73.c000.snappy.parquet', '../test/order_datetime=2022-04-02/part-00005-bd1de064-b854-4ca3-9886-c1f7ca24ac73.c000.snappy.parquet', '../test/order_datetime=2021-05-11/part-00001-cfff5211-ef46-4b99-a6ed-63c9b2c7fe15.c000.snappy.parquet', '../test/order_datetime=2021-06-09/part-00001-cfff5211-ef46-4b99-a6ed-63c9b2c7fe15.c000.snappy.parquet', '../test/order_datetime=2021-05-16/part-00001-cfff5211-ef46-4b99-a6ed-63c9b2c7fe15.c000.snappy.parquet', '../test/order_datetime=2022-04-05/part-00005-bd1de064-b854-4ca3-9886-c1f7ca24ac73.c000.snappy.parquet', '../test/order_datetime=2022-03-12/part-00005-bd1de064-b854-4ca3-9886-c1f7ca24ac73.c000.snappy.parquet', '../test/order_datetime=2022-07-22/part-00005-bd1de064-b854-4ca3-9886-c1f7ca24ac73.c000.snappy.parquet', '../test/order_datetime=2021-05-29/part-00001-cfff5211-ef46-4b99-a6ed-63c9b2c7fe15.c000.snappy.parquet', '../test/order_datetime=2022-04-18/part-00005-bd1de064-b854-4ca3-9886-c1f7ca24ac73.c000.snappy.parquet', '../test/order_datetime=2022-03-30/part-00005-bd1de064-b854-4ca3-9886-c1f7ca24ac73.c000.snappy.parquet', '../test/order_datetime=2022-04-27/part-00005-bd1de064-b854-4ca3-9886-c1f7ca24ac73.c000.snappy.parquet', '../test/order_datetime=2021-06-13/part-00001-cfff5211-ef46-4b99-a6ed-63c9b2c7fe15.c000.snappy.parquet', '../test/order_datetime=2022-03-08/part-00005-bd1de064-b854-4ca3-9886-c1f7ca24ac73.c000.snappy.parquet', '../test/order_datetime=2021-06-14/part-00001-cfff5211-ef46-4b99-a6ed-63c9b2c7fe15.c000.snappy.parquet', '../test/order_datetime=2022-07-07/part-00005-bd1de064-b854-4ca3-9886-c1f7ca24ac73.c000.snappy.parquet', '../test/order_datetime=2022-04-20/part-00005-bd1de064-b854-4ca3-9886-c1f7ca24ac73.c000.snappy.parquet', '../test/order_datetime=2022-04-29/part-00005-bd1de064-b854-4ca3-9886-c1f7ca24ac73.c000.snappy.parquet', '../test/order_datetime=2022-07-31/part-00005-bd1de064-b854-4ca3-9886-c1f7ca24ac73.c000.snappy.parquet', '../test/order_datetime=2021-06-22/part-00001-cfff5211-ef46-4b99-a6ed-63c9b2c7fe15.c000.snappy.parquet', '../test/order_datetime=2022-04-16/part-00005-bd1de064-b854-4ca3-9886-c1f7ca24ac73.c000.snappy.parquet', '../test/order_datetime=2022-03-01/part-00005-bd1de064-b854-4ca3-9886-c1f7ca24ac73.c000.snappy.parquet', '../test/order_datetime=2021-05-05/part-00001-cfff5211-ef46-4b99-a6ed-63c9b2c7fe15.c000.snappy.parquet', '../test/order_datetime=2022-07-09/part-00005-bd1de064-b854-4ca3-9886-c1f7ca24ac73.c000.snappy.parquet', '../test/order_datetime=2021-05-02/part-00001-cfff5211-ef46-4b99-a6ed-63c9b2c7fe15.c000.snappy.parquet', '../test/order_datetime=2022-03-06/part-00005-bd1de064-b854-4ca3-9886-c1f7ca24ac73.c000.snappy.parquet', '../test/order_datetime=2022-04-11/part-00005-bd1de064-b854-4ca3-9886-c1f7ca24ac73.c000.snappy.parquet', '../test/order_datetime=2021-06-25/part-00001-cfff5211-ef46-4b99-a6ed-63c9b2c7fe15.c000.snappy.parquet', '../test/order_datetime=2022-10-21/part-00005-bd1de064-b854-4ca3-9886-c1f7ca24ac73.c000.snappy.parquet', '../test/order_datetime=2021-12-15/part-00003-b265e002-bffa-4201-a2a4-590ab25f4477.c000.snappy.parquet', '../test/order_datetime=2022-08-15/part-00005-bd1de064-b854-4ca3-9886-c1f7ca24ac73.c000.snappy.parquet', '../test/order_datetime=2021-09-06/part-00003-b265e002-bffa-4201-a2a4-590ab25f4477.c000.snappy.parquet', '../test/order_datetime=2021-12-12/part-00003-b265e002-bffa-4201-a2a4-590ab25f4477.c000.snappy.parquet', '../test/order_datetime=2022-10-26/part-00005-bd1de064-b854-4ca3-9886-c1f7ca24ac73.c000.snappy.parquet', '../test/order_datetime=2021-09-01/part-00003-b265e002-bffa-4201-a2a4-590ab25f4477.c000.snappy.parquet', '../test/order_datetime=2022-08-12/part-00005-bd1de064-b854-4ca3-9886-c1f7ca24ac73.c000.snappy.parquet', '../test/order_datetime=2022-10-19/part-00005-bd1de064-b854-4ca3-9886-c1f7ca24ac73.c000.snappy.parquet', '../test/order_datetime=2021-09-08/part-00003-b265e002-bffa-4201-a2a4-590ab25f4477.c000.snappy.parquet', '../test/order_datetime=2021-12-24/part-00003-b265e002-bffa-4201-a2a4-590ab25f4477.c000.snappy.parquet', '../test/order_datetime=2022-10-10/part-00005-bd1de064-b854-4ca3-9886-c1f7ca24ac73.c000.snappy.parquet', '../test/order_datetime=2021-11-03/part-00003-b265e002-bffa-4201-a2a4-590ab25f4477.c000.snappy.parquet', '../test/order_datetime=2022-08-24/part-00005-bd1de064-b854-4ca3-9886-c1f7ca24ac73.c000.snappy.parquet', '../test/order_datetime=2021-11-04/part-00003-b265e002-bffa-4201-a2a4-590ab25f4477.c000.snappy.parquet', '../test/order_datetime=2022-10-17/part-00005-bd1de064-b854-4ca3-9886-c1f7ca24ac73.c000.snappy.parquet', '../test/order_datetime=2021-12-23/part-00003-b265e002-bffa-4201-a2a4-590ab25f4477.c000.snappy.parquet', '../test/order_datetime=2021-09-30/part-00003-b265e002-bffa-4201-a2a4-590ab25f4477.c000.snappy.parquet', '../test/order_datetime=2022-08-23/part-00005-bd1de064-b854-4ca3-9886-c1f7ca24ac73.c000.snappy.parquet', '../test/order_datetime=2022-07-08/part-00005-bd1de064-b854-4ca3-9886-c1f7ca24ac73.c000.snappy.parquet', '../test/order_datetime=2021-06-24/part-00001-cfff5211-ef46-4b99-a6ed-63c9b2c7fe15.c000.snappy.parquet', '../test/order_datetime=2021-05-03/part-00001-cfff5211-ef46-4b99-a6ed-63c9b2c7fe15.c000.snappy.parquet', '../test/order_datetime=2022-04-10/part-00005-bd1de064-b854-4ca3-9886-c1f7ca24ac73.c000.snappy.parquet', '../test/order_datetime=2022-03-07/part-00005-bd1de064-b854-4ca3-9886-c1f7ca24ac73.c000.snappy.parquet', '../test/order_datetime=2022-04-28/part-00005-bd1de064-b854-4ca3-9886-c1f7ca24ac73.c000.snappy.parquet', '../test/order_datetime=2022-04-17/part-00005-bd1de064-b854-4ca3-9886-c1f7ca24ac73.c000.snappy.parquet', '../test/order_datetime=2021-05-04/part-00001-cfff5211-ef46-4b99-a6ed-63c9b2c7fe15.c000.snappy.parquet', '../test/order_datetime=2022-07-30/part-00005-bd1de064-b854-4ca3-9886-c1f7ca24ac73.c000.snappy.parquet', '../test/order_datetime=2021-06-23/part-00001-cfff5211-ef46-4b99-a6ed-63c9b2c7fe15.c000.snappy.parquet', '../test/order_datetime=2022-03-09/part-00005-bd1de064-b854-4ca3-9886-c1f7ca24ac73.c000.snappy.parquet', '../test/order_datetime=2022-04-21/part-00005-bd1de064-b854-4ca3-9886-c1f7ca24ac73.c000.snappy.parquet', '../test/order_datetime=2021-06-15/part-00001-cfff5211-ef46-4b99-a6ed-63c9b2c7fe15.c000.snappy.parquet', '../test/order_datetime=2022-07-06/part-00005-bd1de064-b854-4ca3-9886-c1f7ca24ac73.c000.snappy.parquet', '../test/order_datetime=2022-04-19/part-00005-bd1de064-b854-4ca3-9886-c1f7ca24ac73.c000.snappy.parquet', '../test/order_datetime=2022-07-01/part-00005-bd1de064-b854-4ca3-9886-c1f7ca24ac73.c000.snappy.parquet', '../test/order_datetime=2021-06-12/part-00001-cfff5211-ef46-4b99-a6ed-63c9b2c7fe15.c000.snappy.parquet', '../test/order_datetime=2022-04-26/part-00005-bd1de064-b854-4ca3-9886-c1f7ca24ac73.c000.snappy.parquet', '../test/order_datetime=2022-03-31/part-00005-bd1de064-b854-4ca3-9886-c1f7ca24ac73.c000.snappy.parquet', '../test/order_datetime=2021-12-22/part-00003-b265e002-bffa-4201-a2a4-590ab25f4477.c000.snappy.parquet', '../test/order_datetime=2021-11-05/part-00003-b265e002-bffa-4201-a2a4-590ab25f4477.c000.snappy.parquet', '../test/order_datetime=2022-10-16/part-00005-bd1de064-b854-4ca3-9886-c1f7ca24ac73.c000.snappy.parquet', '../test/order_datetime=2022-08-22/part-00005-bd1de064-b854-4ca3-9886-c1f7ca24ac73.c000.snappy.parquet', '../test/order_datetime=2022-10-11/part-00005-bd1de064-b854-4ca3-9886-c1f7ca24ac73.c000.snappy.parquet', '../test/order_datetime=2021-11-02/part-00003-b265e002-bffa-4201-a2a4-590ab25f4477.c000.snappy.parquet', '../test/order_datetime=2021-09-09/part-00003-b265e002-bffa-4201-a2a4-590ab25f4477.c000.snappy.parquet', '../test/order_datetime=2021-12-25/part-00003-b265e002-bffa-4201-a2a4-590ab25f4477.c000.snappy.parquet', '../test/order_datetime=2022-08-25/part-00005-bd1de064-b854-4ca3-9886-c1f7ca24ac73.c000.snappy.parquet', '../test/order_datetime=2021-12-13/part-00003-b265e002-bffa-4201-a2a4-590ab25f4477.c000.snappy.parquet', '../test/order_datetime=2022-10-18/part-00005-bd1de064-b854-4ca3-9886-c1f7ca24ac73.c000.snappy.parquet', '../test/order_datetime=2022-08-13/part-00005-bd1de064-b854-4ca3-9886-c1f7ca24ac73.c000.snappy.parquet', '../test/order_datetime=2021-12-14/part-00003-b265e002-bffa-4201-a2a4-590ab25f4477.c000.snappy.parquet', '../test/order_datetime=2022-10-20/part-00005-bd1de064-b854-4ca3-9886-c1f7ca24ac73.c000.snappy.parquet', '../test/order_datetime=2022-08-14/part-00005-bd1de064-b854-4ca3-9886-c1f7ca24ac73.c000.snappy.parquet', '../test/order_datetime=2021-09-07/part-00003-b265e002-bffa-4201-a2a4-590ab25f4477.c000.snappy.parquet', '../test/order_datetime=2022-06-08/part-00005-bd1de064-b854-4ca3-9886-c1f7ca24ac73.c000.snappy.parquet', '../test/order_datetime=2021-07-24/part-00001-cfff5211-ef46-4b99-a6ed-63c9b2c7fe15.c000.snappy.parquet', '../test/order_datetime=2022-01-20/part-00003-b265e002-bffa-4201-a2a4-590ab25f4477.c000.snappy.parquet', '../test/order_datetime=2021-03-14/part-00001-cfff5211-ef46-4b99-a6ed-63c9b2c7fe15.c000.snappy.parquet', '../test/order_datetime=2021-04-03/part-00001-cfff5211-ef46-4b99-a6ed-63c9b2c7fe15.c000.snappy.parquet', '../test/order_datetime=2022-02-07/part-00003-b265e002-bffa-4201-a2a4-590ab25f4477.c000.snappy.parquet', '../test/order_datetime=2022-05-10/part-00005-bd1de064-b854-4ca3-9886-c1f7ca24ac73.c000.snappy.parquet', '../test/order_datetime=2022-05-28/part-00005-bd1de064-b854-4ca3-9886-c1f7ca24ac73.c000.snappy.parquet', '../test/order_datetime=2022-01-18/part-00003-b265e002-bffa-4201-a2a4-590ab25f4477.c000.snappy.parquet', '../test/order_datetime=2022-05-17/part-00005-bd1de064-b854-4ca3-9886-c1f7ca24ac73.c000.snappy.parquet', '../test/order_datetime=2021-04-04/part-00001-cfff5211-ef46-4b99-a6ed-63c9b2c7fe15.c000.snappy.parquet', '../test/order_datetime=2021-03-13/part-00001-cfff5211-ef46-4b99-a6ed-63c9b2c7fe15.c000.snappy.parquet', '../test/order_datetime=2022-06-30/part-00005-bd1de064-b854-4ca3-9886-c1f7ca24ac73.c000.snappy.parquet', '../test/order_datetime=2022-01-27/part-00003-b265e002-bffa-4201-a2a4-590ab25f4477.c000.snappy.parquet', '../test/order_datetime=2021-07-23/part-00001-cfff5211-ef46-4b99-a6ed-63c9b2c7fe15.c000.snappy.parquet', '../test/order_datetime=2022-02-09/part-00003-b265e002-bffa-4201-a2a4-590ab25f4477.c000.snappy.parquet', '../test/order_datetime=2021-03-25/part-00001-cfff5211-ef46-4b99-a6ed-63c9b2c7fe15.c000.snappy.parquet', '../test/order_datetime=2022-05-21/part-00005-bd1de064-b854-4ca3-9886-c1f7ca24ac73.c000.snappy.parquet', '../test/order_datetime=2021-07-15/part-00001-cfff5211-ef46-4b99-a6ed-63c9b2c7fe15.c000.snappy.parquet', '../test/order_datetime=2022-06-06/part-00005-bd1de064-b854-4ca3-9886-c1f7ca24ac73.c000.snappy.parquet', '../test/order_datetime=2022-01-11/part-00003-b265e002-bffa-4201-a2a4-590ab25f4477.c000.snappy.parquet', '../test/order_datetime=2022-01-29/part-00003-b265e002-bffa-4201-a2a4-590ab25f4477.c000.snappy.parquet', '../test/order_datetime=2022-05-19/part-00005-bd1de064-b854-4ca3-9886-c1f7ca24ac73.c000.snappy.parquet', '../test/order_datetime=2022-01-16/part-00003-b265e002-bffa-4201-a2a4-590ab25f4477.c000.snappy.parquet', '../test/order_datetime=2022-06-01/part-00005-bd1de064-b854-4ca3-9886-c1f7ca24ac73.c000.snappy.parquet', '../test/order_datetime=2021-07-12/part-00001-cfff5211-ef46-4b99-a6ed-63c9b2c7fe15.c000.snappy.parquet', '../test/order_datetime=2022-05-26/part-00005-bd1de064-b854-4ca3-9886-c1f7ca24ac73.c000.snappy.parquet', '../test/order_datetime=2021-03-22/part-00001-cfff5211-ef46-4b99-a6ed-63c9b2c7fe15.c000.snappy.parquet', '../test/order_datetime=2021-10-05/part-00003-b265e002-bffa-4201-a2a4-590ab25f4477.c000.snappy.parquet', '../test/order_datetime=2021-08-31/part-00003-b265e002-bffa-4201-a2a4-590ab25f4477.c000.snappy.parquet', '../test/order_datetime=2022-09-22/part-00005-bd1de064-b854-4ca3-9886-c1f7ca24ac73.c000.snappy.parquet', '../test/order_datetime=2021-10-02/part-00003-b265e002-bffa-4201-a2a4-590ab25f4477.c000.snappy.parquet', '../test/order_datetime=2021-08-09/part-00001-cfff5211-ef46-4b99-a6ed-63c9b2c7fe15.c000.snappy.parquet', '../test/order_datetime=2022-09-25/part-00005-bd1de064-b854-4ca3-9886-c1f7ca24ac73.c000.snappy.parquet', '../test/order_datetime=2022-09-13/part-00005-bd1de064-b854-4ca3-9886-c1f7ca24ac73.c000.snappy.parquet', '../test/order_datetime=2022-09-14/part-00005-bd1de064-b854-4ca3-9886-c1f7ca24ac73.c000.snappy.parquet', '../test/order_datetime=2021-08-07/part-00001-cfff5211-ef46-4b99-a6ed-63c9b2c7fe15.c000.snappy.parquet', '../test/order_datetime=2022-05-18/part-00005-bd1de064-b854-4ca3-9886-c1f7ca24ac73.c000.snappy.parquet', '../test/order_datetime=2022-01-28/part-00003-b265e002-bffa-4201-a2a4-590ab25f4477.c000.snappy.parquet', '../test/order_datetime=2022-05-27/part-00005-bd1de064-b854-4ca3-9886-c1f7ca24ac73.c000.snappy.parquet', '../test/order_datetime=2021-03-23/part-00001-cfff5211-ef46-4b99-a6ed-63c9b2c7fe15.c000.snappy.parquet', '../test/order_datetime=2022-01-17/part-00003-b265e002-bffa-4201-a2a4-590ab25f4477.c000.snappy.parquet', '../test/order_datetime=2021-07-13/part-00001-cfff5211-ef46-4b99-a6ed-63c9b2c7fe15.c000.snappy.parquet', '../test/order_datetime=2022-02-08/part-00003-b265e002-bffa-4201-a2a4-590ab25f4477.c000.snappy.parquet', '../test/order_datetime=2021-07-14/part-00001-cfff5211-ef46-4b99-a6ed-63c9b2c7fe15.c000.snappy.parquet', '../test/order_datetime=2022-01-10/part-00003-b265e002-bffa-4201-a2a4-590ab25f4477.c000.snappy.parquet', '../test/order_datetime=2022-06-07/part-00005-bd1de064-b854-4ca3-9886-c1f7ca24ac73.c000.snappy.parquet', '../test/order_datetime=2021-03-24/part-00001-cfff5211-ef46-4b99-a6ed-63c9b2c7fe15.c000.snappy.parquet', '../test/order_datetime=2022-05-20/part-00005-bd1de064-b854-4ca3-9886-c1f7ca24ac73.c000.snappy.parquet', '../test/order_datetime=2022-01-19/part-00003-b265e002-bffa-4201-a2a4-590ab25f4477.c000.snappy.parquet', '../test/order_datetime=2022-05-29/part-00005-bd1de064-b854-4ca3-9886-c1f7ca24ac73.c000.snappy.parquet', '../test/order_datetime=2022-01-26/part-00003-b265e002-bffa-4201-a2a4-590ab25f4477.c000.snappy.parquet', '../test/order_datetime=2021-07-22/part-00001-cfff5211-ef46-4b99-a6ed-63c9b2c7fe15.c000.snappy.parquet', '../test/order_datetime=2022-02-01/part-00003-b265e002-bffa-4201-a2a4-590ab25f4477.c000.snappy.parquet', '../test/order_datetime=2022-05-16/part-00005-bd1de064-b854-4ca3-9886-c1f7ca24ac73.c000.snappy.parquet', '../test/order_datetime=2021-03-12/part-00001-cfff5211-ef46-4b99-a6ed-63c9b2c7fe15.c000.snappy.parquet', '../test/order_datetime=2021-04-05/part-00001-cfff5211-ef46-4b99-a6ed-63c9b2c7fe15.c000.snappy.parquet', '../test/order_datetime=2022-06-09/part-00005-bd1de064-b854-4ca3-9886-c1f7ca24ac73.c000.snappy.parquet', '../test/order_datetime=2021-04-02/part-00001-cfff5211-ef46-4b99-a6ed-63c9b2c7fe15.c000.snappy.parquet', '../test/order_datetime=2021-03-15/part-00001-cfff5211-ef46-4b99-a6ed-63c9b2c7fe15.c000.snappy.parquet', '../test/order_datetime=2022-05-11/part-00005-bd1de064-b854-4ca3-9886-c1f7ca24ac73.c000.snappy.parquet', '../test/order_datetime=2022-02-06/part-00003-b265e002-bffa-4201-a2a4-590ab25f4477.c000.snappy.parquet', '../test/order_datetime=2021-07-25/part-00001-cfff5211-ef46-4b99-a6ed-63c9b2c7fe15.c000.snappy.parquet', '../test/order_datetime=2022-01-21/part-00003-b265e002-bffa-4201-a2a4-590ab25f4477.c000.snappy.parquet', '../test/order_datetime=2022-09-15/part-00005-bd1de064-b854-4ca3-9886-c1f7ca24ac73.c000.snappy.parquet', '../test/order_datetime=2021-08-06/part-00001-cfff5211-ef46-4b99-a6ed-63c9b2c7fe15.c000.snappy.parquet', '../test/order_datetime=2021-08-01/part-00001-cfff5211-ef46-4b99-a6ed-63c9b2c7fe15.c000.snappy.parquet', '../test/order_datetime=2022-09-12/part-00005-bd1de064-b854-4ca3-9886-c1f7ca24ac73.c000.snappy.parquet', '../test/order_datetime=2021-08-08/part-00001-cfff5211-ef46-4b99-a6ed-63c9b2c7fe15.c000.snappy.parquet', '../test/order_datetime=2021-10-03/part-00003-b265e002-bffa-4201-a2a4-590ab25f4477.c000.snappy.parquet', '../test/order_datetime=2022-09-24/part-00005-bd1de064-b854-4ca3-9886-c1f7ca24ac73.c000.snappy.parquet', '../test/order_datetime=2021-10-04/part-00003-b265e002-bffa-4201-a2a4-590ab25f4477.c000.snappy.parquet', '../test/order_datetime=2021-08-30/part-00003-b265e002-bffa-4201-a2a4-590ab25f4477.c000.snappy.parquet', '../test/order_datetime=2022-09-23/part-00005-bd1de064-b854-4ca3-9886-c1f7ca24ac73.c000.snappy.parquet', '../test/order_datetime=2021-07-03/part-00001-cfff5211-ef46-4b99-a6ed-63c9b2c7fe15.c000.snappy.parquet', '../test/order_datetime=2022-01-07/part-00003-b265e002-bffa-4201-a2a4-590ab25f4477.c000.snappy.parquet', '../test/order_datetime=2022-06-10/part-00005-bd1de064-b854-4ca3-9886-c1f7ca24ac73.c000.snappy.parquet', '../test/order_datetime=2021-04-24/part-00001-cfff5211-ef46-4b99-a6ed-63c9b2c7fe15.c000.snappy.parquet', '../test/order_datetime=2022-02-20/part-00003-b265e002-bffa-4201-a2a4-590ab25f4477.c000.snappy.parquet', '../test/order_datetime=2022-05-08/part-00005-bd1de064-b854-4ca3-9886-c1f7ca24ac73.c000.snappy.parquet', '../test/order_datetime=2022-05-30/part-00005-bd1de064-b854-4ca3-9886-c1f7ca24ac73.c000.snappy.parquet', '../test/order_datetime=2022-02-27/part-00003-b265e002-bffa-4201-a2a4-590ab25f4477.c000.snappy.parquet', '../test/order_datetime=2021-04-23/part-00001-cfff5211-ef46-4b99-a6ed-63c9b2c7fe15.c000.snappy.parquet', '../test/order_datetime=2022-06-17/part-00005-bd1de064-b854-4ca3-9886-c1f7ca24ac73.c000.snappy.parquet', '../test/order_datetime=2021-07-04/part-00001-cfff5211-ef46-4b99-a6ed-63c9b2c7fe15.c000.snappy.parquet', '../test/order_datetime=2022-02-18/part-00003-b265e002-bffa-4201-a2a4-590ab25f4477.c000.snappy.parquet', '../test/order_datetime=2022-06-28/part-00005-bd1de064-b854-4ca3-9886-c1f7ca24ac73.c000.snappy.parquet', '../test/order_datetime=2021-04-15/part-00001-cfff5211-ef46-4b99-a6ed-63c9b2c7fe15.c000.snappy.parquet', '../test/order_datetime=2021-03-02/part-00001-cfff5211-ef46-4b99-a6ed-63c9b2c7fe15.c000.snappy.parquet', '../test/order_datetime=2022-05-06/part-00005-bd1de064-b854-4ca3-9886-c1f7ca24ac73.c000.snappy.parquet', '../test/order_datetime=2022-02-11/part-00003-b265e002-bffa-4201-a2a4-590ab25f4477.c000.snappy.parquet', '../test/order_datetime=2022-06-21/part-00005-bd1de064-b854-4ca3-9886-c1f7ca24ac73.c000.snappy.parquet', '../test/order_datetime=2022-01-09/part-00003-b265e002-bffa-4201-a2a4-590ab25f4477.c000.snappy.parquet', '../test/order_datetime=2022-01-31/part-00003-b265e002-bffa-4201-a2a4-590ab25f4477.c000.snappy.parquet', '../test/order_datetime=2022-06-26/part-00005-bd1de064-b854-4ca3-9886-c1f7ca24ac73.c000.snappy.parquet', '../test/order_datetime=2022-02-16/part-00003-b265e002-bffa-4201-a2a4-590ab25f4477.c000.snappy.parquet', '../test/order_datetime=2022-05-01/part-00005-bd1de064-b854-4ca3-9886-c1f7ca24ac73.c000.snappy.parquet', '../test/order_datetime=2021-03-05/part-00001-cfff5211-ef46-4b99-a6ed-63c9b2c7fe15.c000.snappy.parquet', '../test/order_datetime=2021-04-12/part-00001-cfff5211-ef46-4b99-a6ed-63c9b2c7fe15.c000.snappy.parquet', '../test/order_datetime=2022-06-19/part-00005-bd1de064-b854-4ca3-9886-c1f7ca24ac73.c000.snappy.parquet', '../test/order_datetime=2021-08-16/part-00001-cfff5211-ef46-4b99-a6ed-63c9b2c7fe15.c000.snappy.parquet', '../test/order_datetime=2022-09-05/part-00005-bd1de064-b854-4ca3-9886-c1f7ca24ac73.c000.snappy.parquet', '../test/order_datetime=2021-08-29/part-00003-b265e002-bffa-4201-a2a4-590ab25f4477.c000.snappy.parquet', '../test/order_datetime=2021-10-22/part-00003-b265e002-bffa-4201-a2a4-590ab25f4477.c000.snappy.parquet', '../test/order_datetime=2022-09-02/part-00005-bd1de064-b854-4ca3-9886-c1f7ca24ac73.c000.snappy.parquet', '../test/order_datetime=2021-08-11/part-00001-cfff5211-ef46-4b99-a6ed-63c9b2c7fe15.c000.snappy.parquet', '../test/order_datetime=2021-10-25/part-00003-b265e002-bffa-4201-a2a4-590ab25f4477.c000.snappy.parquet', '../test/order_datetime=2021-08-27/part-00001-cfff5211-ef46-4b99-a6ed-63c9b2c7fe15.c000.snappy.parquet', '../test/order_datetime=2021-10-13/part-00003-b265e002-bffa-4201-a2a4-590ab25f4477.c000.snappy.parquet', '../test/order_datetime=2021-08-18/part-00001-cfff5211-ef46-4b99-a6ed-63c9b2c7fe15.c000.snappy.parquet', '../test/order_datetime=2021-08-20/part-00001-cfff5211-ef46-4b99-a6ed-63c9b2c7fe15.c000.snappy.parquet', '../test/order_datetime=2021-10-14/part-00003-b265e002-bffa-4201-a2a4-590ab25f4477.c000.snappy.parquet', '../test/order_datetime=2022-02-17/part-00003-b265e002-bffa-4201-a2a4-590ab25f4477.c000.snappy.parquet', '../test/order_datetime=2021-04-13/part-00001-cfff5211-ef46-4b99-a6ed-63c9b2c7fe15.c000.snappy.parquet', '../test/order_datetime=2021-03-04/part-00001-cfff5211-ef46-4b99-a6ed-63c9b2c7fe15.c000.snappy.parquet', '../test/order_datetime=2022-06-27/part-00005-bd1de064-b854-4ca3-9886-c1f7ca24ac73.c000.snappy.parquet', '../test/order_datetime=2022-01-30/part-00003-b265e002-bffa-4201-a2a4-590ab25f4477.c000.snappy.parquet', '../test/order_datetime=2022-02-28/part-00005-bd1de064-b854-4ca3-9886-c1f7ca24ac73.c000.snappy.parquet', '../test/order_datetime=2022-06-18/part-00005-bd1de064-b854-4ca3-9886-c1f7ca24ac73.c000.snappy.parquet', '../test/order_datetime=2022-06-20/part-00005-bd1de064-b854-4ca3-9886-c1f7ca24ac73.c000.snappy.parquet', '../test/order_datetime=2021-03-03/part-00001-cfff5211-ef46-4b99-a6ed-63c9b2c7fe15.c000.snappy.parquet', '../test/order_datetime=2021-04-14/part-00001-cfff5211-ef46-4b99-a6ed-63c9b2c7fe15.c000.snappy.parquet', '../test/order_datetime=2022-02-10/part-00003-b265e002-bffa-4201-a2a4-590ab25f4477.c000.snappy.parquet', '../test/order_datetime=2022-05-07/part-00005-bd1de064-b854-4ca3-9886-c1f7ca24ac73.c000.snappy.parquet', '../test/order_datetime=2022-01-08/part-00003-b265e002-bffa-4201-a2a4-590ab25f4477.c000.snappy.parquet', '../test/order_datetime=2022-01-01/part-00003-b265e002-bffa-4201-a2a4-590ab25f4477.c000.snappy.parquet', '../test/order_datetime=2022-06-16/part-00005-bd1de064-b854-4ca3-9886-c1f7ca24ac73.c000.snappy.parquet', '../test/order_datetime=2021-07-05/part-00001-cfff5211-ef46-4b99-a6ed-63c9b2c7fe15.c000.snappy.parquet', '../test/order_datetime=2022-02-26/part-00003-b265e002-bffa-4201-a2a4-590ab25f4477.c000.snappy.parquet', '../test/order_datetime=2022-05-31/part-00005-bd1de064-b854-4ca3-9886-c1f7ca24ac73.c000.snappy.parquet', '../test/order_datetime=2021-04-22/part-00001-cfff5211-ef46-4b99-a6ed-63c9b2c7fe15.c000.snappy.parquet', '../test/order_datetime=2022-06-29/part-00005-bd1de064-b854-4ca3-9886-c1f7ca24ac73.c000.snappy.parquet', '../test/order_datetime=2022-02-19/part-00003-b265e002-bffa-4201-a2a4-590ab25f4477.c000.snappy.parquet', '../test/order_datetime=2021-04-25/part-00001-cfff5211-ef46-4b99-a6ed-63c9b2c7fe15.c000.snappy.parquet', '../test/order_datetime=2022-02-21/part-00003-b265e002-bffa-4201-a2a4-590ab25f4477.c000.snappy.parquet', '../test/order_datetime=2021-07-02/part-00001-cfff5211-ef46-4b99-a6ed-63c9b2c7fe15.c000.snappy.parquet', '../test/order_datetime=2022-06-11/part-00005-bd1de064-b854-4ca3-9886-c1f7ca24ac73.c000.snappy.parquet', '../test/order_datetime=2022-01-06/part-00003-b265e002-bffa-4201-a2a4-590ab25f4477.c000.snappy.parquet', '../test/order_datetime=2022-05-09/part-00005-bd1de064-b854-4ca3-9886-c1f7ca24ac73.c000.snappy.parquet', '../test/order_datetime=2021-08-21/part-00001-cfff5211-ef46-4b99-a6ed-63c9b2c7fe15.c000.snappy.parquet', '../test/order_datetime=2021-10-15/part-00003-b265e002-bffa-4201-a2a4-590ab25f4477.c000.snappy.parquet', '../test/order_datetime=2021-08-26/part-00001-cfff5211-ef46-4b99-a6ed-63c9b2c7fe15.c000.snappy.parquet', '../test/order_datetime=2021-08-19/part-00001-cfff5211-ef46-4b99-a6ed-63c9b2c7fe15.c000.snappy.parquet', '../test/order_datetime=2021-10-12/part-00003-b265e002-bffa-4201-a2a4-590ab25f4477.c000.snappy.parquet', '../test/order_datetime=2022-09-03/part-00005-bd1de064-b854-4ca3-9886-c1f7ca24ac73.c000.snappy.parquet', '../test/order_datetime=2021-08-10/part-00001-cfff5211-ef46-4b99-a6ed-63c9b2c7fe15.c000.snappy.parquet', '../test/order_datetime=2021-10-24/part-00003-b265e002-bffa-4201-a2a4-590ab25f4477.c000.snappy.parquet', '../test/order_datetime=2021-08-17/part-00001-cfff5211-ef46-4b99-a6ed-63c9b2c7fe15.c000.snappy.parquet', '../test/order_datetime=2022-09-04/part-00005-bd1de064-b854-4ca3-9886-c1f7ca24ac73.c000.snappy.parquet', '../test/order_datetime=2021-10-23/part-00003-b265e002-bffa-4201-a2a4-590ab25f4477.c000.snappy.parquet', '../test/order_datetime=2021-08-28/part-00003-b265e002-bffa-4201-a2a4-590ab25f4477.c000.snappy.parquet', '../test/order_datetime=2022-03-17/part-00005-bd1de064-b854-4ca3-9886-c1f7ca24ac73.c000.snappy.parquet', '../test/order_datetime=2021-05-13/part-00001-cfff5211-ef46-4b99-a6ed-63c9b2c7fe15.c000.snappy.parquet', '../test/order_datetime=2022-07-27/part-00005-bd1de064-b854-4ca3-9886-c1f7ca24ac73.c000.snappy.parquet', '../test/order_datetime=2022-03-28/part-00005-bd1de064-b854-4ca3-9886-c1f7ca24ac73.c000.snappy.parquet', '../test/order_datetime=2022-07-18/part-00005-bd1de064-b854-4ca3-9886-c1f7ca24ac73.c000.snappy.parquet', '../test/order_datetime=2022-07-20/part-00005-bd1de064-b854-4ca3-9886-c1f7ca24ac73.c000.snappy.parquet', '../test/order_datetime=2021-05-14/part-00001-cfff5211-ef46-4b99-a6ed-63c9b2c7fe15.c000.snappy.parquet', '../test/order_datetime=2022-04-07/part-00005-bd1de064-b854-4ca3-9886-c1f7ca24ac73.c000.snappy.parquet', '../test/order_datetime=2022-03-10/part-00005-bd1de064-b854-4ca3-9886-c1f7ca24ac73.c000.snappy.parquet', '../test/order_datetime=2022-07-16/part-00005-bd1de064-b854-4ca3-9886-c1f7ca24ac73.c000.snappy.parquet', '../test/order_datetime=2021-06-05/part-00001-cfff5211-ef46-4b99-a6ed-63c9b2c7fe15.c000.snappy.parquet', '../test/order_datetime=2022-03-26/part-00005-bd1de064-b854-4ca3-9886-c1f7ca24ac73.c000.snappy.parquet', '../test/order_datetime=2021-05-22/part-00001-cfff5211-ef46-4b99-a6ed-63c9b2c7fe15.c000.snappy.parquet', '../test/order_datetime=2022-07-29/part-00005-bd1de064-b854-4ca3-9886-c1f7ca24ac73.c000.snappy.parquet', '../test/order_datetime=2022-03-19/part-00005-bd1de064-b854-4ca3-9886-c1f7ca24ac73.c000.snappy.parquet', '../test/order_datetime=2021-05-25/part-00001-cfff5211-ef46-4b99-a6ed-63c9b2c7fe15.c000.snappy.parquet', '../test/order_datetime=2022-03-21/part-00005-bd1de064-b854-4ca3-9886-c1f7ca24ac73.c000.snappy.parquet', '../test/order_datetime=2021-06-02/part-00001-cfff5211-ef46-4b99-a6ed-63c9b2c7fe15.c000.snappy.parquet', '../test/order_datetime=2022-07-11/part-00005-bd1de064-b854-4ca3-9886-c1f7ca24ac73.c000.snappy.parquet', '../test/order_datetime=2022-04-09/part-00005-bd1de064-b854-4ca3-9886-c1f7ca24ac73.c000.snappy.parquet', '../test/order_datetime=2021-09-21/part-00003-b265e002-bffa-4201-a2a4-590ab25f4477.c000.snappy.parquet', '../test/order_datetime=2022-10-06/part-00005-bd1de064-b854-4ca3-9886-c1f7ca24ac73.c000.snappy.parquet', '../test/order_datetime=2021-11-15/part-00003-b265e002-bffa-4201-a2a4-590ab25f4477.c000.snappy.parquet', '../test/order_datetime=2021-09-26/part-00003-b265e002-bffa-4201-a2a4-590ab25f4477.c000.snappy.parquet', '../test/order_datetime=2021-09-19/part-00003-b265e002-bffa-4201-a2a4-590ab25f4477.c000.snappy.parquet', '../test/order_datetime=2021-11-12/part-00003-b265e002-bffa-4201-a2a4-590ab25f4477.c000.snappy.parquet', '../test/order_datetime=2022-10-01/part-00005-bd1de064-b854-4ca3-9886-c1f7ca24ac73.c000.snappy.parquet', '../test/order_datetime=2022-08-03/part-00005-bd1de064-b854-4ca3-9886-c1f7ca24ac73.c000.snappy.parquet', '../test/order_datetime=2021-09-10/part-00003-b265e002-bffa-4201-a2a4-590ab25f4477.c000.snappy.parquet', '../test/order_datetime=2022-10-08/part-00005-bd1de064-b854-4ca3-9886-c1f7ca24ac73.c000.snappy.parquet', '../test/order_datetime=2021-12-03/part-00003-b265e002-bffa-4201-a2a4-590ab25f4477.c000.snappy.parquet', '../test/order_datetime=2021-11-24/part-00003-b265e002-bffa-4201-a2a4-590ab25f4477.c000.snappy.parquet', '../test/order_datetime=2021-09-17/part-00003-b265e002-bffa-4201-a2a4-590ab25f4477.c000.snappy.parquet', '../test/order_datetime=2022-08-04/part-00005-bd1de064-b854-4ca3-9886-c1f7ca24ac73.c000.snappy.parquet', '../test/order_datetime=2021-11-23/part-00003-b265e002-bffa-4201-a2a4-590ab25f4477.c000.snappy.parquet', '../test/order_datetime=2021-12-04/part-00003-b265e002-bffa-4201-a2a4-590ab25f4477.c000.snappy.parquet', '../test/order_datetime=2021-09-28/part-00003-b265e002-bffa-4201-a2a4-590ab25f4477.c000.snappy.parquet', '../test/order_datetime=2021-06-03/part-00001-cfff5211-ef46-4b99-a6ed-63c9b2c7fe15.c000.snappy.parquet', '../test/order_datetime=2022-07-10/part-00005-bd1de064-b854-4ca3-9886-c1f7ca24ac73.c000.snappy.parquet', '../test/order_datetime=2021-05-24/part-00001-cfff5211-ef46-4b99-a6ed-63c9b2c7fe15.c000.snappy.parquet', '../test/order_datetime=2022-03-20/part-00005-bd1de064-b854-4ca3-9886-c1f7ca24ac73.c000.snappy.parquet', '../test/order_datetime=2022-04-08/part-00005-bd1de064-b854-4ca3-9886-c1f7ca24ac73.c000.snappy.parquet', '../test/order_datetime=2022-03-27/part-00005-bd1de064-b854-4ca3-9886-c1f7ca24ac73.c000.snappy.parquet', '../test/order_datetime=2022-04-30/part-00005-bd1de064-b854-4ca3-9886-c1f7ca24ac73.c000.snappy.parquet', '../test/order_datetime=2021-05-23/part-00001-cfff5211-ef46-4b99-a6ed-63c9b2c7fe15.c000.snappy.parquet', '../test/order_datetime=2022-07-17/part-00005-bd1de064-b854-4ca3-9886-c1f7ca24ac73.c000.snappy.parquet', '../test/order_datetime=2021-06-04/part-00001-cfff5211-ef46-4b99-a6ed-63c9b2c7fe15.c000.snappy.parquet', '../test/order_datetime=2022-03-18/part-00005-bd1de064-b854-4ca3-9886-c1f7ca24ac73.c000.snappy.parquet', '../test/order_datetime=2022-07-28/part-00005-bd1de064-b854-4ca3-9886-c1f7ca24ac73.c000.snappy.parquet', '../test/order_datetime=2021-05-15/part-00001-cfff5211-ef46-4b99-a6ed-63c9b2c7fe15.c000.snappy.parquet', '../test/order_datetime=2022-03-11/part-00005-bd1de064-b854-4ca3-9886-c1f7ca24ac73.c000.snappy.parquet', '../test/order_datetime=2022-04-06/part-00005-bd1de064-b854-4ca3-9886-c1f7ca24ac73.c000.snappy.parquet', '../test/order_datetime=2022-07-21/part-00005-bd1de064-b854-4ca3-9886-c1f7ca24ac73.c000.snappy.parquet', '../test/order_datetime=2022-07-26/part-00005-bd1de064-b854-4ca3-9886-c1f7ca24ac73.c000.snappy.parquet', '../test/order_datetime=2022-04-01/part-00005-bd1de064-b854-4ca3-9886-c1f7ca24ac73.c000.snappy.parquet', '../test/order_datetime=2022-03-16/part-00005-bd1de064-b854-4ca3-9886-c1f7ca24ac73.c000.snappy.parquet', '../test/order_datetime=2021-05-12/part-00001-cfff5211-ef46-4b99-a6ed-63c9b2c7fe15.c000.snappy.parquet', '../test/order_datetime=2022-07-19/part-00005-bd1de064-b854-4ca3-9886-c1f7ca24ac73.c000.snappy.parquet', '../test/order_datetime=2022-03-29/part-00005-bd1de064-b854-4ca3-9886-c1f7ca24ac73.c000.snappy.parquet', '../test/order_datetime=2021-09-16/part-00003-b265e002-bffa-4201-a2a4-590ab25f4477.c000.snappy.parquet', '../test/order_datetime=2022-08-05/part-00005-bd1de064-b854-4ca3-9886-c1f7ca24ac73.c000.snappy.parquet', '../test/order_datetime=2021-12-05/part-00003-b265e002-bffa-4201-a2a4-590ab25f4477.c000.snappy.parquet', '../test/order_datetime=2021-09-29/part-00003-b265e002-bffa-4201-a2a4-590ab25f4477.c000.snappy.parquet', '../test/order_datetime=2021-11-22/part-00003-b265e002-bffa-4201-a2a4-590ab25f4477.c000.snappy.parquet', '../test/order_datetime=2022-10-09/part-00005-bd1de064-b854-4ca3-9886-c1f7ca24ac73.c000.snappy.parquet', '../test/order_datetime=2022-08-02/part-00005-bd1de064-b854-4ca3-9886-c1f7ca24ac73.c000.snappy.parquet', '../test/order_datetime=2021-09-11/part-00003-b265e002-bffa-4201-a2a4-590ab25f4477.c000.snappy.parquet', '../test/order_datetime=2021-11-25/part-00003-b265e002-bffa-4201-a2a4-590ab25f4477.c000.snappy.parquet', '../test/order_datetime=2021-12-02/part-00003-b265e002-bffa-4201-a2a4-590ab25f4477.c000.snappy.parquet', '../test/order_datetime=2021-09-27/part-00003-b265e002-bffa-4201-a2a4-590ab25f4477.c000.snappy.parquet', '../test/order_datetime=2021-11-13/part-00003-b265e002-bffa-4201-a2a4-590ab25f4477.c000.snappy.parquet', '../test/order_datetime=2021-09-18/part-00003-b265e002-bffa-4201-a2a4-590ab25f4477.c000.snappy.parquet', '../test/order_datetime=2021-09-20/part-00003-b265e002-bffa-4201-a2a4-590ab25f4477.c000.snappy.parquet', '../test/order_datetime=2022-10-07/part-00005-bd1de064-b854-4ca3-9886-c1f7ca24ac73.c000.snappy.parquet', '../test/order_datetime=2021-11-14/part-00003-b265e002-bffa-4201-a2a4-590ab25f4477.c000.snappy.parquet', '../test/order_datetime=2021-12-11/part-00003-b265e002-bffa-4201-a2a4-590ab25f4477.c000.snappy.parquet', '../test/order_datetime=2022-10-25/part-00005-bd1de064-b854-4ca3-9886-c1f7ca24ac73.c000.snappy.parquet', '../test/order_datetime=2021-09-02/part-00003-b265e002-bffa-4201-a2a4-590ab25f4477.c000.snappy.parquet', '../test/order_datetime=2022-08-11/part-00005-bd1de064-b854-4ca3-9886-c1f7ca24ac73.c000.snappy.parquet', '../test/order_datetime=2021-11-09/part-00003-b265e002-bffa-4201-a2a4-590ab25f4477.c000.snappy.parquet', '../test/order_datetime=2022-10-22/part-00005-bd1de064-b854-4ca3-9886-c1f7ca24ac73.c000.snappy.parquet', '../test/order_datetime=2021-12-16/part-00003-b265e002-bffa-4201-a2a4-590ab25f4477.c000.snappy.parquet', '../test/order_datetime=2022-08-29/part-00005-bd1de064-b854-4ca3-9886-c1f7ca24ac73.c000.snappy.parquet', '../test/order_datetime=2021-12-29/part-00003-b265e002-bffa-4201-a2a4-590ab25f4477.c000.snappy.parquet', '../test/order_datetime=2022-08-16/part-00005-bd1de064-b854-4ca3-9886-c1f7ca24ac73.c000.snappy.parquet', '../test/order_datetime=2021-09-05/part-00003-b265e002-bffa-4201-a2a4-590ab25f4477.c000.snappy.parquet', '../test/order_datetime=2021-11-07/part-00003-b265e002-bffa-4201-a2a4-590ab25f4477.c000.snappy.parquet', '../test/order_datetime=2022-10-14/part-00005-bd1de064-b854-4ca3-9886-c1f7ca24ac73.c000.snappy.parquet', '../test/order_datetime=2021-12-20/part-00003-b265e002-bffa-4201-a2a4-590ab25f4477.c000.snappy.parquet', '../test/order_datetime=2022-08-20/part-00005-bd1de064-b854-4ca3-9886-c1f7ca24ac73.c000.snappy.parquet', '../test/order_datetime=2021-12-27/part-00003-b265e002-bffa-4201-a2a4-590ab25f4477.c000.snappy.parquet', '../test/order_datetime=2022-08-18/part-00005-bd1de064-b854-4ca3-9886-c1f7ca24ac73.c000.snappy.parquet', '../test/order_datetime=2022-10-13/part-00005-bd1de064-b854-4ca3-9886-c1f7ca24ac73.c000.snappy.parquet', '../test/order_datetime=2021-12-18/part-00003-b265e002-bffa-4201-a2a4-590ab25f4477.c000.snappy.parquet', '../test/order_datetime=2022-08-27/part-00005-bd1de064-b854-4ca3-9886-c1f7ca24ac73.c000.snappy.parquet', '../test/order_datetime=2021-06-28/part-00001-cfff5211-ef46-4b99-a6ed-63c9b2c7fe15.c000.snappy.parquet', '../test/order_datetime=2021-06-17/part-00001-cfff5211-ef46-4b99-a6ed-63c9b2c7fe15.c000.snappy.parquet', '../test/order_datetime=2022-07-04/part-00005-bd1de064-b854-4ca3-9886-c1f7ca24ac73.c000.snappy.parquet', '../test/order_datetime=2021-05-30/part-00001-cfff5211-ef46-4b99-a6ed-63c9b2c7fe15.c000.snappy.parquet', '../test/order_datetime=2022-04-23/part-00005-bd1de064-b854-4ca3-9886-c1f7ca24ac73.c000.snappy.parquet', '../test/order_datetime=2021-05-08/part-00001-cfff5211-ef46-4b99-a6ed-63c9b2c7fe15.c000.snappy.parquet', '../test/order_datetime=2022-04-24/part-00005-bd1de064-b854-4ca3-9886-c1f7ca24ac73.c000.snappy.parquet', '../test/order_datetime=2022-07-03/part-00005-bd1de064-b854-4ca3-9886-c1f7ca24ac73.c000.snappy.parquet', '../test/order_datetime=2021-06-10/part-00001-cfff5211-ef46-4b99-a6ed-63c9b2c7fe15.c000.snappy.parquet', '../test/order_datetime=2021-06-19/part-00001-cfff5211-ef46-4b99-a6ed-63c9b2c7fe15.c000.snappy.parquet', '../test/order_datetime=2021-05-01/part-00001-cfff5211-ef46-4b99-a6ed-63c9b2c7fe15.c000.snappy.parquet', '../test/order_datetime=2022-04-12/part-00005-bd1de064-b854-4ca3-9886-c1f7ca24ac73.c000.snappy.parquet', '../test/order_datetime=2022-03-05/part-00005-bd1de064-b854-4ca3-9886-c1f7ca24ac73.c000.snappy.parquet', '../test/order_datetime=2021-06-26/part-00001-cfff5211-ef46-4b99-a6ed-63c9b2c7fe15.c000.snappy.parquet', '../test/order_datetime=2021-06-21/part-00001-cfff5211-ef46-4b99-a6ed-63c9b2c7fe15.c000.snappy.parquet', '../test/order_datetime=2022-03-02/part-00005-bd1de064-b854-4ca3-9886-c1f7ca24ac73.c000.snappy.parquet', '../test/order_datetime=2022-04-15/part-00005-bd1de064-b854-4ca3-9886-c1f7ca24ac73.c000.snappy.parquet', '../test/order_datetime=2021-05-06/part-00001-cfff5211-ef46-4b99-a6ed-63c9b2c7fe15.c000.snappy.parquet', '../test/order_datetime=2022-10-12/part-00005-bd1de064-b854-4ca3-9886-c1f7ca24ac73.c000.snappy.parquet', '../test/order_datetime=2021-11-01/part-00003-b265e002-bffa-4201-a2a4-590ab25f4477.c000.snappy.parquet', '../test/order_datetime=2022-08-19/part-00005-bd1de064-b854-4ca3-9886-c1f7ca24ac73.c000.snappy.parquet', '../test/order_datetime=2021-12-26/part-00003-b265e002-bffa-4201-a2a4-590ab25f4477.c000.snappy.parquet', '../test/order_datetime=2022-08-26/part-00005-bd1de064-b854-4ca3-9886-c1f7ca24ac73.c000.snappy.parquet', '../test/order_datetime=2021-12-19/part-00003-b265e002-bffa-4201-a2a4-590ab25f4477.c000.snappy.parquet', '../test/order_datetime=2021-12-21/part-00003-b265e002-bffa-4201-a2a4-590ab25f4477.c000.snappy.parquet', '../test/order_datetime=2021-11-06/part-00003-b265e002-bffa-4201-a2a4-590ab25f4477.c000.snappy.parquet', '../test/order_datetime=2022-10-15/part-00005-bd1de064-b854-4ca3-9886-c1f7ca24ac73.c000.snappy.parquet', '../test/order_datetime=2022-08-21/part-00005-bd1de064-b854-4ca3-9886-c1f7ca24ac73.c000.snappy.parquet', '../test/order_datetime=2022-08-28/part-00005-bd1de064-b854-4ca3-9886-c1f7ca24ac73.c000.snappy.parquet', '../test/order_datetime=2021-12-17/part-00003-b265e002-bffa-4201-a2a4-590ab25f4477.c000.snappy.parquet', '../test/order_datetime=2022-10-23/part-00005-bd1de064-b854-4ca3-9886-c1f7ca24ac73.c000.snappy.parquet', '../test/order_datetime=2021-11-30/part-00003-b265e002-bffa-4201-a2a4-590ab25f4477.c000.snappy.parquet', '../test/order_datetime=2022-08-17/part-00005-bd1de064-b854-4ca3-9886-c1f7ca24ac73.c000.snappy.parquet', '../test/order_datetime=2021-12-28/part-00003-b265e002-bffa-4201-a2a4-590ab25f4477.c000.snappy.parquet', '../test/order_datetime=2021-09-04/part-00003-b265e002-bffa-4201-a2a4-590ab25f4477.c000.snappy.parquet', '../test/order_datetime=2022-10-24/part-00005-bd1de064-b854-4ca3-9886-c1f7ca24ac73.c000.snappy.parquet', '../test/order_datetime=2021-12-10/part-00003-b265e002-bffa-4201-a2a4-590ab25f4477.c000.snappy.parquet', '../test/order_datetime=2021-11-08/part-00003-b265e002-bffa-4201-a2a4-590ab25f4477.c000.snappy.parquet', '../test/order_datetime=2021-09-03/part-00003-b265e002-bffa-4201-a2a4-590ab25f4477.c000.snappy.parquet', '../test/order_datetime=2022-08-10/part-00005-bd1de064-b854-4ca3-9886-c1f7ca24ac73.c000.snappy.parquet', '../test/order_datetime=2022-04-14/part-00005-bd1de064-b854-4ca3-9886-c1f7ca24ac73.c000.snappy.parquet', '../test/order_datetime=2022-03-03/part-00005-bd1de064-b854-4ca3-9886-c1f7ca24ac73.c000.snappy.parquet', '../test/order_datetime=2021-05-07/part-00001-cfff5211-ef46-4b99-a6ed-63c9b2c7fe15.c000.snappy.parquet', '../test/order_datetime=2021-06-20/part-00001-cfff5211-ef46-4b99-a6ed-63c9b2c7fe15.c000.snappy.parquet', '../test/order_datetime=2021-06-18/part-00001-cfff5211-ef46-4b99-a6ed-63c9b2c7fe15.c000.snappy.parquet', '../test/order_datetime=2021-02-28/part-00001-cfff5211-ef46-4b99-a6ed-63c9b2c7fe15.c000.snappy.parquet', '../test/order_datetime=2021-06-27/part-00001-cfff5211-ef46-4b99-a6ed-63c9b2c7fe15.c000.snappy.parquet', '../test/order_datetime=2022-03-04/part-00005-bd1de064-b854-4ca3-9886-c1f7ca24ac73.c000.snappy.parquet', '../test/order_datetime=2022-04-13/part-00005-bd1de064-b854-4ca3-9886-c1f7ca24ac73.c000.snappy.parquet', '../test/order_datetime=2021-05-09/part-00001-cfff5211-ef46-4b99-a6ed-63c9b2c7fe15.c000.snappy.parquet', '../test/order_datetime=2022-07-02/part-00005-bd1de064-b854-4ca3-9886-c1f7ca24ac73.c000.snappy.parquet', '../test/order_datetime=2021-06-11/part-00001-cfff5211-ef46-4b99-a6ed-63c9b2c7fe15.c000.snappy.parquet', '../test/order_datetime=2022-04-25/part-00005-bd1de064-b854-4ca3-9886-c1f7ca24ac73.c000.snappy.parquet', '../test/order_datetime=2021-06-29/part-00001-cfff5211-ef46-4b99-a6ed-63c9b2c7fe15.c000.snappy.parquet', '../test/order_datetime=2021-05-31/part-00001-cfff5211-ef46-4b99-a6ed-63c9b2c7fe15.c000.snappy.parquet', '../test/order_datetime=2022-04-22/part-00005-bd1de064-b854-4ca3-9886-c1f7ca24ac73.c000.snappy.parquet', '../test/order_datetime=2021-06-16/part-00001-cfff5211-ef46-4b99-a6ed-63c9b2c7fe15.c000.snappy.parquet', '../test/order_datetime=2022-07-05/part-00005-bd1de064-b854-4ca3-9886-c1f7ca24ac73.c000.snappy.parquet', '../test/order_datetime=2021-10-01/part-00003-b265e002-bffa-4201-a2a4-590ab25f4477.c000.snappy.parquet', '../test/order_datetime=2022-09-19/part-00005-bd1de064-b854-4ca3-9886-c1f7ca24ac73.c000.snappy.parquet', '../test/order_datetime=2022-09-26/part-00005-bd1de064-b854-4ca3-9886-c1f7ca24ac73.c000.snappy.parquet', '../test/order_datetime=2021-10-06/part-00003-b265e002-bffa-4201-a2a4-590ab25f4477.c000.snappy.parquet', '../test/order_datetime=2022-09-21/part-00005-bd1de064-b854-4ca3-9886-c1f7ca24ac73.c000.snappy.parquet', '../test/order_datetime=2022-09-28/part-00005-bd1de064-b854-4ca3-9886-c1f7ca24ac73.c000.snappy.parquet', '../test/order_datetime=2021-10-30/part-00003-b265e002-bffa-4201-a2a4-590ab25f4477.c000.snappy.parquet', '../test/order_datetime=2022-09-17/part-00005-bd1de064-b854-4ca3-9886-c1f7ca24ac73.c000.snappy.parquet', '../test/order_datetime=2021-08-04/part-00001-cfff5211-ef46-4b99-a6ed-63c9b2c7fe15.c000.snappy.parquet', '../test/order_datetime=2021-10-08/part-00003-b265e002-bffa-4201-a2a4-590ab25f4477.c000.snappy.parquet', '../test/order_datetime=2021-08-03/part-00001-cfff5211-ef46-4b99-a6ed-63c9b2c7fe15.c000.snappy.parquet', '../test/order_datetime=2022-09-10/part-00005-bd1de064-b854-4ca3-9886-c1f7ca24ac73.c000.snappy.parquet', '../test/order_datetime=2022-02-03/part-00003-b265e002-bffa-4201-a2a4-590ab25f4477.c000.snappy.parquet', '../test/order_datetime=2022-05-14/part-00005-bd1de064-b854-4ca3-9886-c1f7ca24ac73.c000.snappy.parquet', '../test/order_datetime=2021-03-10/part-00001-cfff5211-ef46-4b99-a6ed-63c9b2c7fe15.c000.snappy.parquet', '../test/order_datetime=2021-04-07/part-00001-cfff5211-ef46-4b99-a6ed-63c9b2c7fe15.c000.snappy.parquet', '../test/order_datetime=2022-01-24/part-00003-b265e002-bffa-4201-a2a4-590ab25f4477.c000.snappy.parquet', '../test/order_datetime=2021-07-20/part-00001-cfff5211-ef46-4b99-a6ed-63c9b2c7fe15.c000.snappy.parquet', '../test/order_datetime=2021-07-18/part-00001-cfff5211-ef46-4b99-a6ed-63c9b2c7fe15.c000.snappy.parquet', '../test/order_datetime=2021-03-28/part-00001-cfff5211-ef46-4b99-a6ed-63c9b2c7fe15.c000.snappy.parquet', '../test/order_datetime=2021-07-27/part-00001-cfff5211-ef46-4b99-a6ed-63c9b2c7fe15.c000.snappy.parquet', '../test/order_datetime=2022-01-23/part-00003-b265e002-bffa-4201-a2a4-590ab25f4477.c000.snappy.parquet', '../test/order_datetime=2021-03-17/part-00001-cfff5211-ef46-4b99-a6ed-63c9b2c7fe15.c000.snappy.parquet', '../test/order_datetime=2022-05-13/part-00005-bd1de064-b854-4ca3-9886-c1f7ca24ac73.c000.snappy.parquet', '../test/order_datetime=2022-02-04/part-00003-b265e002-bffa-4201-a2a4-590ab25f4477.c000.snappy.parquet', '../test/order_datetime=2021-04-09/part-00001-cfff5211-ef46-4b99-a6ed-63c9b2c7fe15.c000.snappy.parquet', '../test/order_datetime=2022-06-02/part-00005-bd1de064-b854-4ca3-9886-c1f7ca24ac73.c000.snappy.parquet', '../test/order_datetime=2022-01-15/part-00003-b265e002-bffa-4201-a2a4-590ab25f4477.c000.snappy.parquet', '../test/order_datetime=2021-07-11/part-00001-cfff5211-ef46-4b99-a6ed-63c9b2c7fe15.c000.snappy.parquet', '../test/order_datetime=2022-05-25/part-00005-bd1de064-b854-4ca3-9886-c1f7ca24ac73.c000.snappy.parquet', '../test/order_datetime=2021-03-21/part-00001-cfff5211-ef46-4b99-a6ed-63c9b2c7fe15.c000.snappy.parquet', '../test/order_datetime=2021-03-19/part-00001-cfff5211-ef46-4b99-a6ed-63c9b2c7fe15.c000.snappy.parquet', '../test/order_datetime=2021-07-29/part-00001-cfff5211-ef46-4b99-a6ed-63c9b2c7fe15.c000.snappy.parquet', '../test/order_datetime=2021-03-26/part-00001-cfff5211-ef46-4b99-a6ed-63c9b2c7fe15.c000.snappy.parquet', '../test/order_datetime=2022-05-22/part-00005-bd1de064-b854-4ca3-9886-c1f7ca24ac73.c000.snappy.parquet', '../test/order_datetime=2021-07-16/part-00001-cfff5211-ef46-4b99-a6ed-63c9b2c7fe15.c000.snappy.parquet', '../test/order_datetime=2022-01-12/part-00003-b265e002-bffa-4201-a2a4-590ab25f4477.c000.snappy.parquet', '../test/order_datetime=2022-06-05/part-00005-bd1de064-b854-4ca3-9886-c1f7ca24ac73.c000.snappy.parquet', '../test/order_datetime=2021-08-02/part-00001-cfff5211-ef46-4b99-a6ed-63c9b2c7fe15.c000.snappy.parquet', '../test/order_datetime=2022-09-11/part-00005-bd1de064-b854-4ca3-9886-c1f7ca24ac73.c000.snappy.parquet', '../test/order_datetime=2021-10-09/part-00003-b265e002-bffa-4201-a2a4-590ab25f4477.c000.snappy.parquet', '../test/order_datetime=2021-10-31/part-00003-b265e002-bffa-4201-a2a4-590ab25f4477.c000.snappy.parquet', '../test/order_datetime=2022-09-29/part-00005-bd1de064-b854-4ca3-9886-c1f7ca24ac73.c000.snappy.parquet', '../test/order_datetime=2022-09-16/part-00005-bd1de064-b854-4ca3-9886-c1f7ca24ac73.c000.snappy.parquet', '../test/order_datetime=2021-08-05/part-00001-cfff5211-ef46-4b99-a6ed-63c9b2c7fe15.c000.snappy.parquet', '../test/order_datetime=2021-10-07/part-00003-b265e002-bffa-4201-a2a4-590ab25f4477.c000.snappy.parquet', '../test/order_datetime=2022-09-20/part-00005-bd1de064-b854-4ca3-9886-c1f7ca24ac73.c000.snappy.parquet', '../test/order_datetime=2022-09-18/part-00005-bd1de064-b854-4ca3-9886-c1f7ca24ac73.c000.snappy.parquet', '../test/order_datetime=2022-09-27/part-00005-bd1de064-b854-4ca3-9886-c1f7ca24ac73.c000.snappy.parquet', '../test/order_datetime=2021-07-28/part-00001-cfff5211-ef46-4b99-a6ed-63c9b2c7fe15.c000.snappy.parquet', '../test/order_datetime=2021-03-18/part-00001-cfff5211-ef46-4b99-a6ed-63c9b2c7fe15.c000.snappy.parquet', '../test/order_datetime=2021-07-17/part-00001-cfff5211-ef46-4b99-a6ed-63c9b2c7fe15.c000.snappy.parquet', '../test/order_datetime=2022-06-04/part-00005-bd1de064-b854-4ca3-9886-c1f7ca24ac73.c000.snappy.parquet', '../test/order_datetime=2022-01-13/part-00003-b265e002-bffa-4201-a2a4-590ab25f4477.c000.snappy.parquet', '../test/order_datetime=2021-04-30/part-00001-cfff5211-ef46-4b99-a6ed-63c9b2c7fe15.c000.snappy.parquet', '../test/order_datetime=2021-03-27/part-00001-cfff5211-ef46-4b99-a6ed-63c9b2c7fe15.c000.snappy.parquet', '../test/order_datetime=2022-05-23/part-00005-bd1de064-b854-4ca3-9886-c1f7ca24ac73.c000.snappy.parquet', '../test/order_datetime=2021-04-08/part-00001-cfff5211-ef46-4b99-a6ed-63c9b2c7fe15.c000.snappy.parquet', '../test/order_datetime=2022-05-24/part-00005-bd1de064-b854-4ca3-9886-c1f7ca24ac73.c000.snappy.parquet', '../test/order_datetime=2021-03-20/part-00001-cfff5211-ef46-4b99-a6ed-63c9b2c7fe15.c000.snappy.parquet', '../test/order_datetime=2022-01-14/part-00003-b265e002-bffa-4201-a2a4-590ab25f4477.c000.snappy.parquet', '../test/order_datetime=2022-06-03/part-00005-bd1de064-b854-4ca3-9886-c1f7ca24ac73.c000.snappy.parquet', '../test/order_datetime=2021-07-10/part-00001-cfff5211-ef46-4b99-a6ed-63c9b2c7fe15.c000.snappy.parquet', '../test/order_datetime=2021-03-29/part-00001-cfff5211-ef46-4b99-a6ed-63c9b2c7fe15.c000.snappy.parquet', '../test/order_datetime=2021-07-19/part-00001-cfff5211-ef46-4b99-a6ed-63c9b2c7fe15.c000.snappy.parquet', '../test/order_datetime=2021-03-16/part-00001-cfff5211-ef46-4b99-a6ed-63c9b2c7fe15.c000.snappy.parquet', '../test/order_datetime=2021-04-01/part-00001-cfff5211-ef46-4b99-a6ed-63c9b2c7fe15.c000.snappy.parquet', '../test/order_datetime=2022-02-05/part-00003-b265e002-bffa-4201-a2a4-590ab25f4477.c000.snappy.parquet', '../test/order_datetime=2022-05-12/part-00005-bd1de064-b854-4ca3-9886-c1f7ca24ac73.c000.snappy.parquet', '../test/order_datetime=2021-07-26/part-00001-cfff5211-ef46-4b99-a6ed-63c9b2c7fe15.c000.snappy.parquet', '../test/order_datetime=2022-01-22/part-00003-b265e002-bffa-4201-a2a4-590ab25f4477.c000.snappy.parquet', '../test/order_datetime=2022-01-25/part-00003-b265e002-bffa-4201-a2a4-590ab25f4477.c000.snappy.parquet', '../test/order_datetime=2021-07-21/part-00001-cfff5211-ef46-4b99-a6ed-63c9b2c7fe15.c000.snappy.parquet', '../test/order_datetime=2022-05-15/part-00005-bd1de064-b854-4ca3-9886-c1f7ca24ac73.c000.snappy.parquet', '../test/order_datetime=2022-02-02/part-00003-b265e002-bffa-4201-a2a4-590ab25f4477.c000.snappy.parquet', '../test/order_datetime=2021-04-06/part-00001-cfff5211-ef46-4b99-a6ed-63c9b2c7fe15.c000.snappy.parquet', '../test/order_datetime=2021-03-11/part-00001-cfff5211-ef46-4b99-a6ed-63c9b2c7fe15.c000.snappy.parquet']\n"
     ]
    },
    {
     "data": {
      "text/html": [
       "<div>\n",
       "<style scoped>\n",
       "    .dataframe tbody tr th:only-of-type {\n",
       "        vertical-align: middle;\n",
       "    }\n",
       "\n",
       "    .dataframe tbody tr th {\n",
       "        vertical-align: top;\n",
       "    }\n",
       "\n",
       "    .dataframe thead th {\n",
       "        text-align: right;\n",
       "    }\n",
       "</style>\n",
       "<table border=\"1\" class=\"dataframe\">\n",
       "  <thead>\n",
       "    <tr style=\"text-align: right;\">\n",
       "      <th></th>\n",
       "      <th>user_id</th>\n",
       "      <th>merchant_abn</th>\n",
       "      <th>dollar_value</th>\n",
       "      <th>order_id</th>\n",
       "    </tr>\n",
       "  </thead>\n",
       "  <tbody>\n",
       "    <tr>\n",
       "      <th>0</th>\n",
       "      <td>14938</td>\n",
       "      <td>19933438190</td>\n",
       "      <td>28.197762</td>\n",
       "      <td>9ac44c8f-815e-4a5d-817c-74ac53327afa</td>\n",
       "    </tr>\n",
       "    <tr>\n",
       "      <th>1</th>\n",
       "      <td>1</td>\n",
       "      <td>80324045558</td>\n",
       "      <td>19.917432</td>\n",
       "      <td>2c7b1606-d9f1-4eac-99f8-97abc979ab41</td>\n",
       "    </tr>\n",
       "    <tr>\n",
       "      <th>2</th>\n",
       "      <td>14938</td>\n",
       "      <td>50315283629</td>\n",
       "      <td>88.556866</td>\n",
       "      <td>18507390-268c-4dee-8d19-22c4cdf72b58</td>\n",
       "    </tr>\n",
       "    <tr>\n",
       "      <th>3</th>\n",
       "      <td>1</td>\n",
       "      <td>62170730910</td>\n",
       "      <td>100.929076</td>\n",
       "      <td>4fe7b08f-72bd-42fb-b2ae-407c3249de55</td>\n",
       "    </tr>\n",
       "    <tr>\n",
       "      <th>4</th>\n",
       "      <td>14938</td>\n",
       "      <td>20527255332</td>\n",
       "      <td>205.822861</td>\n",
       "      <td>d1c2a45c-c0e2-4d25-9054-36c945b9a225</td>\n",
       "    </tr>\n",
       "  </tbody>\n",
       "</table>\n",
       "</div>"
      ],
      "text/plain": [
       "   user_id  merchant_abn  dollar_value                              order_id\n",
       "0    14938   19933438190     28.197762  9ac44c8f-815e-4a5d-817c-74ac53327afa\n",
       "1        1   80324045558     19.917432  2c7b1606-d9f1-4eac-99f8-97abc979ab41\n",
       "2    14938   50315283629     88.556866  18507390-268c-4dee-8d19-22c4cdf72b58\n",
       "3        1   62170730910    100.929076  4fe7b08f-72bd-42fb-b2ae-407c3249de55\n",
       "4    14938   20527255332    205.822861  d1c2a45c-c0e2-4d25-9054-36c945b9a225"
      ]
     },
     "execution_count": 12,
     "metadata": {},
     "output_type": "execute_result"
    }
   ],
   "source": [
    "import os\n",
    "import pandas as pd\n",
    "\n",
    "def get_parquet_files(root_folder):\n",
    "    parquet_files = []\n",
    "    for root, dirs, files in os.walk(root_folder):\n",
    "        for file in files:\n",
    "            if file.endswith(\".parquet\"):\n",
    "                parquet_files.append(os.path.join(root, file))\n",
    "    return parquet_files\n",
    "\n",
    "root_folder = '../test/'\n",
    "parquet_files = get_parquet_files(root_folder)\n",
    "print(parquet_files)\n",
    "df = pd.concat([pd.read_parquet(parquet_file) for parquet_file in parquet_files])\n",
    "\n",
    "df.head()"
   ]
  },
  {
   "cell_type": "code",
   "execution_count": 137,
   "metadata": {},
   "outputs": [
    {
     "name": "stdout",
     "output_type": "stream",
     "text": [
      "Index(['merchant_abn', 'name', 'tags'], dtype='object')\n"
     ]
    }
   ],
   "source": [
    "merchants = pd.read_parquet('../data/raw/tbl_merchants.parquet')\n",
    "merchants.reset_index(inplace=True)\n",
    "merchants.head()\n",
    "print(merchants.columns)"
   ]
  },
  {
   "cell_type": "code",
   "execution_count": 64,
   "metadata": {},
   "outputs": [
    {
     "data": {
      "text/html": [
       "<div>\n",
       "<style scoped>\n",
       "    .dataframe tbody tr th:only-of-type {\n",
       "        vertical-align: middle;\n",
       "    }\n",
       "\n",
       "    .dataframe tbody tr th {\n",
       "        vertical-align: top;\n",
       "    }\n",
       "\n",
       "    .dataframe thead th {\n",
       "        text-align: right;\n",
       "    }\n",
       "</style>\n",
       "<table border=\"1\" class=\"dataframe\">\n",
       "  <thead>\n",
       "    <tr style=\"text-align: right;\">\n",
       "      <th></th>\n",
       "      <th>user_id</th>\n",
       "      <th>consumer_id</th>\n",
       "    </tr>\n",
       "  </thead>\n",
       "  <tbody>\n",
       "    <tr>\n",
       "      <th>0</th>\n",
       "      <td>1</td>\n",
       "      <td>1195503</td>\n",
       "    </tr>\n",
       "    <tr>\n",
       "      <th>1</th>\n",
       "      <td>2</td>\n",
       "      <td>179208</td>\n",
       "    </tr>\n",
       "    <tr>\n",
       "      <th>2</th>\n",
       "      <td>3</td>\n",
       "      <td>1194530</td>\n",
       "    </tr>\n",
       "    <tr>\n",
       "      <th>3</th>\n",
       "      <td>4</td>\n",
       "      <td>154128</td>\n",
       "    </tr>\n",
       "    <tr>\n",
       "      <th>4</th>\n",
       "      <td>5</td>\n",
       "      <td>712975</td>\n",
       "    </tr>\n",
       "  </tbody>\n",
       "</table>\n",
       "</div>"
      ],
      "text/plain": [
       "   user_id  consumer_id\n",
       "0        1      1195503\n",
       "1        2       179208\n",
       "2        3      1194530\n",
       "3        4       154128\n",
       "4        5       712975"
      ]
     },
     "execution_count": 64,
     "metadata": {},
     "output_type": "execute_result"
    }
   ],
   "source": [
    "consumers = pd.read_parquet('../data/raw/consumer_user_details.parquet')\n",
    "consumers.head()"
   ]
  },
  {
   "cell_type": "code",
   "execution_count": 138,
   "metadata": {},
   "outputs": [
    {
     "name": "stdout",
     "output_type": "stream",
     "text": [
      "   merchant_abn                                  name  \\\n",
      "0   10023283211                         Felis Limited   \n",
      "1   10142254217              Arcu Ac Orci Corporation   \n",
      "2   10165489824                      Nunc Sed Company   \n",
      "3   10187291046  Ultricies Dignissim Lacus Foundation   \n",
      "4   10192359162                   Enim Condimentum PC   \n",
      "\n",
      "                                            category revenue_rate  \\\n",
      "0  furniture, home furnishings and equipment shop...            e   \n",
      "1  cable, satellite, and otHer pay television and...            b   \n",
      "2        jewelry, watch, clock, and silverware shops            b   \n",
      "3             wAtch, clock, and jewelry repair shops            b   \n",
      "4  music shops - musical instruments, pianos, and...            a   \n",
      "\n",
      "         take_rate  \n",
      "0  take rate: 0.18  \n",
      "1  take rate: 4.22  \n",
      "2  take rate: 4.40  \n",
      "3  take rate: 3.29  \n",
      "4  take rate: 6.33  \n",
      "Index(['merchant_abn', 'name', 'category', 'revenue_rate', 'take_rate'], dtype='object')\n"
     ]
    }
   ],
   "source": [
    "import pandas as pd\n",
    "\n",
    "def split_tags(tag):\n",
    "    if isinstance(tag, str):\n",
    "        tag = tag.replace('(', '[').replace(')', ']')\n",
    "        parts = tag.split('], [')\n",
    "        \n",
    "        parts = [p.strip('[]') for p in parts]\n",
    "        \n",
    "        if len(parts) == 3:\n",
    "            category = parts[0].strip()\n",
    "            revenue_rate = parts[1].strip()\n",
    "            take_rate = parts[2].strip()\n",
    "            return category, revenue_rate, take_rate\n",
    "    return None, None, None\n",
    "\n",
    "merchants[['category', 'revenue_rate', 'take_rate']] = merchants['tags'].apply(lambda x: pd.Series(split_tags(x)))\n",
    "\n",
    "merchants.drop(columns=['tags'], inplace=True)\n",
    "\n",
    "print(merchants.head())\n",
    "# Print the column names of the merchants DataFrame\n",
    "print(merchants.columns)\n"
   ]
  },
  {
   "cell_type": "code",
   "execution_count": 116,
   "metadata": {},
   "outputs": [
    {
     "data": {
      "image/png": "[encoded data removed]",
      "text/plain": [
       "<Figure size 640x480 with 1 Axes>"
      ]
     },
     "metadata": {},
     "output_type": "display_data"
    },
    {
     "name": "stdout",
     "output_type": "stream",
     "text": [
      "name            0\n",
      "category        0\n",
      "revenue_rate    0\n",
      "take_rate       0\n",
      "dtype: int64\n",
      "user_id         0\n",
      "merchant_abn    0\n",
      "dollar_value    0\n",
      "order_id        0\n",
      "dtype: int64\n",
      "user_id        0\n",
      "consumer_id    0\n",
      "dtype: int64\n"
     ]
    }
   ],
   "source": [
    "import pandas as pd\n",
    "import matplotlib.pyplot as plt\n",
    "import seaborn as sns\n",
    "\n",
    "merchants_sorted = merchants.sort_values('revenue_rate')\n",
    "sns.histplot(merchants_sorted['revenue_rate'], bins=20)\n",
    "plt.title('Revenue Distribution')\n",
    "plt.show()\n",
    "\n",
    "print(merchants.isnull().sum())\n",
    "print(df.isnull().sum())\n",
    "print(consumers.isnull().sum())"
   ]
  },
  {
   "cell_type": "code",
   "execution_count": 139,
   "metadata": {},
   "outputs": [
    {
     "name": "stdout",
     "output_type": "stream",
     "text": [
      "   merchant_abn                                  name  \\\n",
      "0   10023283211                         Felis Limited   \n",
      "1   10142254217              Arcu Ac Orci Corporation   \n",
      "2   10165489824                      Nunc Sed Company   \n",
      "3   10187291046  Ultricies Dignissim Lacus Foundation   \n",
      "4   10192359162                   Enim Condimentum PC   \n",
      "\n",
      "                                            category revenue_rate  \\\n",
      "0  furniture, home furnishings and equipment shop...            e   \n",
      "1  cable, satellite, and otHer pay television and...            b   \n",
      "2        jewelry, watch, clock, and silverware shops            b   \n",
      "3             wAtch, clock, and jewelry repair shops            b   \n",
      "4  music shops - musical instruments, pianos, and...            a   \n",
      "\n",
      "         take_rate order_datetime  fraud_probability  \n",
      "0  take rate: 0.18            NaN                NaN  \n",
      "1  take rate: 4.22            NaN                NaN  \n",
      "2  take rate: 4.40            NaN                NaN  \n",
      "3  take rate: 3.29            NaN                NaN  \n",
      "4  take rate: 6.33            NaN                NaN  \n"
     ]
    }
   ],
   "source": [
    "merged_merchants = merchants.merge(merchant_fraud, on='merchant_abn', how='left')\n",
    "\n",
    "print(merged_merchants.head())"
   ]
  },
  {
   "cell_type": "code",
   "execution_count": 140,
   "metadata": {},
   "outputs": [
    {
     "name": "stdout",
     "output_type": "stream",
     "text": [
      "Null Count:\n",
      "merchant_abn            0\n",
      "name                    0\n",
      "category                0\n",
      "revenue_rate            0\n",
      "take_rate               0\n",
      "order_datetime       3978\n",
      "fraud_probability    3978\n",
      "dtype: int64\n",
      "\n",
      "Non-Null Count:\n",
      "merchant_abn         4073\n",
      "name                 4073\n",
      "category             4073\n",
      "revenue_rate         4073\n",
      "take_rate            4073\n",
      "order_datetime         95\n",
      "fraud_probability      95\n",
      "dtype: int64\n"
     ]
    }
   ],
   "source": [
    "null_counts = merged_merchants.isnull().sum()\n",
    "non_null_counts = merged_merchants.notnull().sum()\n",
    "\n",
    "print(\"Null Count:\")\n",
    "print(null_counts)\n",
    "print(\"\\nNon-Null Count:\")\n",
    "print(non_null_counts)"
   ]
  },
  {
   "cell_type": "code",
   "execution_count": 109,
   "metadata": {},
   "outputs": [
    {
     "name": "stdout",
     "output_type": "stream",
     "text": [
      "   consumer_id                   name                        address state  \\\n",
      "0      1195503       Yolanda Williams     413 Haney Gardens Apt. 742    WA   \n",
      "1       179208             Mary Smith                3764 Amber Oval   NSW   \n",
      "2       179208             Mary Smith                3764 Amber Oval   NSW   \n",
      "3      1194530          Jill Jones MD             40693 Henry Greens    NT   \n",
      "4       154128        Lindsay Jimenez      00653 Davenport Crossroad   NSW   \n",
      "5       712975      Rebecca Blanchard  9271 Michael Manors Suite 651    WA   \n",
      "6       712975      Rebecca Blanchard  9271 Michael Manors Suite 651    WA   \n",
      "7       712975      Rebecca Blanchard  9271 Michael Manors Suite 651    WA   \n",
      "8       407340          Karen Chapman    2706 Stewart Oval Suite 588   NSW   \n",
      "9       511685           Andrea Jones              122 Brandon Cliff   QLD   \n",
      "10      448088       Stephen Williams    6804 Wright Crest Suite 311    WA   \n",
      "11      650435        Stephanie Reyes     5813 Denise Land Suite 690   NSW   \n",
      "12      650435        Stephanie Reyes     5813 Denise Land Suite 690   NSW   \n",
      "13     1058499       Jillian Gonzales      461 Ryan Common Suite 734   VIC   \n",
      "14      428325           Eugene Lucas    33983 Kevin Drive Suite 628   VIC   \n",
      "15     1494640          Melissa Jones            13706 Kimberly Port    WA   \n",
      "16     1146717       Angela Brown PhD      0236 Mills Land Suite 203   QLD   \n",
      "17     1146717       Angela Brown PhD      0236 Mills Land Suite 203   QLD   \n",
      "18     1343547           Lance Butler              8943 Kenneth Camp   VIC   \n",
      "19     1343547           Lance Butler              8943 Kenneth Camp   VIC   \n",
      "20     1463076            Paul Abbott                60495 Ryan Hill   QLD   \n",
      "21     1356405             Tracy Hart   9671 Jacob Harbors Suite 431   NSW   \n",
      "22     1331093          Alyssa Wilson             44353 Nathan Ridge   VIC   \n",
      "23       80965        Michael Burnett              89400 Torres Fort   NSW   \n",
      "24     1226530      Victoria Gonzalez   68657 Johnson Glen Suite 266   TAS   \n",
      "25     1390367           James Norris              790 Ramos Landing   VIC   \n",
      "26     1390367           James Norris              790 Ramos Landing   VIC   \n",
      "27      298861            Wendy Singh    903 Holder Freeway Apt. 374    SA   \n",
      "28      298861            Wendy Singh    903 Holder Freeway Apt. 374    SA   \n",
      "29      738803  Christopher Whitehead       04814 Erin Port Apt. 649   VIC   \n",
      "\n",
      "   postcode       gender  user_id order_datetime  fraud_probability  \n",
      "0      6935       Female      1.0     2022-02-20           9.805431  \n",
      "1      2782       Female      2.0     2021-09-25          10.069851  \n",
      "2      2782       Female      2.0     2021-08-30           9.599514  \n",
      "3       862       Female      3.0     2021-11-03           8.300636  \n",
      "4      2780       Female      4.0     2021-10-09           9.633302  \n",
      "5      6355       Female      5.0     2022-01-11          27.496187  \n",
      "6      6355       Female      5.0     2021-10-04          10.868365  \n",
      "7      6355       Female      5.0     2022-02-08           9.020224  \n",
      "8      2033       Female      6.0     2021-12-12          10.459280  \n",
      "9      4606       Female      NaN            NaN                NaN  \n",
      "10     6056         Male      NaN            NaN                NaN  \n",
      "11     2482       Female      9.0     2021-12-13          10.580553  \n",
      "12     2482       Female      9.0     2021-11-17           8.531262  \n",
      "13     3220       Female      NaN            NaN                NaN  \n",
      "14     3063  Undisclosed      NaN            NaN                NaN  \n",
      "15     6743       Female      NaN            NaN                NaN  \n",
      "16     4673       Female     13.0     2021-12-06           9.213002  \n",
      "17     4673       Female     13.0     2021-07-17           9.050002  \n",
      "18     3332         Male     14.0     2021-04-20          17.698748  \n",
      "19     3332         Male     14.0     2021-12-03          16.605683  \n",
      "20     4512         Male     15.0     2021-11-27          16.999590  \n",
      "21     2452         Male     16.0     2021-11-27          21.623529  \n",
      "22     3719       Female     17.0     2022-02-14           9.518525  \n",
      "23     1109         Male     18.0     2021-11-30          21.286573  \n",
      "24     7276       Female     19.0     2021-11-27          14.310022  \n",
      "25     3234  Undisclosed     20.0     2021-10-18           9.210458  \n",
      "26     3234  Undisclosed     20.0     2021-09-20           9.032297  \n",
      "27     5353       Female     21.0     2021-06-08          21.675588  \n",
      "28     5353       Female     21.0     2021-09-08          10.428537  \n",
      "29     3378         Male     22.0     2021-11-03          10.569931  \n"
     ]
    }
   ],
   "source": [
    "import pandas as pd\n",
    "\n",
    "tbl_consumer = pd.read_csv('../data/raw/tbl_consumer.csv')\n",
    "\n",
    "tbl_consumer[['name', 'address', 'state', 'postcode', 'gender', 'consumer_id']] = tbl_consumer['name|address|state|postcode|gender|consumer_id'].str.split('|', expand=True)\n",
    "\n",
    "tbl_consumer.drop(columns=['name|address|state|postcode|gender|consumer_id'], inplace=True)\n",
    "\n",
    "tbl_consumer['consumer_id'] = tbl_consumer['consumer_id'].astype(str)\n",
    "consumers['consumer_id'] = consumers['consumer_id'].astype(str)\n",
    "\n",
    "merged_consumer = consumers.merge(tbl_consumer, on='consumer_id', how='left')\n",
    "\n",
    "consumer_user_details = pd.read_parquet('../data/raw/consumer_user_details.parquet')\n",
    "\n",
    "consumer_user_details['consumer_id'] = consumer_user_details['consumer_id'].astype(str)\n",
    "\n",
    "merged_consumer = merged_consumer.merge(consumer_user_details, on='consumer_id', how='left')\n",
    "\n",
    "consumer_fraud = pd.read_csv('../data/raw/consumer_fraud_probability.csv')\n",
    "\n",
    "merged_consumer = merged_consumer.merge(consumer_fraud, left_on='user_id_x', right_on='user_id', how='left')\n",
    "\n",
    "merged_consumer.drop(columns=['user_id_y', 'user_id_x'], inplace=True)\n",
    "\n",
    "print(merged_consumer.head(30))"
   ]
  }
 ],
 "metadata": {
  "kernelspec": {
   "display_name": "Python 3 (ipykernel)",
   "language": "python",
   "name": "python3"
  },
  "language_info": {
   "codemirror_mode": {
    "name": "ipython",
    "version": 3
   },
   "file_extension": ".py",
   "mimetype": "text/x-python",
   "name": "python",
   "nbconvert_exporter": "python",
   "pygments_lexer": "ipython3",
   "version": "3.11.7"
  }
 },
 "nbformat": 4,
 "nbformat_minor": 4
}
