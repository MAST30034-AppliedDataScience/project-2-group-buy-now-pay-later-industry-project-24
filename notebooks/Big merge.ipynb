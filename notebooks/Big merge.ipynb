{
 "cells": [
  {
   "cell_type": "code",
   "execution_count": 20,
   "id": "8150e478-9861-4edc-bd8e-f28165568a03",
   "metadata": {},
   "outputs": [],
   "source": [
    "import pandas as pd\n",
    "\n",
    "merged_merchant_with_categories = pd.read_parquet('../data/curated/merged_merchant_info_with_categories.parquet')"
   ]
  },
  {
   "cell_type": "code",
   "execution_count": 21,
   "id": "7202b1be-33f7-49ca-90a9-0cdbc1db0b6c",
   "metadata": {},
   "outputs": [
    {
     "data": {
      "text/html": [
       "<div>\n",
       "<style scoped>\n",
       "    .dataframe tbody tr th:only-of-type {\n",
       "        vertical-align: middle;\n",
       "    }\n",
       "\n",
       "    .dataframe tbody tr th {\n",
       "        vertical-align: top;\n",
       "    }\n",
       "\n",
       "    .dataframe thead th {\n",
       "        text-align: right;\n",
       "    }\n",
       "</style>\n",
       "<table border=\"1\" class=\"dataframe\">\n",
       "  <thead>\n",
       "    <tr style=\"text-align: right;\">\n",
       "      <th></th>\n",
       "      <th>merchant_abn</th>\n",
       "      <th>category_label</th>\n",
       "      <th>take_rate_value</th>\n",
       "      <th>fraud_probability</th>\n",
       "      <th>average_monthly_revenue</th>\n",
       "      <th>average_monthly_transactions</th>\n",
       "    </tr>\n",
       "  </thead>\n",
       "  <tbody>\n",
       "    <tr>\n",
       "      <th>0</th>\n",
       "      <td>10023283211</td>\n",
       "      <td>Furniture and Home Furnishing</td>\n",
       "      <td>0.18</td>\n",
       "      <td>0.0</td>\n",
       "      <td>216.736529</td>\n",
       "      <td>155.285714</td>\n",
       "    </tr>\n",
       "    <tr>\n",
       "      <th>21</th>\n",
       "      <td>10142254217</td>\n",
       "      <td>Media and Technology, Services</td>\n",
       "      <td>4.22</td>\n",
       "      <td>0.0</td>\n",
       "      <td>37.716001</td>\n",
       "      <td>144.571429</td>\n",
       "    </tr>\n",
       "    <tr>\n",
       "      <th>42</th>\n",
       "      <td>10165489824</td>\n",
       "      <td>Retail Goods</td>\n",
       "      <td>4.40</td>\n",
       "      <td>0.0</td>\n",
       "      <td>11236.094771</td>\n",
       "      <td>0.454545</td>\n",
       "    </tr>\n",
       "    <tr>\n",
       "      <th>53</th>\n",
       "      <td>10187291046</td>\n",
       "      <td>Automotives, Retail Goods, Services</td>\n",
       "      <td>3.29</td>\n",
       "      <td>0.0</td>\n",
       "      <td>119.526004</td>\n",
       "      <td>16.800000</td>\n",
       "    </tr>\n",
       "    <tr>\n",
       "      <th>73</th>\n",
       "      <td>10192359162</td>\n",
       "      <td>Retail Goods</td>\n",
       "      <td>6.33</td>\n",
       "      <td>0.0</td>\n",
       "      <td>462.329450</td>\n",
       "      <td>19.250000</td>\n",
       "    </tr>\n",
       "  </tbody>\n",
       "</table>\n",
       "</div>"
      ],
      "text/plain": [
       "    merchant_abn                       category_label  take_rate_value  \\\n",
       "0    10023283211        Furniture and Home Furnishing             0.18   \n",
       "21   10142254217       Media and Technology, Services             4.22   \n",
       "42   10165489824                         Retail Goods             4.40   \n",
       "53   10187291046  Automotives, Retail Goods, Services             3.29   \n",
       "73   10192359162                         Retail Goods             6.33   \n",
       "\n",
       "    fraud_probability  average_monthly_revenue  average_monthly_transactions  \n",
       "0                 0.0               216.736529                    155.285714  \n",
       "21                0.0                37.716001                    144.571429  \n",
       "42                0.0             11236.094771                      0.454545  \n",
       "53                0.0               119.526004                     16.800000  \n",
       "73                0.0               462.329450                     19.250000  "
      ]
     },
     "execution_count": 21,
     "metadata": {},
     "output_type": "execute_result"
    }
   ],
   "source": [
    "merged_merchant_with_categories.head()"
   ]
  },
  {
   "cell_type": "code",
   "execution_count": 32,
   "id": "5b7541ae-ce05-41e9-8bd1-2716ebfe497d",
   "metadata": {},
   "outputs": [],
   "source": [
    "consumer_tbl = pd.read_csv('../data/raw/tbl_consumer.csv', delimiter='|')\n",
    "userdf = pd.read_parquet('../data/raw/consumer_user_details.parquet')\n",
    "merged = consumer_tbl.merge(userdf, on='consumer_id', how='left')"
   ]
  },
  {
   "cell_type": "code",
   "execution_count": 33,
   "id": "c76e880d-5557-478f-ae67-e44daa07f4e9",
   "metadata": {},
   "outputs": [],
   "source": [
    "test_df = pd.read_parquet('../test/')"
   ]
  },
  {
   "cell_type": "code",
   "execution_count": 49,
   "id": "14beabc8-d4c4-40ca-9680-3c99fdc20f0d",
   "metadata": {},
   "outputs": [],
   "source": [
    "merged_with_test = merged.merge(test_df, on='user_id', how='left')\n",
    "merged_with_test_dropped = merged_with_test.dropna()"
   ]
  },
  {
   "cell_type": "code",
   "execution_count": 50,
   "id": "90ae3696-97f9-4f6e-8b20-afeed2c80a9b",
   "metadata": {},
   "outputs": [],
   "source": [
    "# Dropped na since no one has bought from these merchants\n",
    "merged_with_abn = merged_with_test_dropped.merge(merged_merchant_with_categories, on='merchant_abn', how='left')\n",
    "merged_with_abn_dropped = merged_with_abn.dropna()"
   ]
  },
  {
   "cell_type": "code",
   "execution_count": 60,
   "id": "63eccb5a-c339-400a-a546-6ca0c87c892b",
   "metadata": {},
   "outputs": [],
   "source": [
    "columns_to_drop = ['name', 'address', 'state', 'gender', 'dollar_value', 'order_id', 'order_datetime', 'category_label']\n",
    "\n",
    "cleaned_merged_with_abn = merged_with_abn_dropped.drop(columns=columns_to_drop)"
   ]
  },
  {
   "cell_type": "code",
   "execution_count": 68,
   "id": "09860abf-f083-41fb-b40f-2528463e15ac",
   "metadata": {},
   "outputs": [
    {
     "name": "stdout",
     "output_type": "stream",
     "text": [
      "     postcode  consumer_id  user_id  merchant_abn  take_rate_value  \\\n",
      "553      2782       179208        2  8.077982e+10             4.71   \n",
      "554      2782       179208        2  2.864764e+10             3.32   \n",
      "555      2782       179208        2  3.581349e+10             5.66   \n",
      "556      2782       179208        2  3.809009e+10             3.24   \n",
      "557      2782       179208        2  3.897149e+10             3.61   \n",
      "\n",
      "     fraud_probability  average_monthly_revenue  average_monthly_transactions  \\\n",
      "553                0.0                34.567393                   1735.142857   \n",
      "554                0.0               263.829390                     23.476190   \n",
      "555                0.0                45.885892                    182.761905   \n",
      "556                0.0               172.158074                   2467.428571   \n",
      "557                0.0               166.642856                    269.761905   \n",
      "\n",
      "     Median_age_persons  Median_mortgage_repay_monthly  Median_rent_weekly  \\\n",
      "553                50.0                         2080.0               430.0   \n",
      "554                50.0                         2080.0               430.0   \n",
      "555                50.0                         2080.0               430.0   \n",
      "556                50.0                         2080.0               430.0   \n",
      "557                50.0                         2080.0               430.0   \n",
      "\n",
      "     Median_tot_hhd_inc_weekly  \n",
      "553                     1528.0  \n",
      "554                     1528.0  \n",
      "555                     1528.0  \n",
      "556                     1528.0  \n",
      "557                     1528.0  \n"
     ]
    },
    {
     "data": {
      "text/plain": [
       "postcode                         0\n",
       "consumer_id                      0\n",
       "user_id                          0\n",
       "merchant_abn                     0\n",
       "take_rate_value                  0\n",
       "fraud_probability                0\n",
       "average_monthly_revenue          0\n",
       "average_monthly_transactions     0\n",
       "Median_age_persons               0\n",
       "Median_mortgage_repay_monthly    0\n",
       "Median_rent_weekly               0\n",
       "Median_tot_hhd_inc_weekly        0\n",
       "dtype: int64"
      ]
     },
     "execution_count": 68,
     "metadata": {},
     "output_type": "execute_result"
    }
   ],
   "source": [
    "census_data = pd.read_csv('../data/curated/2021Census_G02_AUST_POA_curated.csv')\n",
    "census_data = census_data.rename(columns={'POA_CODE_2021': 'postcode'})\n",
    "merged_with_census = cleaned_merged_with_abn.merge(census_data, on='postcode', how='left')\n",
    "merged_with_census_dropped = merged_with_census.dropna()\n",
    "print(merged_with_census_dropped.head())\n",
    "merged_with_census_dropped.isnull().sum()"
   ]
  }
 ],
 "metadata": {
  "kernelspec": {
   "display_name": "Python 3 (ipykernel)",
   "language": "python",
   "name": "python3"
  },
  "language_info": {
   "codemirror_mode": {
    "name": "ipython",
    "version": 3
   },
   "file_extension": ".py",
   "mimetype": "text/x-python",
   "name": "python",
   "nbconvert_exporter": "python",
   "pygments_lexer": "ipython3",
   "version": "3.11.7"
  }
 },
 "nbformat": 4,
 "nbformat_minor": 5
}
